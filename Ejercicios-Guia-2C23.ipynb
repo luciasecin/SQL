{
    "metadata": {
        "kernelspec": {
            "name": "SQL",
            "display_name": "SQL",
            "language": "sql"
        },
        "language_info": {
            "name": "sql",
            "version": ""
        }
    },
    "nbformat_minor": 2,
    "nbformat": 4,
    "cells": [
        {
            "cell_type": "code",
            "source": [
                "-- Mediante SQL indicar cuantos ´albumes tiene cada PlayList. \r\n",
                "-- Debe devolver nombre de la PlayList y cantidad de ´albumes.\r\n",
                "\r\n",
                "SELECT p.Name as 'Playlist Name', COUNT(DISTINCT al.AlbumId) as 'Albums'  \r\n",
                "FROM Playlist p\r\n",
                "LEFT OUTER JOIN PlaylistTrack ptr ON ptr.PlaylistId = p.PlaylistId\r\n",
                "LEFT OUTER JOIN Track t ON ptr.TrackId = t.TrackId\r\n",
                "LEFT OUTER JOIN Album al ON t.AlbumId = al.AlbumId\r\n",
                "GROUP BY p.PlaylistId, p.Name\r\n",
                "ORDER BY Albums DESC"
            ],
            "metadata": {
                "language": "sql",
                "azdata_cell_guid": "dcf5fe41-fcb4-45e8-91aa-697e04310923"
            },
            "outputs": [
                {
                    "output_type": "display_data",
                    "data": {
                        "text/html": "Warning: Null value is eliminated by an aggregate or other SET operation."
                    },
                    "metadata": {}
                },
                {
                    "output_type": "display_data",
                    "data": {
                        "text/html": "(18 rows affected)"
                    },
                    "metadata": {}
                },
                {
                    "output_type": "display_data",
                    "data": {
                        "text/html": "Total execution time: 00:00:00.024"
                    },
                    "metadata": {}
                },
                {
                    "output_type": "execute_result",
                    "metadata": {},
                    "execution_count": 51,
                    "data": {
                        "application/vnd.dataresource+json": {
                            "schema": {
                                "fields": [
                                    {
                                        "name": "Playlist Name"
                                    },
                                    {
                                        "name": "Albums"
                                    }
                                ]
                            },
                            "data": [
                                {
                                    "Playlist Name": "Music",
                                    "Albums": "335"
                                },
                                {
                                    "Playlist Name": "Music",
                                    "Albums": "335"
                                },
                                {
                                    "Playlist Name": "90’s Music",
                                    "Albums": "151"
                                },
                                {
                                    "Playlist Name": "Classical",
                                    "Albums": "73"
                                },
                                {
                                    "Playlist Name": "Classical 101 - Deep Cuts",
                                    "Albums": "25"
                                },
                                {
                                    "Playlist Name": "Classical 101 - Next Steps",
                                    "Albums": "25"
                                },
                                {
                                    "Playlist Name": "Classical 101 - The Basics",
                                    "Albums": "25"
                                },
                                {
                                    "Playlist Name": "Heavy Metal Classic",
                                    "Albums": "19"
                                },
                                {
                                    "Playlist Name": "Brazilian Music",
                                    "Albums": "14"
                                },
                                {
                                    "Playlist Name": "TV Shows",
                                    "Albums": "12"
                                },
                                {
                                    "Playlist Name": "TV Shows",
                                    "Albums": "12"
                                },
                                {
                                    "Playlist Name": "Grunge",
                                    "Albums": "7"
                                },
                                {
                                    "Playlist Name": "On-The-Go 1",
                                    "Albums": "1"
                                },
                                {
                                    "Playlist Name": "Music Videos",
                                    "Albums": "1"
                                },
                                {
                                    "Playlist Name": "Audiobooks",
                                    "Albums": "0"
                                },
                                {
                                    "Playlist Name": "Movies",
                                    "Albums": "0"
                                },
                                {
                                    "Playlist Name": "Audiobooks",
                                    "Albums": "0"
                                },
                                {
                                    "Playlist Name": "Movies",
                                    "Albums": "0"
                                }
                            ]
                        },
                        "text/html": [
                            "<table>",
                            "<tr><th>Playlist Name</th><th>Albums</th></tr>",
                            "<tr><td>Music</td><td>335</td></tr>",
                            "<tr><td>Music</td><td>335</td></tr>",
                            "<tr><td>90’s Music</td><td>151</td></tr>",
                            "<tr><td>Classical</td><td>73</td></tr>",
                            "<tr><td>Classical 101 - Deep Cuts</td><td>25</td></tr>",
                            "<tr><td>Classical 101 - Next Steps</td><td>25</td></tr>",
                            "<tr><td>Classical 101 - The Basics</td><td>25</td></tr>",
                            "<tr><td>Heavy Metal Classic</td><td>19</td></tr>",
                            "<tr><td>Brazilian Music</td><td>14</td></tr>",
                            "<tr><td>TV Shows</td><td>12</td></tr>",
                            "<tr><td>TV Shows</td><td>12</td></tr>",
                            "<tr><td>Grunge</td><td>7</td></tr>",
                            "<tr><td>On-The-Go 1</td><td>1</td></tr>",
                            "<tr><td>Music Videos</td><td>1</td></tr>",
                            "<tr><td>Audiobooks</td><td>0</td></tr>",
                            "<tr><td>Movies</td><td>0</td></tr>",
                            "<tr><td>Audiobooks</td><td>0</td></tr>",
                            "<tr><td>Movies</td><td>0</td></tr>",
                            "</table>"
                        ]
                    }
                }
            ],
            "execution_count": 51
        },
        {
            "cell_type": "code",
            "source": [
                "-- Mediante SQL listar los nombres de los empleados (Employee) mayores de 25 a˜nos\r\n",
                "-- que tienen al menos una factura (Invoice) con m´as de 10 ´ıtems.\r\n",
                "\r\n",
                "SELECT e.FirstName, e.LastName, SUM(il.Quantity) AS 'Items'\r\n",
                "FROM Employee e\r\n",
                "INNER JOIN Customer c ON c.SupportRepId = e.EmployeeId\r\n",
                "INNER JOIN Invoice i ON i.CustomerId = c.CustomerId\r\n",
                "INNER JOIN InvoiceLine il ON il.InvoiceId = i.InvoiceId\r\n",
                "WHERE DATEDIFF(year, e.BirthDate, GETDATE()) > 25\r\n",
                "GROUP BY e.EmployeeId, e.FirstName, e.LastName\r\n",
                "HAVING SUM(il.Quantity) > 10\r\n",
                ""
            ],
            "metadata": {
                "language": "sql",
                "azdata_cell_guid": "89e9cf5a-ce51-4c58-8fcb-e5df7921822e"
            },
            "outputs": [
                {
                    "output_type": "display_data",
                    "data": {
                        "text/html": "(3 rows affected)"
                    },
                    "metadata": {}
                },
                {
                    "output_type": "display_data",
                    "data": {
                        "text/html": "Total execution time: 00:00:00.010"
                    },
                    "metadata": {}
                },
                {
                    "output_type": "execute_result",
                    "metadata": {},
                    "execution_count": 36,
                    "data": {
                        "application/vnd.dataresource+json": {
                            "schema": {
                                "fields": [
                                    {
                                        "name": "FirstName"
                                    },
                                    {
                                        "name": "LastName"
                                    }
                                ]
                            },
                            "data": [
                                {
                                    "FirstName": "Jane",
                                    "LastName": "Peacock"
                                },
                                {
                                    "FirstName": "Margaret",
                                    "LastName": "Park"
                                },
                                {
                                    "FirstName": "Steve",
                                    "LastName": "Johnson"
                                }
                            ]
                        },
                        "text/html": [
                            "<table>",
                            "<tr><th>FirstName</th><th>LastName</th></tr>",
                            "<tr><td>Jane</td><td>Peacock</td></tr>",
                            "<tr><td>Margaret</td><td>Park</td></tr>",
                            "<tr><td>Steve</td><td>Johnson</td></tr>",
                            "</table>"
                        ]
                    }
                }
            ],
            "execution_count": 36
        },
        {
            "cell_type": "code",
            "source": [
                "-- Listar para cada cliente (Customer ) las facturas (Invoice) que tiene. \r\n",
                "-- Se debera mostrar el nombre del cliente, la fecha y numero de factura\r\n",
                "-- (InvoiceDate e InvoiceID) incluyendo en el listado los clientes que no tienen\r\n",
                "-- ninguna factura.\r\n",
                "\r\n",
                "SELECT c.FirstName, c.LastName, i.InvoiceDate, i.InvoiceId\r\n",
                "FROM Customer c\r\n",
                "LEFT OUTER JOIN Invoice i ON i.CustomerId = c.CustomerId\r\n",
                "ORDER BY c.FirstName, c.LastName, i.InvoiceId\r\n",
                "\r\n",
                "-- no hay cliente sin factura je"
            ],
            "metadata": {
                "azdata_cell_guid": "75ef9224-86a2-4aa0-9e91-c244c2d2b2a8",
                "language": "sql",
                "tags": []
            },
            "outputs": [
                {
                    "output_type": "display_data",
                    "data": {
                        "text/html": "(412 rows affected)"
                    },
                    "metadata": {}
                },
                {
                    "output_type": "display_data",
                    "data": {
                        "text/html": "Total execution time: 00:00:00.023"
                    },
                    "metadata": {}
                },
                {
                    "output_type": "execute_result",
                    "metadata": {},
                    "execution_count": 40,
                    "data": {
                        "application/vnd.dataresource+json": {
                            "schema": {
                                "fields": [
                                    {
                                        "name": "FirstName"
                                    },
                                    {
                                        "name": "LastName"
                                    },
                                    {
                                        "name": "InvoiceDate"
                                    },
                                    {
                                        "name": "InvoiceId"
                                    }
                                ]
                            },
                            "data": [
                                {
                                    "FirstName": "Aaron",
                                    "LastName": "Mitchell",
                                    "InvoiceDate": "2009-08-06 00:00:00.000",
                                    "InvoiceId": "50"
                                },
                                {
                                    "FirstName": "Aaron",
                                    "LastName": "Mitchell",
                                    "InvoiceDate": "2009-09-16 00:00:00.000",
                                    "InvoiceId": "61"
                                },
                                {
                                    "FirstName": "Aaron",
                                    "LastName": "Mitchell",
                                    "InvoiceDate": "2010-05-17 00:00:00.000",
                                    "InvoiceId": "116"
                                },
                                {
                                    "FirstName": "Aaron",
                                    "LastName": "Mitchell",
                                    "InvoiceDate": "2011-12-22 00:00:00.000",
                                    "InvoiceId": "245"
                                },
                                {
                                    "FirstName": "Aaron",
                                    "LastName": "Mitchell",
                                    "InvoiceDate": "2012-03-25 00:00:00.000",
                                    "InvoiceId": "268"
                                },
                                {
                                    "FirstName": "Aaron",
                                    "LastName": "Mitchell",
                                    "InvoiceDate": "2012-06-27 00:00:00.000",
                                    "InvoiceId": "290"
                                },
                                {
                                    "FirstName": "Aaron",
                                    "LastName": "Mitchell",
                                    "InvoiceDate": "2013-02-15 00:00:00.000",
                                    "InvoiceId": "342"
                                },
                                {
                                    "FirstName": "Alexandre",
                                    "LastName": "Rocha",
                                    "InvoiceDate": "2009-09-06 00:00:00.000",
                                    "InvoiceId": "57"
                                },
                                {
                                    "FirstName": "Alexandre",
                                    "LastName": "Rocha",
                                    "InvoiceDate": "2009-10-17 00:00:00.000",
                                    "InvoiceId": "68"
                                },
                                {
                                    "FirstName": "Alexandre",
                                    "LastName": "Rocha",
                                    "InvoiceDate": "2010-06-17 00:00:00.000",
                                    "InvoiceId": "123"
                                },
                                {
                                    "FirstName": "Alexandre",
                                    "LastName": "Rocha",
                                    "InvoiceDate": "2012-01-22 00:00:00.000",
                                    "InvoiceId": "252"
                                },
                                {
                                    "FirstName": "Alexandre",
                                    "LastName": "Rocha",
                                    "InvoiceDate": "2012-04-25 00:00:00.000",
                                    "InvoiceId": "275"
                                },
                                {
                                    "FirstName": "Alexandre",
                                    "LastName": "Rocha",
                                    "InvoiceDate": "2012-07-28 00:00:00.000",
                                    "InvoiceId": "297"
                                },
                                {
                                    "FirstName": "Alexandre",
                                    "LastName": "Rocha",
                                    "InvoiceDate": "2013-03-18 00:00:00.000",
                                    "InvoiceId": "349"
                                },
                                {
                                    "FirstName": "Astrid",
                                    "LastName": "Gruber",
                                    "InvoiceDate": "2009-12-08 00:00:00.000",
                                    "InvoiceId": "78"
                                },
                                {
                                    "FirstName": "Astrid",
                                    "LastName": "Gruber",
                                    "InvoiceDate": "2010-01-18 00:00:00.000",
                                    "InvoiceId": "89"
                                },
                                {
                                    "FirstName": "Astrid",
                                    "LastName": "Gruber",
                                    "InvoiceDate": "2010-09-18 00:00:00.000",
                                    "InvoiceId": "144"
                                },
                                {
                                    "FirstName": "Astrid",
                                    "LastName": "Gruber",
                                    "InvoiceDate": "2012-04-24 00:00:00.000",
                                    "InvoiceId": "273"
                                },
                                {
                                    "FirstName": "Astrid",
                                    "LastName": "Gruber",
                                    "InvoiceDate": "2012-07-27 00:00:00.000",
                                    "InvoiceId": "296"
                                },
                                {
                                    "FirstName": "Astrid",
                                    "LastName": "Gruber",
                                    "InvoiceDate": "2012-10-29 00:00:00.000",
                                    "InvoiceId": "318"
                                },
                                {
                                    "FirstName": "Astrid",
                                    "LastName": "Gruber",
                                    "InvoiceDate": "2013-06-19 00:00:00.000",
                                    "InvoiceId": "370"
                                },
                                {
                                    "FirstName": "Bjørn",
                                    "LastName": "Hansen",
                                    "InvoiceDate": "2009-01-02 00:00:00.000",
                                    "InvoiceId": "2"
                                },
                                {
                                    "FirstName": "Bjørn",
                                    "LastName": "Hansen",
                                    "InvoiceDate": "2009-04-06 00:00:00.000",
                                    "InvoiceId": "24"
                                },
                                {
                                    "FirstName": "Bjørn",
                                    "LastName": "Hansen",
                                    "InvoiceDate": "2009-11-25 00:00:00.000",
                                    "InvoiceId": "76"
                                },
                                {
                                    "FirstName": "Bjørn",
                                    "LastName": "Hansen",
                                    "InvoiceDate": "2011-05-19 00:00:00.000",
                                    "InvoiceId": "197"
                                },
                                {
                                    "FirstName": "Bjørn",
                                    "LastName": "Hansen",
                                    "InvoiceDate": "2011-06-29 00:00:00.000",
                                    "InvoiceId": "208"
                                },
                                {
                                    "FirstName": "Bjørn",
                                    "LastName": "Hansen",
                                    "InvoiceDate": "2012-02-27 00:00:00.000",
                                    "InvoiceId": "263"
                                },
                                {
                                    "FirstName": "Bjørn",
                                    "LastName": "Hansen",
                                    "InvoiceDate": "2013-10-03 00:00:00.000",
                                    "InvoiceId": "392"
                                },
                                {
                                    "FirstName": "Camille",
                                    "LastName": "Bernard",
                                    "InvoiceDate": "2010-04-11 00:00:00.000",
                                    "InvoiceId": "105"
                                },
                                {
                                    "FirstName": "Camille",
                                    "LastName": "Bernard",
                                    "InvoiceDate": "2010-07-14 00:00:00.000",
                                    "InvoiceId": "128"
                                },
                                {
                                    "FirstName": "Camille",
                                    "LastName": "Bernard",
                                    "InvoiceDate": "2010-10-16 00:00:00.000",
                                    "InvoiceId": "150"
                                },
                                {
                                    "FirstName": "Camille",
                                    "LastName": "Bernard",
                                    "InvoiceDate": "2011-06-06 00:00:00.000",
                                    "InvoiceId": "202"
                                },
                                {
                                    "FirstName": "Camille",
                                    "LastName": "Bernard",
                                    "InvoiceDate": "2012-11-27 00:00:00.000",
                                    "InvoiceId": "323"
                                },
                                {
                                    "FirstName": "Camille",
                                    "LastName": "Bernard",
                                    "InvoiceDate": "2013-01-07 00:00:00.000",
                                    "InvoiceId": "334"
                                },
                                {
                                    "FirstName": "Camille",
                                    "LastName": "Bernard",
                                    "InvoiceDate": "2013-09-07 00:00:00.000",
                                    "InvoiceId": "389"
                                },
                                {
                                    "FirstName": "Daan",
                                    "LastName": "Peeters",
                                    "InvoiceDate": "2009-01-03 00:00:00.000",
                                    "InvoiceId": "3"
                                },
                                {
                                    "FirstName": "Daan",
                                    "LastName": "Peeters",
                                    "InvoiceDate": "2009-08-24 00:00:00.000",
                                    "InvoiceId": "55"
                                },
                                {
                                    "FirstName": "Daan",
                                    "LastName": "Peeters",
                                    "InvoiceDate": "2011-02-15 00:00:00.000",
                                    "InvoiceId": "176"
                                },
                                {
                                    "FirstName": "Daan",
                                    "LastName": "Peeters",
                                    "InvoiceDate": "2011-03-28 00:00:00.000",
                                    "InvoiceId": "187"
                                },
                                {
                                    "FirstName": "Daan",
                                    "LastName": "Peeters",
                                    "InvoiceDate": "2011-11-26 00:00:00.000",
                                    "InvoiceId": "242"
                                },
                                {
                                    "FirstName": "Daan",
                                    "LastName": "Peeters",
                                    "InvoiceDate": "2013-07-02 00:00:00.000",
                                    "InvoiceId": "371"
                                },
                                {
                                    "FirstName": "Daan",
                                    "LastName": "Peeters",
                                    "InvoiceDate": "2013-10-04 00:00:00.000",
                                    "InvoiceId": "394"
                                },
                                {
                                    "FirstName": "Dan",
                                    "LastName": "Miller",
                                    "InvoiceDate": "2010-05-12 00:00:00.000",
                                    "InvoiceId": "113"
                                },
                                {
                                    "FirstName": "Dan",
                                    "LastName": "Miller",
                                    "InvoiceDate": "2010-06-22 00:00:00.000",
                                    "InvoiceId": "124"
                                },
                                {
                                    "FirstName": "Dan",
                                    "LastName": "Miller",
                                    "InvoiceDate": "2011-02-20 00:00:00.000",
                                    "InvoiceId": "179"
                                },
                                {
                                    "FirstName": "Dan",
                                    "LastName": "Miller",
                                    "InvoiceDate": "2012-09-26 00:00:00.000",
                                    "InvoiceId": "308"
                                },
                                {
                                    "FirstName": "Dan",
                                    "LastName": "Miller",
                                    "InvoiceDate": "2012-12-29 00:00:00.000",
                                    "InvoiceId": "331"
                                },
                                {
                                    "FirstName": "Dan",
                                    "LastName": "Miller",
                                    "InvoiceDate": "2013-04-02 00:00:00.000",
                                    "InvoiceId": "353"
                                },
                                {
                                    "FirstName": "Dan",
                                    "LastName": "Miller",
                                    "InvoiceDate": "2013-11-21 00:00:00.000",
                                    "InvoiceId": "405"
                                },
                                {
                                    "FirstName": "Diego",
                                    "LastName": "Gutiérrez",
                                    "InvoiceDate": "2010-06-12 00:00:00.000",
                                    "InvoiceId": "119"
                                },
                                {
                                    "FirstName": "Diego",
                                    "LastName": "Gutiérrez",
                                    "InvoiceDate": "2010-09-14 00:00:00.000",
                                    "InvoiceId": "142"
                                },
                                {
                                    "FirstName": "Diego",
                                    "LastName": "Gutiérrez",
                                    "InvoiceDate": "2010-12-17 00:00:00.000",
                                    "InvoiceId": "164"
                                },
                                {
                                    "FirstName": "Diego",
                                    "LastName": "Gutiérrez",
                                    "InvoiceDate": "2011-08-07 00:00:00.000",
                                    "InvoiceId": "216"
                                },
                                {
                                    "FirstName": "Diego",
                                    "LastName": "Gutiérrez",
                                    "InvoiceDate": "2013-01-28 00:00:00.000",
                                    "InvoiceId": "337"
                                },
                                {
                                    "FirstName": "Diego",
                                    "LastName": "Gutiérrez",
                                    "InvoiceDate": "2013-03-10 00:00:00.000",
                                    "InvoiceId": "348"
                                },
                                {
                                    "FirstName": "Diego",
                                    "LastName": "Gutiérrez",
                                    "InvoiceDate": "2013-11-08 00:00:00.000",
                                    "InvoiceId": "403"
                                },
                                {
                                    "FirstName": "Dominique",
                                    "LastName": "Lefebvre",
                                    "InvoiceDate": "2009-02-01 00:00:00.000",
                                    "InvoiceId": "8"
                                },
                                {
                                    "FirstName": "Dominique",
                                    "LastName": "Lefebvre",
                                    "InvoiceDate": "2009-03-14 00:00:00.000",
                                    "InvoiceId": "19"
                                },
                                {
                                    "FirstName": "Dominique",
                                    "LastName": "Lefebvre",
                                    "InvoiceDate": "2009-11-12 00:00:00.000",
                                    "InvoiceId": "74"
                                },
                                {
                                    "FirstName": "Dominique",
                                    "LastName": "Lefebvre",
                                    "InvoiceDate": "2011-06-19 00:00:00.000",
                                    "InvoiceId": "203"
                                },
                                {
                                    "FirstName": "Dominique",
                                    "LastName": "Lefebvre",
                                    "InvoiceDate": "2011-09-21 00:00:00.000",
                                    "InvoiceId": "226"
                                },
                                {
                                    "FirstName": "Dominique",
                                    "LastName": "Lefebvre",
                                    "InvoiceDate": "2011-12-24 00:00:00.000",
                                    "InvoiceId": "248"
                                },
                                {
                                    "FirstName": "Dominique",
                                    "LastName": "Lefebvre",
                                    "InvoiceDate": "2012-08-13 00:00:00.000",
                                    "InvoiceId": "300"
                                },
                                {
                                    "FirstName": "Eduardo",
                                    "LastName": "Martins",
                                    "InvoiceDate": "2009-04-09 00:00:00.000",
                                    "InvoiceId": "25"
                                },
                                {
                                    "FirstName": "Eduardo",
                                    "LastName": "Martins",
                                    "InvoiceDate": "2010-11-14 00:00:00.000",
                                    "InvoiceId": "154"
                                },
                                {
                                    "FirstName": "Eduardo",
                                    "LastName": "Martins",
                                    "InvoiceDate": "2011-02-16 00:00:00.000",
                                    "InvoiceId": "177"
                                },
                                {
                                    "FirstName": "Eduardo",
                                    "LastName": "Martins",
                                    "InvoiceDate": "2011-05-21 00:00:00.000",
                                    "InvoiceId": "199"
                                },
                                {
                                    "FirstName": "Eduardo",
                                    "LastName": "Martins",
                                    "InvoiceDate": "2012-01-09 00:00:00.000",
                                    "InvoiceId": "251"
                                },
                                {
                                    "FirstName": "Eduardo",
                                    "LastName": "Martins",
                                    "InvoiceDate": "2013-07-02 00:00:00.000",
                                    "InvoiceId": "372"
                                },
                                {
                                    "FirstName": "Eduardo",
                                    "LastName": "Martins",
                                    "InvoiceDate": "2013-08-12 00:00:00.000",
                                    "InvoiceId": "383"
                                },
                                {
                                    "FirstName": "Edward",
                                    "LastName": "Francis",
                                    "InvoiceDate": "2009-08-06 00:00:00.000",
                                    "InvoiceId": "49"
                                },
                                {
                                    "FirstName": "Edward",
                                    "LastName": "Francis",
                                    "InvoiceDate": "2009-11-08 00:00:00.000",
                                    "InvoiceId": "72"
                                },
                                {
                                    "FirstName": "Edward",
                                    "LastName": "Francis",
                                    "InvoiceDate": "2010-02-10 00:00:00.000",
                                    "InvoiceId": "94"
                                },
                                {
                                    "FirstName": "Edward",
                                    "LastName": "Francis",
                                    "InvoiceDate": "2010-10-01 00:00:00.000",
                                    "InvoiceId": "146"
                                },
                                {
                                    "FirstName": "Edward",
                                    "LastName": "Francis",
                                    "InvoiceDate": "2012-03-24 00:00:00.000",
                                    "InvoiceId": "267"
                                },
                                {
                                    "FirstName": "Edward",
                                    "LastName": "Francis",
                                    "InvoiceDate": "2012-05-04 00:00:00.000",
                                    "InvoiceId": "278"
                                },
                                {
                                    "FirstName": "Edward",
                                    "LastName": "Francis",
                                    "InvoiceDate": "2013-01-02 00:00:00.000",
                                    "InvoiceId": "333"
                                },
                                {
                                    "FirstName": "Ellie",
                                    "LastName": "Sullivan",
                                    "InvoiceDate": "2009-04-22 00:00:00.000",
                                    "InvoiceId": "27"
                                },
                                {
                                    "FirstName": "Ellie",
                                    "LastName": "Sullivan",
                                    "InvoiceDate": "2010-10-14 00:00:00.000",
                                    "InvoiceId": "148"
                                },
                                {
                                    "FirstName": "Ellie",
                                    "LastName": "Sullivan",
                                    "InvoiceDate": "2010-11-24 00:00:00.000",
                                    "InvoiceId": "159"
                                },
                                {
                                    "FirstName": "Ellie",
                                    "LastName": "Sullivan",
                                    "InvoiceDate": "2011-07-25 00:00:00.000",
                                    "InvoiceId": "214"
                                },
                                {
                                    "FirstName": "Ellie",
                                    "LastName": "Sullivan",
                                    "InvoiceDate": "2013-02-28 00:00:00.000",
                                    "InvoiceId": "343"
                                },
                                {
                                    "FirstName": "Ellie",
                                    "LastName": "Sullivan",
                                    "InvoiceDate": "2013-06-02 00:00:00.000",
                                    "InvoiceId": "366"
                                },
                                {
                                    "FirstName": "Ellie",
                                    "LastName": "Sullivan",
                                    "InvoiceDate": "2013-09-04 00:00:00.000",
                                    "InvoiceId": "388"
                                },
                                {
                                    "FirstName": "Emma",
                                    "LastName": "Jones",
                                    "InvoiceDate": "2009-02-06 00:00:00.000",
                                    "InvoiceId": "11"
                                },
                                {
                                    "FirstName": "Emma",
                                    "LastName": "Jones",
                                    "InvoiceDate": "2010-09-13 00:00:00.000",
                                    "InvoiceId": "140"
                                },
                                {
                                    "FirstName": "Emma",
                                    "LastName": "Jones",
                                    "InvoiceDate": "2010-12-16 00:00:00.000",
                                    "InvoiceId": "163"
                                },
                                {
                                    "FirstName": "Emma",
                                    "LastName": "Jones",
                                    "InvoiceDate": "2011-03-20 00:00:00.000",
                                    "InvoiceId": "185"
                                },
                                {
                                    "FirstName": "Emma",
                                    "LastName": "Jones",
                                    "InvoiceDate": "2011-11-08 00:00:00.000",
                                    "InvoiceId": "237"
                                },
                                {
                                    "FirstName": "Emma",
                                    "LastName": "Jones",
                                    "InvoiceDate": "2013-05-01 00:00:00.000",
                                    "InvoiceId": "358"
                                },
                                {
                                    "FirstName": "Emma",
                                    "LastName": "Jones",
                                    "InvoiceDate": "2013-06-11 00:00:00.000",
                                    "InvoiceId": "369"
                                },
                                {
                                    "FirstName": "Enrique",
                                    "LastName": "Muñoz",
                                    "InvoiceDate": "2009-06-23 00:00:00.000",
                                    "InvoiceId": "41"
                                },
                                {
                                    "FirstName": "Enrique",
                                    "LastName": "Muñoz",
                                    "InvoiceDate": "2010-12-15 00:00:00.000",
                                    "InvoiceId": "162"
                                },
                                {
                                    "FirstName": "Enrique",
                                    "LastName": "Muñoz",
                                    "InvoiceDate": "2011-01-25 00:00:00.000",
                                    "InvoiceId": "173"
                                },
                                {
                                    "FirstName": "Enrique",
                                    "LastName": "Muñoz",
                                    "InvoiceDate": "2011-09-25 00:00:00.000",
                                    "InvoiceId": "228"
                                },
                                {
                                    "FirstName": "Enrique",
                                    "LastName": "Muñoz",
                                    "InvoiceDate": "2013-05-01 00:00:00.000",
                                    "InvoiceId": "357"
                                },
                                {
                                    "FirstName": "Enrique",
                                    "LastName": "Muñoz",
                                    "InvoiceDate": "2013-08-03 00:00:00.000",
                                    "InvoiceId": "380"
                                },
                                {
                                    "FirstName": "Enrique",
                                    "LastName": "Muñoz",
                                    "InvoiceDate": "2013-11-05 00:00:00.000",
                                    "InvoiceId": "402"
                                },
                                {
                                    "FirstName": "Fernanda",
                                    "LastName": "Ramos",
                                    "InvoiceDate": "2009-06-05 00:00:00.000",
                                    "InvoiceId": "35"
                                },
                                {
                                    "FirstName": "Fernanda",
                                    "LastName": "Ramos",
                                    "InvoiceDate": "2009-09-07 00:00:00.000",
                                    "InvoiceId": "58"
                                },
                                {
                                    "FirstName": "Fernanda",
                                    "LastName": "Ramos",
                                    "InvoiceDate": "2009-12-10 00:00:00.000",
                                    "InvoiceId": "80"
                                },
                                {
                                    "FirstName": "Fernanda",
                                    "LastName": "Ramos",
                                    "InvoiceDate": "2010-07-31 00:00:00.000",
                                    "InvoiceId": "132"
                                },
                                {
                                    "FirstName": "Fernanda",
                                    "LastName": "Ramos",
                                    "InvoiceDate": "2012-01-22 00:00:00.000",
                                    "InvoiceId": "253"
                                },
                                {
                                    "FirstName": "Fernanda",
                                    "LastName": "Ramos",
                                    "InvoiceDate": "2012-03-03 00:00:00.000",
                                    "InvoiceId": "264"
                                },
                                {
                                    "FirstName": "Fernanda",
                                    "LastName": "Ramos",
                                    "InvoiceDate": "2012-11-01 00:00:00.000",
                                    "InvoiceId": "319"
                                },
                                {
                                    "FirstName": "François",
                                    "LastName": "Tremblay",
                                    "InvoiceDate": "2010-03-11 00:00:00.000",
                                    "InvoiceId": "99"
                                },
                                {
                                    "FirstName": "François",
                                    "LastName": "Tremblay",
                                    "InvoiceDate": "2010-04-21 00:00:00.000",
                                    "InvoiceId": "110"
                                },
                                {
                                    "FirstName": "François",
                                    "LastName": "Tremblay",
                                    "InvoiceDate": "2010-12-20 00:00:00.000",
                                    "InvoiceId": "165"
                                },
                                {
                                    "FirstName": "François",
                                    "LastName": "Tremblay",
                                    "InvoiceDate": "2012-07-26 00:00:00.000",
                                    "InvoiceId": "294"
                                },
                                {
                                    "FirstName": "François",
                                    "LastName": "Tremblay",
                                    "InvoiceDate": "2012-10-28 00:00:00.000",
                                    "InvoiceId": "317"
                                },
                                {
                                    "FirstName": "François",
                                    "LastName": "Tremblay",
                                    "InvoiceDate": "2013-01-30 00:00:00.000",
                                    "InvoiceId": "339"
                                },
                                {
                                    "FirstName": "François",
                                    "LastName": "Tremblay",
                                    "InvoiceDate": "2013-09-20 00:00:00.000",
                                    "InvoiceId": "391"
                                },
                                {
                                    "FirstName": "Frank",
                                    "LastName": "Harris",
                                    "InvoiceDate": "2009-02-19 00:00:00.000",
                                    "InvoiceId": "13"
                                },
                                {
                                    "FirstName": "Frank",
                                    "LastName": "Harris",
                                    "InvoiceDate": "2010-08-13 00:00:00.000",
                                    "InvoiceId": "134"
                                },
                                {
                                    "FirstName": "Frank",
                                    "LastName": "Harris",
                                    "InvoiceDate": "2010-09-23 00:00:00.000",
                                    "InvoiceId": "145"
                                },
                                {
                                    "FirstName": "Frank",
                                    "LastName": "Harris",
                                    "InvoiceDate": "2011-05-24 00:00:00.000",
                                    "InvoiceId": "200"
                                },
                                {
                                    "FirstName": "Frank",
                                    "LastName": "Harris",
                                    "InvoiceDate": "2012-12-28 00:00:00.000",
                                    "InvoiceId": "329"
                                },
                                {
                                    "FirstName": "Frank",
                                    "LastName": "Harris",
                                    "InvoiceDate": "2013-04-01 00:00:00.000",
                                    "InvoiceId": "352"
                                },
                                {
                                    "FirstName": "Frank",
                                    "LastName": "Harris",
                                    "InvoiceDate": "2013-07-04 00:00:00.000",
                                    "InvoiceId": "374"
                                },
                                {
                                    "FirstName": "Frank",
                                    "LastName": "Ralston",
                                    "InvoiceDate": "2010-02-08 00:00:00.000",
                                    "InvoiceId": "92"
                                },
                                {
                                    "FirstName": "Frank",
                                    "LastName": "Ralston",
                                    "InvoiceDate": "2010-03-21 00:00:00.000",
                                    "InvoiceId": "103"
                                },
                                {
                                    "FirstName": "Frank",
                                    "LastName": "Ralston",
                                    "InvoiceDate": "2010-11-19 00:00:00.000",
                                    "InvoiceId": "158"
                                },
                                {
                                    "FirstName": "Frank",
                                    "LastName": "Ralston",
                                    "InvoiceDate": "2012-06-25 00:00:00.000",
                                    "InvoiceId": "287"
                                },
                                {
                                    "FirstName": "Frank",
                                    "LastName": "Ralston",
                                    "InvoiceDate": "2012-09-27 00:00:00.000",
                                    "InvoiceId": "310"
                                },
                                {
                                    "FirstName": "Frank",
                                    "LastName": "Ralston",
                                    "InvoiceDate": "2012-12-30 00:00:00.000",
                                    "InvoiceId": "332"
                                },
                                {
                                    "FirstName": "Frank",
                                    "LastName": "Ralston",
                                    "InvoiceDate": "2013-08-20 00:00:00.000",
                                    "InvoiceId": "384"
                                },
                                {
                                    "FirstName": "František",
                                    "LastName": "Wichterlová",
                                    "InvoiceDate": "2009-12-08 00:00:00.000",
                                    "InvoiceId": "77"
                                },
                                {
                                    "FirstName": "František",
                                    "LastName": "Wichterlová",
                                    "InvoiceDate": "2010-03-12 00:00:00.000",
                                    "InvoiceId": "100"
                                },
                                {
                                    "FirstName": "František",
                                    "LastName": "Wichterlová",
                                    "InvoiceDate": "2010-06-14 00:00:00.000",
                                    "InvoiceId": "122"
                                },
                                {
                                    "FirstName": "František",
                                    "LastName": "Wichterlová",
                                    "InvoiceDate": "2011-02-02 00:00:00.000",
                                    "InvoiceId": "174"
                                },
                                {
                                    "FirstName": "František",
                                    "LastName": "Wichterlová",
                                    "InvoiceDate": "2012-07-26 00:00:00.000",
                                    "InvoiceId": "295"
                                },
                                {
                                    "FirstName": "František",
                                    "LastName": "Wichterlová",
                                    "InvoiceDate": "2012-09-05 00:00:00.000",
                                    "InvoiceId": "306"
                                },
                                {
                                    "FirstName": "František",
                                    "LastName": "Wichterlová",
                                    "InvoiceDate": "2013-05-06 00:00:00.000",
                                    "InvoiceId": "361"
                                },
                                {
                                    "FirstName": "Fynn",
                                    "LastName": "Zimmermann",
                                    "InvoiceDate": "2009-01-19 00:00:00.000",
                                    "InvoiceId": "6"
                                },
                                {
                                    "FirstName": "Fynn",
                                    "LastName": "Zimmermann",
                                    "InvoiceDate": "2010-07-13 00:00:00.000",
                                    "InvoiceId": "127"
                                },
                                {
                                    "FirstName": "Fynn",
                                    "LastName": "Zimmermann",
                                    "InvoiceDate": "2010-08-23 00:00:00.000",
                                    "InvoiceId": "138"
                                },
                                {
                                    "FirstName": "Fynn",
                                    "LastName": "Zimmermann",
                                    "InvoiceDate": "2011-04-23 00:00:00.000",
                                    "InvoiceId": "193"
                                },
                                {
                                    "FirstName": "Fynn",
                                    "LastName": "Zimmermann",
                                    "InvoiceDate": "2012-11-27 00:00:00.000",
                                    "InvoiceId": "322"
                                },
                                {
                                    "FirstName": "Fynn",
                                    "LastName": "Zimmermann",
                                    "InvoiceDate": "2013-03-01 00:00:00.000",
                                    "InvoiceId": "345"
                                },
                                {
                                    "FirstName": "Fynn",
                                    "LastName": "Zimmermann",
                                    "InvoiceDate": "2013-06-03 00:00:00.000",
                                    "InvoiceId": "367"
                                },
                                {
                                    "FirstName": "Hannah",
                                    "LastName": "Schneider",
                                    "InvoiceDate": "2009-05-05 00:00:00.000",
                                    "InvoiceId": "29"
                                },
                                {
                                    "FirstName": "Hannah",
                                    "LastName": "Schneider",
                                    "InvoiceDate": "2009-06-15 00:00:00.000",
                                    "InvoiceId": "40"
                                },
                                {
                                    "FirstName": "Hannah",
                                    "LastName": "Schneider",
                                    "InvoiceDate": "2010-02-13 00:00:00.000",
                                    "InvoiceId": "95"
                                },
                                {
                                    "FirstName": "Hannah",
                                    "LastName": "Schneider",
                                    "InvoiceDate": "2011-09-20 00:00:00.000",
                                    "InvoiceId": "224"
                                },
                                {
                                    "FirstName": "Hannah",
                                    "LastName": "Schneider",
                                    "InvoiceDate": "2011-12-23 00:00:00.000",
                                    "InvoiceId": "247"
                                },
                                {
                                    "FirstName": "Hannah",
                                    "LastName": "Schneider",
                                    "InvoiceDate": "2012-03-26 00:00:00.000",
                                    "InvoiceId": "269"
                                },
                                {
                                    "FirstName": "Hannah",
                                    "LastName": "Schneider",
                                    "InvoiceDate": "2012-11-14 00:00:00.000",
                                    "InvoiceId": "321"
                                },
                                {
                                    "FirstName": "Heather",
                                    "LastName": "Leacock",
                                    "InvoiceDate": "2010-02-08 00:00:00.000",
                                    "InvoiceId": "91"
                                },
                                {
                                    "FirstName": "Heather",
                                    "LastName": "Leacock",
                                    "InvoiceDate": "2010-05-13 00:00:00.000",
                                    "InvoiceId": "114"
                                },
                                {
                                    "FirstName": "Heather",
                                    "LastName": "Leacock",
                                    "InvoiceDate": "2010-08-15 00:00:00.000",
                                    "InvoiceId": "136"
                                },
                                {
                                    "FirstName": "Heather",
                                    "LastName": "Leacock",
                                    "InvoiceDate": "2011-04-05 00:00:00.000",
                                    "InvoiceId": "188"
                                },
                                {
                                    "FirstName": "Heather",
                                    "LastName": "Leacock",
                                    "InvoiceDate": "2012-09-26 00:00:00.000",
                                    "InvoiceId": "309"
                                },
                                {
                                    "FirstName": "Heather",
                                    "LastName": "Leacock",
                                    "InvoiceDate": "2012-11-06 00:00:00.000",
                                    "InvoiceId": "320"
                                },
                                {
                                    "FirstName": "Heather",
                                    "LastName": "Leacock",
                                    "InvoiceDate": "2013-07-07 00:00:00.000",
                                    "InvoiceId": "375"
                                },
                                {
                                    "FirstName": "Helena",
                                    "LastName": "Holý",
                                    "InvoiceDate": "2009-07-11 00:00:00.000",
                                    "InvoiceId": "46"
                                },
                                {
                                    "FirstName": "Helena",
                                    "LastName": "Holý",
                                    "InvoiceDate": "2011-02-15 00:00:00.000",
                                    "InvoiceId": "175"
                                },
                                {
                                    "FirstName": "Helena",
                                    "LastName": "Holý",
                                    "InvoiceDate": "2011-05-20 00:00:00.000",
                                    "InvoiceId": "198"
                                },
                                {
                                    "FirstName": "Helena",
                                    "LastName": "Holý",
                                    "InvoiceDate": "2011-08-22 00:00:00.000",
                                    "InvoiceId": "220"
                                },
                                {
                                    "FirstName": "Helena",
                                    "LastName": "Holý",
                                    "InvoiceDate": "2012-04-11 00:00:00.000",
                                    "InvoiceId": "272"
                                },
                                {
                                    "FirstName": "Helena",
                                    "LastName": "Holý",
                                    "InvoiceDate": "2013-10-03 00:00:00.000",
                                    "InvoiceId": "393"
                                },
                                {
                                    "FirstName": "Helena",
                                    "LastName": "Holý",
                                    "InvoiceDate": "2013-11-13 00:00:00.000",
                                    "InvoiceId": "404"
                                },
                                {
                                    "FirstName": "Hugh",
                                    "LastName": "O'Reilly",
                                    "InvoiceDate": "2009-02-03 00:00:00.000",
                                    "InvoiceId": "10"
                                },
                                {
                                    "FirstName": "Hugh",
                                    "LastName": "O'Reilly",
                                    "InvoiceDate": "2009-09-24 00:00:00.000",
                                    "InvoiceId": "62"
                                },
                                {
                                    "FirstName": "Hugh",
                                    "LastName": "O'Reilly",
                                    "InvoiceDate": "2011-03-18 00:00:00.000",
                                    "InvoiceId": "183"
                                },
                                {
                                    "FirstName": "Hugh",
                                    "LastName": "O'Reilly",
                                    "InvoiceDate": "2011-04-28 00:00:00.000",
                                    "InvoiceId": "194"
                                },
                                {
                                    "FirstName": "Hugh",
                                    "LastName": "O'Reilly",
                                    "InvoiceDate": "2011-12-27 00:00:00.000",
                                    "InvoiceId": "249"
                                },
                                {
                                    "FirstName": "Hugh",
                                    "LastName": "O'Reilly",
                                    "InvoiceDate": "2013-08-02 00:00:00.000",
                                    "InvoiceId": "378"
                                },
                                {
                                    "FirstName": "Hugh",
                                    "LastName": "O'Reilly",
                                    "InvoiceDate": "2013-11-04 00:00:00.000",
                                    "InvoiceId": "401"
                                },
                                {
                                    "FirstName": "Isabelle",
                                    "LastName": "Mercier",
                                    "InvoiceDate": "2010-01-08 00:00:00.000",
                                    "InvoiceId": "84"
                                },
                                {
                                    "FirstName": "Isabelle",
                                    "LastName": "Mercier",
                                    "InvoiceDate": "2010-04-12 00:00:00.000",
                                    "InvoiceId": "107"
                                },
                                {
                                    "FirstName": "Isabelle",
                                    "LastName": "Mercier",
                                    "InvoiceDate": "2010-07-15 00:00:00.000",
                                    "InvoiceId": "129"
                                },
                                {
                                    "FirstName": "Isabelle",
                                    "LastName": "Mercier",
                                    "InvoiceDate": "2011-03-05 00:00:00.000",
                                    "InvoiceId": "181"
                                },
                                {
                                    "FirstName": "Isabelle",
                                    "LastName": "Mercier",
                                    "InvoiceDate": "2012-08-26 00:00:00.000",
                                    "InvoiceId": "302"
                                },
                                {
                                    "FirstName": "Isabelle",
                                    "LastName": "Mercier",
                                    "InvoiceDate": "2012-10-06 00:00:00.000",
                                    "InvoiceId": "313"
                                },
                                {
                                    "FirstName": "Isabelle",
                                    "LastName": "Mercier",
                                    "InvoiceDate": "2013-06-06 00:00:00.000",
                                    "InvoiceId": "368"
                                },
                                {
                                    "FirstName": "Jack",
                                    "LastName": "Smith",
                                    "InvoiceDate": "2009-03-04 00:00:00.000",
                                    "InvoiceId": "14"
                                },
                                {
                                    "FirstName": "Jack",
                                    "LastName": "Smith",
                                    "InvoiceDate": "2009-06-06 00:00:00.000",
                                    "InvoiceId": "37"
                                },
                                {
                                    "FirstName": "Jack",
                                    "LastName": "Smith",
                                    "InvoiceDate": "2009-09-08 00:00:00.000",
                                    "InvoiceId": "59"
                                },
                                {
                                    "FirstName": "Jack",
                                    "LastName": "Smith",
                                    "InvoiceDate": "2010-04-29 00:00:00.000",
                                    "InvoiceId": "111"
                                },
                                {
                                    "FirstName": "Jack",
                                    "LastName": "Smith",
                                    "InvoiceDate": "2011-10-21 00:00:00.000",
                                    "InvoiceId": "232"
                                },
                                {
                                    "FirstName": "Jack",
                                    "LastName": "Smith",
                                    "InvoiceDate": "2011-12-01 00:00:00.000",
                                    "InvoiceId": "243"
                                },
                                {
                                    "FirstName": "Jack",
                                    "LastName": "Smith",
                                    "InvoiceDate": "2012-07-31 00:00:00.000",
                                    "InvoiceId": "298"
                                },
                                {
                                    "FirstName": "Jennifer",
                                    "LastName": "Peterson",
                                    "InvoiceDate": "2009-06-05 00:00:00.000",
                                    "InvoiceId": "36"
                                },
                                {
                                    "FirstName": "Jennifer",
                                    "LastName": "Peterson",
                                    "InvoiceDate": "2009-07-16 00:00:00.000",
                                    "InvoiceId": "47"
                                },
                                {
                                    "FirstName": "Jennifer",
                                    "LastName": "Peterson",
                                    "InvoiceDate": "2010-03-16 00:00:00.000",
                                    "InvoiceId": "102"
                                },
                                {
                                    "FirstName": "Jennifer",
                                    "LastName": "Peterson",
                                    "InvoiceDate": "2011-10-21 00:00:00.000",
                                    "InvoiceId": "231"
                                },
                                {
                                    "FirstName": "Jennifer",
                                    "LastName": "Peterson",
                                    "InvoiceDate": "2012-01-23 00:00:00.000",
                                    "InvoiceId": "254"
                                },
                                {
                                    "FirstName": "Jennifer",
                                    "LastName": "Peterson",
                                    "InvoiceDate": "2012-04-26 00:00:00.000",
                                    "InvoiceId": "276"
                                },
                                {
                                    "FirstName": "Jennifer",
                                    "LastName": "Peterson",
                                    "InvoiceDate": "2012-12-15 00:00:00.000",
                                    "InvoiceId": "328"
                                },
                                {
                                    "FirstName": "Joakim",
                                    "LastName": "Johansson",
                                    "InvoiceDate": "2009-07-06 00:00:00.000",
                                    "InvoiceId": "42"
                                },
                                {
                                    "FirstName": "Joakim",
                                    "LastName": "Johansson",
                                    "InvoiceDate": "2009-10-08 00:00:00.000",
                                    "InvoiceId": "65"
                                },
                                {
                                    "FirstName": "Joakim",
                                    "LastName": "Johansson",
                                    "InvoiceDate": "2010-01-10 00:00:00.000",
                                    "InvoiceId": "87"
                                },
                                {
                                    "FirstName": "Joakim",
                                    "LastName": "Johansson",
                                    "InvoiceDate": "2010-08-31 00:00:00.000",
                                    "InvoiceId": "139"
                                },
                                {
                                    "FirstName": "Joakim",
                                    "LastName": "Johansson",
                                    "InvoiceDate": "2012-02-22 00:00:00.000",
                                    "InvoiceId": "260"
                                },
                                {
                                    "FirstName": "Joakim",
                                    "LastName": "Johansson",
                                    "InvoiceDate": "2012-04-03 00:00:00.000",
                                    "InvoiceId": "271"
                                },
                                {
                                    "FirstName": "Joakim",
                                    "LastName": "Johansson",
                                    "InvoiceDate": "2012-12-02 00:00:00.000",
                                    "InvoiceId": "326"
                                },
                                {
                                    "FirstName": "João",
                                    "LastName": "Fernandes",
                                    "InvoiceDate": "2009-05-05 00:00:00.000",
                                    "InvoiceId": "28"
                                },
                                {
                                    "FirstName": "João",
                                    "LastName": "Fernandes",
                                    "InvoiceDate": "2009-08-07 00:00:00.000",
                                    "InvoiceId": "51"
                                },
                                {
                                    "FirstName": "João",
                                    "LastName": "Fernandes",
                                    "InvoiceDate": "2009-11-09 00:00:00.000",
                                    "InvoiceId": "73"
                                },
                                {
                                    "FirstName": "João",
                                    "LastName": "Fernandes",
                                    "InvoiceDate": "2010-06-30 00:00:00.000",
                                    "InvoiceId": "125"
                                },
                                {
                                    "FirstName": "João",
                                    "LastName": "Fernandes",
                                    "InvoiceDate": "2011-12-22 00:00:00.000",
                                    "InvoiceId": "246"
                                },
                                {
                                    "FirstName": "João",
                                    "LastName": "Fernandes",
                                    "InvoiceDate": "2012-02-01 00:00:00.000",
                                    "InvoiceId": "257"
                                },
                                {
                                    "FirstName": "João",
                                    "LastName": "Fernandes",
                                    "InvoiceDate": "2012-10-01 00:00:00.000",
                                    "InvoiceId": "312"
                                },
                                {
                                    "FirstName": "Johannes",
                                    "LastName": "Van der Berg",
                                    "InvoiceDate": "2009-05-10 00:00:00.000",
                                    "InvoiceId": "32"
                                },
                                {
                                    "FirstName": "Johannes",
                                    "LastName": "Van der Berg",
                                    "InvoiceDate": "2010-12-15 00:00:00.000",
                                    "InvoiceId": "161"
                                },
                                {
                                    "FirstName": "Johannes",
                                    "LastName": "Van der Berg",
                                    "InvoiceDate": "2011-03-19 00:00:00.000",
                                    "InvoiceId": "184"
                                },
                                {
                                    "FirstName": "Johannes",
                                    "LastName": "Van der Berg",
                                    "InvoiceDate": "2011-06-21 00:00:00.000",
                                    "InvoiceId": "206"
                                },
                                {
                                    "FirstName": "Johannes",
                                    "LastName": "Van der Berg",
                                    "InvoiceDate": "2012-02-09 00:00:00.000",
                                    "InvoiceId": "258"
                                },
                                {
                                    "FirstName": "Johannes",
                                    "LastName": "Van der Berg",
                                    "InvoiceDate": "2013-08-02 00:00:00.000",
                                    "InvoiceId": "379"
                                },
                                {
                                    "FirstName": "Johannes",
                                    "LastName": "Van der Berg",
                                    "InvoiceDate": "2013-09-12 00:00:00.000",
                                    "InvoiceId": "390"
                                },
                                {
                                    "FirstName": "John",
                                    "LastName": "Gordon",
                                    "InvoiceDate": "2009-01-11 00:00:00.000",
                                    "InvoiceId": "5"
                                },
                                {
                                    "FirstName": "John",
                                    "LastName": "Gordon",
                                    "InvoiceDate": "2009-09-11 00:00:00.000",
                                    "InvoiceId": "60"
                                },
                                {
                                    "FirstName": "John",
                                    "LastName": "Gordon",
                                    "InvoiceDate": "2011-04-18 00:00:00.000",
                                    "InvoiceId": "189"
                                },
                                {
                                    "FirstName": "John",
                                    "LastName": "Gordon",
                                    "InvoiceDate": "2011-07-21 00:00:00.000",
                                    "InvoiceId": "212"
                                },
                                {
                                    "FirstName": "John",
                                    "LastName": "Gordon",
                                    "InvoiceDate": "2011-10-23 00:00:00.000",
                                    "InvoiceId": "234"
                                },
                                {
                                    "FirstName": "John",
                                    "LastName": "Gordon",
                                    "InvoiceDate": "2012-06-12 00:00:00.000",
                                    "InvoiceId": "286"
                                },
                                {
                                    "FirstName": "John",
                                    "LastName": "Gordon",
                                    "InvoiceDate": "2013-12-04 00:00:00.000",
                                    "InvoiceId": "407"
                                },
                                {
                                    "FirstName": "Julia",
                                    "LastName": "Barnett",
                                    "InvoiceDate": "2009-11-07 00:00:00.000",
                                    "InvoiceId": "71"
                                },
                                {
                                    "FirstName": "Julia",
                                    "LastName": "Barnett",
                                    "InvoiceDate": "2009-12-18 00:00:00.000",
                                    "InvoiceId": "82"
                                },
                                {
                                    "FirstName": "Julia",
                                    "LastName": "Barnett",
                                    "InvoiceDate": "2010-08-18 00:00:00.000",
                                    "InvoiceId": "137"
                                },
                                {
                                    "FirstName": "Julia",
                                    "LastName": "Barnett",
                                    "InvoiceDate": "2012-03-24 00:00:00.000",
                                    "InvoiceId": "266"
                                },
                                {
                                    "FirstName": "Julia",
                                    "LastName": "Barnett",
                                    "InvoiceDate": "2012-06-26 00:00:00.000",
                                    "InvoiceId": "289"
                                },
                                {
                                    "FirstName": "Julia",
                                    "LastName": "Barnett",
                                    "InvoiceDate": "2012-09-28 00:00:00.000",
                                    "InvoiceId": "311"
                                },
                                {
                                    "FirstName": "Julia",
                                    "LastName": "Barnett",
                                    "InvoiceDate": "2013-05-19 00:00:00.000",
                                    "InvoiceId": "363"
                                },
                                {
                                    "FirstName": "Kara",
                                    "LastName": "Nielsen",
                                    "InvoiceDate": "2009-09-06 00:00:00.000",
                                    "InvoiceId": "56"
                                },
                                {
                                    "FirstName": "Kara",
                                    "LastName": "Nielsen",
                                    "InvoiceDate": "2009-12-09 00:00:00.000",
                                    "InvoiceId": "79"
                                },
                                {
                                    "FirstName": "Kara",
                                    "LastName": "Nielsen",
                                    "InvoiceDate": "2010-03-13 00:00:00.000",
                                    "InvoiceId": "101"
                                },
                                {
                                    "FirstName": "Kara",
                                    "LastName": "Nielsen",
                                    "InvoiceDate": "2010-11-01 00:00:00.000",
                                    "InvoiceId": "153"
                                },
                                {
                                    "FirstName": "Kara",
                                    "LastName": "Nielsen",
                                    "InvoiceDate": "2012-04-24 00:00:00.000",
                                    "InvoiceId": "274"
                                },
                                {
                                    "FirstName": "Kara",
                                    "LastName": "Nielsen",
                                    "InvoiceDate": "2012-06-04 00:00:00.000",
                                    "InvoiceId": "285"
                                },
                                {
                                    "FirstName": "Kara",
                                    "LastName": "Nielsen",
                                    "InvoiceDate": "2013-02-02 00:00:00.000",
                                    "InvoiceId": "340"
                                },
                                {
                                    "FirstName": "Kathy",
                                    "LastName": "Chase",
                                    "InvoiceDate": "2009-03-05 00:00:00.000",
                                    "InvoiceId": "16"
                                },
                                {
                                    "FirstName": "Kathy",
                                    "LastName": "Chase",
                                    "InvoiceDate": "2009-06-07 00:00:00.000",
                                    "InvoiceId": "38"
                                },
                                {
                                    "FirstName": "Kathy",
                                    "LastName": "Chase",
                                    "InvoiceDate": "2010-01-26 00:00:00.000",
                                    "InvoiceId": "90"
                                },
                                {
                                    "FirstName": "Kathy",
                                    "LastName": "Chase",
                                    "InvoiceDate": "2011-07-20 00:00:00.000",
                                    "InvoiceId": "211"
                                },
                                {
                                    "FirstName": "Kathy",
                                    "LastName": "Chase",
                                    "InvoiceDate": "2011-08-30 00:00:00.000",
                                    "InvoiceId": "222"
                                },
                                {
                                    "FirstName": "Kathy",
                                    "LastName": "Chase",
                                    "InvoiceDate": "2012-04-29 00:00:00.000",
                                    "InvoiceId": "277"
                                },
                                {
                                    "FirstName": "Kathy",
                                    "LastName": "Chase",
                                    "InvoiceDate": "2013-12-04 00:00:00.000",
                                    "InvoiceId": "406"
                                },
                                {
                                    "FirstName": "Ladislav",
                                    "LastName": "Kovács",
                                    "InvoiceDate": "2010-01-08 00:00:00.000",
                                    "InvoiceId": "85"
                                },
                                {
                                    "FirstName": "Ladislav",
                                    "LastName": "Kovács",
                                    "InvoiceDate": "2010-02-18 00:00:00.000",
                                    "InvoiceId": "96"
                                },
                                {
                                    "FirstName": "Ladislav",
                                    "LastName": "Kovács",
                                    "InvoiceDate": "2010-10-19 00:00:00.000",
                                    "InvoiceId": "151"
                                },
                                {
                                    "FirstName": "Ladislav",
                                    "LastName": "Kovács",
                                    "InvoiceDate": "2012-05-25 00:00:00.000",
                                    "InvoiceId": "280"
                                },
                                {
                                    "FirstName": "Ladislav",
                                    "LastName": "Kovács",
                                    "InvoiceDate": "2012-08-27 00:00:00.000",
                                    "InvoiceId": "303"
                                },
                                {
                                    "FirstName": "Ladislav",
                                    "LastName": "Kovács",
                                    "InvoiceDate": "2012-11-29 00:00:00.000",
                                    "InvoiceId": "325"
                                },
                                {
                                    "FirstName": "Ladislav",
                                    "LastName": "Kovács",
                                    "InvoiceDate": "2013-07-20 00:00:00.000",
                                    "InvoiceId": "377"
                                },
                                {
                                    "FirstName": "Leonie",
                                    "LastName": "Köhler",
                                    "InvoiceDate": "2009-01-01 00:00:00.000",
                                    "InvoiceId": "1"
                                },
                                {
                                    "FirstName": "Leonie",
                                    "LastName": "Köhler",
                                    "InvoiceDate": "2009-02-11 00:00:00.000",
                                    "InvoiceId": "12"
                                },
                                {
                                    "FirstName": "Leonie",
                                    "LastName": "Köhler",
                                    "InvoiceDate": "2009-10-12 00:00:00.000",
                                    "InvoiceId": "67"
                                },
                                {
                                    "FirstName": "Leonie",
                                    "LastName": "Köhler",
                                    "InvoiceDate": "2011-05-19 00:00:00.000",
                                    "InvoiceId": "196"
                                },
                                {
                                    "FirstName": "Leonie",
                                    "LastName": "Köhler",
                                    "InvoiceDate": "2011-08-21 00:00:00.000",
                                    "InvoiceId": "219"
                                },
                                {
                                    "FirstName": "Leonie",
                                    "LastName": "Köhler",
                                    "InvoiceDate": "2011-11-23 00:00:00.000",
                                    "InvoiceId": "241"
                                },
                                {
                                    "FirstName": "Leonie",
                                    "LastName": "Köhler",
                                    "InvoiceDate": "2012-07-13 00:00:00.000",
                                    "InvoiceId": "293"
                                },
                                {
                                    "FirstName": "Lucas",
                                    "LastName": "Mancini",
                                    "InvoiceDate": "2009-10-07 00:00:00.000",
                                    "InvoiceId": "63"
                                },
                                {
                                    "FirstName": "Lucas",
                                    "LastName": "Mancini",
                                    "InvoiceDate": "2010-01-09 00:00:00.000",
                                    "InvoiceId": "86"
                                },
                                {
                                    "FirstName": "Lucas",
                                    "LastName": "Mancini",
                                    "InvoiceDate": "2010-04-13 00:00:00.000",
                                    "InvoiceId": "108"
                                },
                                {
                                    "FirstName": "Lucas",
                                    "LastName": "Mancini",
                                    "InvoiceDate": "2010-12-02 00:00:00.000",
                                    "InvoiceId": "160"
                                },
                                {
                                    "FirstName": "Lucas",
                                    "LastName": "Mancini",
                                    "InvoiceDate": "2012-05-25 00:00:00.000",
                                    "InvoiceId": "281"
                                },
                                {
                                    "FirstName": "Lucas",
                                    "LastName": "Mancini",
                                    "InvoiceDate": "2012-07-05 00:00:00.000",
                                    "InvoiceId": "292"
                                },
                                {
                                    "FirstName": "Lucas",
                                    "LastName": "Mancini",
                                    "InvoiceDate": "2013-03-05 00:00:00.000",
                                    "InvoiceId": "347"
                                },
                                {
                                    "FirstName": "Luis",
                                    "LastName": "Rojas",
                                    "InvoiceDate": "2009-04-04 00:00:00.000",
                                    "InvoiceId": "22"
                                },
                                {
                                    "FirstName": "Luis",
                                    "LastName": "Rojas",
                                    "InvoiceDate": "2009-05-15 00:00:00.000",
                                    "InvoiceId": "33"
                                },
                                {
                                    "FirstName": "Luis",
                                    "LastName": "Rojas",
                                    "InvoiceDate": "2010-01-13 00:00:00.000",
                                    "InvoiceId": "88"
                                },
                                {
                                    "FirstName": "Luis",
                                    "LastName": "Rojas",
                                    "InvoiceDate": "2011-08-20 00:00:00.000",
                                    "InvoiceId": "217"
                                },
                                {
                                    "FirstName": "Luis",
                                    "LastName": "Rojas",
                                    "InvoiceDate": "2011-11-22 00:00:00.000",
                                    "InvoiceId": "240"
                                },
                                {
                                    "FirstName": "Luis",
                                    "LastName": "Rojas",
                                    "InvoiceDate": "2012-02-24 00:00:00.000",
                                    "InvoiceId": "262"
                                },
                                {
                                    "FirstName": "Luis",
                                    "LastName": "Rojas",
                                    "InvoiceDate": "2012-10-14 00:00:00.000",
                                    "InvoiceId": "314"
                                },
                                {
                                    "FirstName": "Luís",
                                    "LastName": "Gonçalves",
                                    "InvoiceDate": "2010-03-11 00:00:00.000",
                                    "InvoiceId": "98"
                                },
                                {
                                    "FirstName": "Luís",
                                    "LastName": "Gonçalves",
                                    "InvoiceDate": "2010-06-13 00:00:00.000",
                                    "InvoiceId": "121"
                                },
                                {
                                    "FirstName": "Luís",
                                    "LastName": "Gonçalves",
                                    "InvoiceDate": "2010-09-15 00:00:00.000",
                                    "InvoiceId": "143"
                                },
                                {
                                    "FirstName": "Luís",
                                    "LastName": "Gonçalves",
                                    "InvoiceDate": "2011-05-06 00:00:00.000",
                                    "InvoiceId": "195"
                                },
                                {
                                    "FirstName": "Luís",
                                    "LastName": "Gonçalves",
                                    "InvoiceDate": "2012-10-27 00:00:00.000",
                                    "InvoiceId": "316"
                                },
                                {
                                    "FirstName": "Luís",
                                    "LastName": "Gonçalves",
                                    "InvoiceDate": "2012-12-07 00:00:00.000",
                                    "InvoiceId": "327"
                                },
                                {
                                    "FirstName": "Luís",
                                    "LastName": "Gonçalves",
                                    "InvoiceDate": "2013-08-07 00:00:00.000",
                                    "InvoiceId": "382"
                                },
                                {
                                    "FirstName": "Madalena",
                                    "LastName": "Sampaio",
                                    "InvoiceDate": "2010-07-13 00:00:00.000",
                                    "InvoiceId": "126"
                                },
                                {
                                    "FirstName": "Madalena",
                                    "LastName": "Sampaio",
                                    "InvoiceDate": "2010-10-15 00:00:00.000",
                                    "InvoiceId": "149"
                                },
                                {
                                    "FirstName": "Madalena",
                                    "LastName": "Sampaio",
                                    "InvoiceDate": "2011-01-17 00:00:00.000",
                                    "InvoiceId": "171"
                                },
                                {
                                    "FirstName": "Madalena",
                                    "LastName": "Sampaio",
                                    "InvoiceDate": "2011-09-07 00:00:00.000",
                                    "InvoiceId": "223"
                                },
                                {
                                    "FirstName": "Madalena",
                                    "LastName": "Sampaio",
                                    "InvoiceDate": "2013-02-28 00:00:00.000",
                                    "InvoiceId": "344"
                                },
                                {
                                    "FirstName": "Madalena",
                                    "LastName": "Sampaio",
                                    "InvoiceDate": "2013-04-10 00:00:00.000",
                                    "InvoiceId": "355"
                                },
                                {
                                    "FirstName": "Madalena",
                                    "LastName": "Sampaio",
                                    "InvoiceDate": "2013-12-09 00:00:00.000",
                                    "InvoiceId": "410"
                                },
                                {
                                    "FirstName": "Manoj",
                                    "LastName": "Pareek",
                                    "InvoiceDate": "2010-06-12 00:00:00.000",
                                    "InvoiceId": "120"
                                },
                                {
                                    "FirstName": "Manoj",
                                    "LastName": "Pareek",
                                    "InvoiceDate": "2010-07-23 00:00:00.000",
                                    "InvoiceId": "131"
                                },
                                {
                                    "FirstName": "Manoj",
                                    "LastName": "Pareek",
                                    "InvoiceDate": "2011-03-23 00:00:00.000",
                                    "InvoiceId": "186"
                                },
                                {
                                    "FirstName": "Manoj",
                                    "LastName": "Pareek",
                                    "InvoiceDate": "2012-10-27 00:00:00.000",
                                    "InvoiceId": "315"
                                },
                                {
                                    "FirstName": "Manoj",
                                    "LastName": "Pareek",
                                    "InvoiceDate": "2013-01-29 00:00:00.000",
                                    "InvoiceId": "338"
                                },
                                {
                                    "FirstName": "Manoj",
                                    "LastName": "Pareek",
                                    "InvoiceDate": "2013-05-03 00:00:00.000",
                                    "InvoiceId": "360"
                                },
                                {
                                    "FirstName": "Manoj",
                                    "LastName": "Pareek",
                                    "InvoiceDate": "2013-12-22 00:00:00.000",
                                    "InvoiceId": "412"
                                },
                                {
                                    "FirstName": "Marc",
                                    "LastName": "Dubois",
                                    "InvoiceDate": "2010-04-11 00:00:00.000",
                                    "InvoiceId": "106"
                                },
                                {
                                    "FirstName": "Marc",
                                    "LastName": "Dubois",
                                    "InvoiceDate": "2010-05-22 00:00:00.000",
                                    "InvoiceId": "117"
                                },
                                {
                                    "FirstName": "Marc",
                                    "LastName": "Dubois",
                                    "InvoiceDate": "2011-01-20 00:00:00.000",
                                    "InvoiceId": "172"
                                },
                                {
                                    "FirstName": "Marc",
                                    "LastName": "Dubois",
                                    "InvoiceDate": "2012-08-26 00:00:00.000",
                                    "InvoiceId": "301"
                                },
                                {
                                    "FirstName": "Marc",
                                    "LastName": "Dubois",
                                    "InvoiceDate": "2012-11-28 00:00:00.000",
                                    "InvoiceId": "324"
                                },
                                {
                                    "FirstName": "Marc",
                                    "LastName": "Dubois",
                                    "InvoiceDate": "2013-03-02 00:00:00.000",
                                    "InvoiceId": "346"
                                },
                                {
                                    "FirstName": "Marc",
                                    "LastName": "Dubois",
                                    "InvoiceDate": "2013-10-21 00:00:00.000",
                                    "InvoiceId": "398"
                                },
                                {
                                    "FirstName": "Mark",
                                    "LastName": "Philips",
                                    "InvoiceDate": "2009-01-06 00:00:00.000",
                                    "InvoiceId": "4"
                                },
                                {
                                    "FirstName": "Mark",
                                    "LastName": "Philips",
                                    "InvoiceDate": "2010-08-13 00:00:00.000",
                                    "InvoiceId": "133"
                                },
                                {
                                    "FirstName": "Mark",
                                    "LastName": "Philips",
                                    "InvoiceDate": "2010-11-15 00:00:00.000",
                                    "InvoiceId": "156"
                                },
                                {
                                    "FirstName": "Mark",
                                    "LastName": "Philips",
                                    "InvoiceDate": "2011-02-17 00:00:00.000",
                                    "InvoiceId": "178"
                                },
                                {
                                    "FirstName": "Mark",
                                    "LastName": "Philips",
                                    "InvoiceDate": "2011-10-08 00:00:00.000",
                                    "InvoiceId": "230"
                                },
                                {
                                    "FirstName": "Mark",
                                    "LastName": "Philips",
                                    "InvoiceDate": "2013-03-31 00:00:00.000",
                                    "InvoiceId": "351"
                                },
                                {
                                    "FirstName": "Mark",
                                    "LastName": "Philips",
                                    "InvoiceDate": "2013-05-11 00:00:00.000",
                                    "InvoiceId": "362"
                                },
                                {
                                    "FirstName": "Mark",
                                    "LastName": "Taylor",
                                    "InvoiceDate": "2009-04-04 00:00:00.000",
                                    "InvoiceId": "21"
                                },
                                {
                                    "FirstName": "Mark",
                                    "LastName": "Taylor",
                                    "InvoiceDate": "2009-07-07 00:00:00.000",
                                    "InvoiceId": "44"
                                },
                                {
                                    "FirstName": "Mark",
                                    "LastName": "Taylor",
                                    "InvoiceDate": "2009-10-09 00:00:00.000",
                                    "InvoiceId": "66"
                                },
                                {
                                    "FirstName": "Mark",
                                    "LastName": "Taylor",
                                    "InvoiceDate": "2010-05-30 00:00:00.000",
                                    "InvoiceId": "118"
                                },
                                {
                                    "FirstName": "Mark",
                                    "LastName": "Taylor",
                                    "InvoiceDate": "2011-11-21 00:00:00.000",
                                    "InvoiceId": "239"
                                },
                                {
                                    "FirstName": "Mark",
                                    "LastName": "Taylor",
                                    "InvoiceDate": "2012-01-01 00:00:00.000",
                                    "InvoiceId": "250"
                                },
                                {
                                    "FirstName": "Mark",
                                    "LastName": "Taylor",
                                    "InvoiceDate": "2012-08-31 00:00:00.000",
                                    "InvoiceId": "305"
                                },
                                {
                                    "FirstName": "Martha",
                                    "LastName": "Silk",
                                    "InvoiceDate": "2009-03-09 00:00:00.000",
                                    "InvoiceId": "18"
                                },
                                {
                                    "FirstName": "Martha",
                                    "LastName": "Silk",
                                    "InvoiceDate": "2010-10-14 00:00:00.000",
                                    "InvoiceId": "147"
                                },
                                {
                                    "FirstName": "Martha",
                                    "LastName": "Silk",
                                    "InvoiceDate": "2011-01-16 00:00:00.000",
                                    "InvoiceId": "170"
                                },
                                {
                                    "FirstName": "Martha",
                                    "LastName": "Silk",
                                    "InvoiceDate": "2011-04-20 00:00:00.000",
                                    "InvoiceId": "192"
                                },
                                {
                                    "FirstName": "Martha",
                                    "LastName": "Silk",
                                    "InvoiceDate": "2011-12-09 00:00:00.000",
                                    "InvoiceId": "244"
                                },
                                {
                                    "FirstName": "Martha",
                                    "LastName": "Silk",
                                    "InvoiceDate": "2013-06-01 00:00:00.000",
                                    "InvoiceId": "365"
                                },
                                {
                                    "FirstName": "Martha",
                                    "LastName": "Silk",
                                    "InvoiceDate": "2013-07-12 00:00:00.000",
                                    "InvoiceId": "376"
                                },
                                {
                                    "FirstName": "Michelle",
                                    "LastName": "Brooks",
                                    "InvoiceDate": "2010-05-12 00:00:00.000",
                                    "InvoiceId": "112"
                                },
                                {
                                    "FirstName": "Michelle",
                                    "LastName": "Brooks",
                                    "InvoiceDate": "2010-08-14 00:00:00.000",
                                    "InvoiceId": "135"
                                },
                                {
                                    "FirstName": "Michelle",
                                    "LastName": "Brooks",
                                    "InvoiceDate": "2010-11-16 00:00:00.000",
                                    "InvoiceId": "157"
                                },
                                {
                                    "FirstName": "Michelle",
                                    "LastName": "Brooks",
                                    "InvoiceDate": "2011-07-07 00:00:00.000",
                                    "InvoiceId": "209"
                                },
                                {
                                    "FirstName": "Michelle",
                                    "LastName": "Brooks",
                                    "InvoiceDate": "2012-12-28 00:00:00.000",
                                    "InvoiceId": "330"
                                },
                                {
                                    "FirstName": "Michelle",
                                    "LastName": "Brooks",
                                    "InvoiceDate": "2013-02-07 00:00:00.000",
                                    "InvoiceId": "341"
                                },
                                {
                                    "FirstName": "Michelle",
                                    "LastName": "Brooks",
                                    "InvoiceDate": "2013-10-08 00:00:00.000",
                                    "InvoiceId": "396"
                                },
                                {
                                    "FirstName": "Niklas",
                                    "LastName": "Schröder",
                                    "InvoiceDate": "2009-02-01 00:00:00.000",
                                    "InvoiceId": "7"
                                },
                                {
                                    "FirstName": "Niklas",
                                    "LastName": "Schröder",
                                    "InvoiceDate": "2009-05-06 00:00:00.000",
                                    "InvoiceId": "30"
                                },
                                {
                                    "FirstName": "Niklas",
                                    "LastName": "Schröder",
                                    "InvoiceDate": "2009-08-08 00:00:00.000",
                                    "InvoiceId": "52"
                                },
                                {
                                    "FirstName": "Niklas",
                                    "LastName": "Schröder",
                                    "InvoiceDate": "2010-03-29 00:00:00.000",
                                    "InvoiceId": "104"
                                },
                                {
                                    "FirstName": "Niklas",
                                    "LastName": "Schröder",
                                    "InvoiceDate": "2011-09-20 00:00:00.000",
                                    "InvoiceId": "225"
                                },
                                {
                                    "FirstName": "Niklas",
                                    "LastName": "Schröder",
                                    "InvoiceDate": "2011-10-31 00:00:00.000",
                                    "InvoiceId": "236"
                                },
                                {
                                    "FirstName": "Niklas",
                                    "LastName": "Schröder",
                                    "InvoiceDate": "2012-06-30 00:00:00.000",
                                    "InvoiceId": "291"
                                },
                                {
                                    "FirstName": "Patrick",
                                    "LastName": "Gray",
                                    "InvoiceDate": "2009-06-10 00:00:00.000",
                                    "InvoiceId": "39"
                                },
                                {
                                    "FirstName": "Patrick",
                                    "LastName": "Gray",
                                    "InvoiceDate": "2011-01-15 00:00:00.000",
                                    "InvoiceId": "168"
                                },
                                {
                                    "FirstName": "Patrick",
                                    "LastName": "Gray",
                                    "InvoiceDate": "2011-04-19 00:00:00.000",
                                    "InvoiceId": "191"
                                },
                                {
                                    "FirstName": "Patrick",
                                    "LastName": "Gray",
                                    "InvoiceDate": "2011-07-22 00:00:00.000",
                                    "InvoiceId": "213"
                                },
                                {
                                    "FirstName": "Patrick",
                                    "LastName": "Gray",
                                    "InvoiceDate": "2012-03-11 00:00:00.000",
                                    "InvoiceId": "265"
                                },
                                {
                                    "FirstName": "Patrick",
                                    "LastName": "Gray",
                                    "InvoiceDate": "2013-09-02 00:00:00.000",
                                    "InvoiceId": "386"
                                },
                                {
                                    "FirstName": "Patrick",
                                    "LastName": "Gray",
                                    "InvoiceDate": "2013-10-13 00:00:00.000",
                                    "InvoiceId": "397"
                                },
                                {
                                    "FirstName": "Phil",
                                    "LastName": "Hughes",
                                    "InvoiceDate": "2009-07-06 00:00:00.000",
                                    "InvoiceId": "43"
                                },
                                {
                                    "FirstName": "Phil",
                                    "LastName": "Hughes",
                                    "InvoiceDate": "2009-08-16 00:00:00.000",
                                    "InvoiceId": "54"
                                },
                                {
                                    "FirstName": "Phil",
                                    "LastName": "Hughes",
                                    "InvoiceDate": "2010-04-16 00:00:00.000",
                                    "InvoiceId": "109"
                                },
                                {
                                    "FirstName": "Phil",
                                    "LastName": "Hughes",
                                    "InvoiceDate": "2011-11-21 00:00:00.000",
                                    "InvoiceId": "238"
                                },
                                {
                                    "FirstName": "Phil",
                                    "LastName": "Hughes",
                                    "InvoiceDate": "2012-02-23 00:00:00.000",
                                    "InvoiceId": "261"
                                },
                                {
                                    "FirstName": "Phil",
                                    "LastName": "Hughes",
                                    "InvoiceDate": "2012-05-27 00:00:00.000",
                                    "InvoiceId": "283"
                                },
                                {
                                    "FirstName": "Phil",
                                    "LastName": "Hughes",
                                    "InvoiceDate": "2013-01-15 00:00:00.000",
                                    "InvoiceId": "335"
                                },
                                {
                                    "FirstName": "Puja",
                                    "LastName": "Srivastava",
                                    "InvoiceDate": "2009-04-05 00:00:00.000",
                                    "InvoiceId": "23"
                                },
                                {
                                    "FirstName": "Puja",
                                    "LastName": "Srivastava",
                                    "InvoiceDate": "2009-07-08 00:00:00.000",
                                    "InvoiceId": "45"
                                },
                                {
                                    "FirstName": "Puja",
                                    "LastName": "Srivastava",
                                    "InvoiceDate": "2010-02-26 00:00:00.000",
                                    "InvoiceId": "97"
                                },
                                {
                                    "FirstName": "Puja",
                                    "LastName": "Srivastava",
                                    "InvoiceDate": "2011-08-20 00:00:00.000",
                                    "InvoiceId": "218"
                                },
                                {
                                    "FirstName": "Puja",
                                    "LastName": "Srivastava",
                                    "InvoiceDate": "2011-09-30 00:00:00.000",
                                    "InvoiceId": "229"
                                },
                                {
                                    "FirstName": "Puja",
                                    "LastName": "Srivastava",
                                    "InvoiceDate": "2012-05-30 00:00:00.000",
                                    "InvoiceId": "284"
                                },
                                {
                                    "FirstName": "Richard",
                                    "LastName": "Cunningham",
                                    "InvoiceDate": "2009-11-07 00:00:00.000",
                                    "InvoiceId": "70"
                                },
                                {
                                    "FirstName": "Richard",
                                    "LastName": "Cunningham",
                                    "InvoiceDate": "2010-02-09 00:00:00.000",
                                    "InvoiceId": "93"
                                },
                                {
                                    "FirstName": "Richard",
                                    "LastName": "Cunningham",
                                    "InvoiceDate": "2010-05-14 00:00:00.000",
                                    "InvoiceId": "115"
                                },
                                {
                                    "FirstName": "Richard",
                                    "LastName": "Cunningham",
                                    "InvoiceDate": "2011-01-02 00:00:00.000",
                                    "InvoiceId": "167"
                                },
                                {
                                    "FirstName": "Richard",
                                    "LastName": "Cunningham",
                                    "InvoiceDate": "2012-06-25 00:00:00.000",
                                    "InvoiceId": "288"
                                },
                                {
                                    "FirstName": "Richard",
                                    "LastName": "Cunningham",
                                    "InvoiceDate": "2012-08-05 00:00:00.000",
                                    "InvoiceId": "299"
                                },
                                {
                                    "FirstName": "Richard",
                                    "LastName": "Cunningham",
                                    "InvoiceDate": "2013-04-05 00:00:00.000",
                                    "InvoiceId": "354"
                                },
                                {
                                    "FirstName": "Robert",
                                    "LastName": "Brown",
                                    "InvoiceDate": "2009-07-24 00:00:00.000",
                                    "InvoiceId": "48"
                                },
                                {
                                    "FirstName": "Robert",
                                    "LastName": "Brown",
                                    "InvoiceDate": "2011-01-15 00:00:00.000",
                                    "InvoiceId": "169"
                                },
                                {
                                    "FirstName": "Robert",
                                    "LastName": "Brown",
                                    "InvoiceDate": "2011-02-25 00:00:00.000",
                                    "InvoiceId": "180"
                                },
                                {
                                    "FirstName": "Robert",
                                    "LastName": "Brown",
                                    "InvoiceDate": "2011-10-26 00:00:00.000",
                                    "InvoiceId": "235"
                                },
                                {
                                    "FirstName": "Robert",
                                    "LastName": "Brown",
                                    "InvoiceDate": "2013-06-01 00:00:00.000",
                                    "InvoiceId": "364"
                                },
                                {
                                    "FirstName": "Robert",
                                    "LastName": "Brown",
                                    "InvoiceDate": "2013-09-03 00:00:00.000",
                                    "InvoiceId": "387"
                                },
                                {
                                    "FirstName": "Robert",
                                    "LastName": "Brown",
                                    "InvoiceDate": "2013-12-06 00:00:00.000",
                                    "InvoiceId": "409"
                                },
                                {
                                    "FirstName": "Roberto",
                                    "LastName": "Almeida",
                                    "InvoiceDate": "2009-05-23 00:00:00.000",
                                    "InvoiceId": "34"
                                },
                                {
                                    "FirstName": "Roberto",
                                    "LastName": "Almeida",
                                    "InvoiceDate": "2010-11-14 00:00:00.000",
                                    "InvoiceId": "155"
                                },
                                {
                                    "FirstName": "Roberto",
                                    "LastName": "Almeida",
                                    "InvoiceDate": "2010-12-25 00:00:00.000",
                                    "InvoiceId": "166"
                                },
                                {
                                    "FirstName": "Roberto",
                                    "LastName": "Almeida",
                                    "InvoiceDate": "2011-08-25 00:00:00.000",
                                    "InvoiceId": "221"
                                },
                                {
                                    "FirstName": "Roberto",
                                    "LastName": "Almeida",
                                    "InvoiceDate": "2013-03-31 00:00:00.000",
                                    "InvoiceId": "350"
                                },
                                {
                                    "FirstName": "Roberto",
                                    "LastName": "Almeida",
                                    "InvoiceDate": "2013-07-03 00:00:00.000",
                                    "InvoiceId": "373"
                                },
                                {
                                    "FirstName": "Roberto",
                                    "LastName": "Almeida",
                                    "InvoiceDate": "2013-10-05 00:00:00.000",
                                    "InvoiceId": "395"
                                },
                                {
                                    "FirstName": "Stanisław",
                                    "LastName": "Wójcik",
                                    "InvoiceDate": "2009-10-07 00:00:00.000",
                                    "InvoiceId": "64"
                                },
                                {
                                    "FirstName": "Stanisław",
                                    "LastName": "Wójcik",
                                    "InvoiceDate": "2009-11-17 00:00:00.000",
                                    "InvoiceId": "75"
                                },
                                {
                                    "FirstName": "Stanisław",
                                    "LastName": "Wójcik",
                                    "InvoiceDate": "2010-07-18 00:00:00.000",
                                    "InvoiceId": "130"
                                },
                                {
                                    "FirstName": "Stanisław",
                                    "LastName": "Wójcik",
                                    "InvoiceDate": "2012-02-22 00:00:00.000",
                                    "InvoiceId": "259"
                                },
                                {
                                    "FirstName": "Stanisław",
                                    "LastName": "Wójcik",
                                    "InvoiceDate": "2012-05-26 00:00:00.000",
                                    "InvoiceId": "282"
                                },
                                {
                                    "FirstName": "Stanisław",
                                    "LastName": "Wójcik",
                                    "InvoiceDate": "2012-08-28 00:00:00.000",
                                    "InvoiceId": "304"
                                },
                                {
                                    "FirstName": "Stanisław",
                                    "LastName": "Wójcik",
                                    "InvoiceDate": "2013-04-18 00:00:00.000",
                                    "InvoiceId": "356"
                                },
                                {
                                    "FirstName": "Steve",
                                    "LastName": "Murray",
                                    "InvoiceDate": "2009-03-22 00:00:00.000",
                                    "InvoiceId": "20"
                                },
                                {
                                    "FirstName": "Steve",
                                    "LastName": "Murray",
                                    "InvoiceDate": "2010-09-13 00:00:00.000",
                                    "InvoiceId": "141"
                                },
                                {
                                    "FirstName": "Steve",
                                    "LastName": "Murray",
                                    "InvoiceDate": "2010-10-24 00:00:00.000",
                                    "InvoiceId": "152"
                                },
                                {
                                    "FirstName": "Steve",
                                    "LastName": "Murray",
                                    "InvoiceDate": "2011-06-24 00:00:00.000",
                                    "InvoiceId": "207"
                                },
                                {
                                    "FirstName": "Steve",
                                    "LastName": "Murray",
                                    "InvoiceDate": "2013-01-28 00:00:00.000",
                                    "InvoiceId": "336"
                                },
                                {
                                    "FirstName": "Steve",
                                    "LastName": "Murray",
                                    "InvoiceDate": "2013-05-02 00:00:00.000",
                                    "InvoiceId": "359"
                                },
                                {
                                    "FirstName": "Steve",
                                    "LastName": "Murray",
                                    "InvoiceDate": "2013-08-04 00:00:00.000",
                                    "InvoiceId": "381"
                                },
                                {
                                    "FirstName": "Terhi",
                                    "LastName": "Hämäläinen",
                                    "InvoiceDate": "2009-08-11 00:00:00.000",
                                    "InvoiceId": "53"
                                },
                                {
                                    "FirstName": "Terhi",
                                    "LastName": "Hämäläinen",
                                    "InvoiceDate": "2011-03-18 00:00:00.000",
                                    "InvoiceId": "182"
                                },
                                {
                                    "FirstName": "Terhi",
                                    "LastName": "Hämäläinen",
                                    "InvoiceDate": "2011-06-20 00:00:00.000",
                                    "InvoiceId": "205"
                                },
                                {
                                    "FirstName": "Terhi",
                                    "LastName": "Hämäläinen",
                                    "InvoiceDate": "2011-09-22 00:00:00.000",
                                    "InvoiceId": "227"
                                },
                                {
                                    "FirstName": "Terhi",
                                    "LastName": "Hämäläinen",
                                    "InvoiceDate": "2012-05-12 00:00:00.000",
                                    "InvoiceId": "279"
                                },
                                {
                                    "FirstName": "Terhi",
                                    "LastName": "Hämäläinen",
                                    "InvoiceDate": "2013-11-03 00:00:00.000",
                                    "InvoiceId": "400"
                                },
                                {
                                    "FirstName": "Terhi",
                                    "LastName": "Hämäläinen",
                                    "InvoiceDate": "2013-12-14 00:00:00.000",
                                    "InvoiceId": "411"
                                },
                                {
                                    "FirstName": "Tim",
                                    "LastName": "Goyer",
                                    "InvoiceDate": "2009-03-04 00:00:00.000",
                                    "InvoiceId": "15"
                                },
                                {
                                    "FirstName": "Tim",
                                    "LastName": "Goyer",
                                    "InvoiceDate": "2009-04-14 00:00:00.000",
                                    "InvoiceId": "26"
                                },
                                {
                                    "FirstName": "Tim",
                                    "LastName": "Goyer",
                                    "InvoiceDate": "2009-12-13 00:00:00.000",
                                    "InvoiceId": "81"
                                },
                                {
                                    "FirstName": "Tim",
                                    "LastName": "Goyer",
                                    "InvoiceDate": "2011-07-20 00:00:00.000",
                                    "InvoiceId": "210"
                                },
                                {
                                    "FirstName": "Tim",
                                    "LastName": "Goyer",
                                    "InvoiceDate": "2011-10-22 00:00:00.000",
                                    "InvoiceId": "233"
                                },
                                {
                                    "FirstName": "Tim",
                                    "LastName": "Goyer",
                                    "InvoiceDate": "2012-01-24 00:00:00.000",
                                    "InvoiceId": "255"
                                },
                                {
                                    "FirstName": "Tim",
                                    "LastName": "Goyer",
                                    "InvoiceDate": "2012-09-13 00:00:00.000",
                                    "InvoiceId": "307"
                                },
                                {
                                    "FirstName": "Victor",
                                    "LastName": "Stevens",
                                    "InvoiceDate": "2009-03-06 00:00:00.000",
                                    "InvoiceId": "17"
                                },
                                {
                                    "FirstName": "Victor",
                                    "LastName": "Stevens",
                                    "InvoiceDate": "2009-10-25 00:00:00.000",
                                    "InvoiceId": "69"
                                },
                                {
                                    "FirstName": "Victor",
                                    "LastName": "Stevens",
                                    "InvoiceDate": "2011-04-18 00:00:00.000",
                                    "InvoiceId": "190"
                                },
                                {
                                    "FirstName": "Victor",
                                    "LastName": "Stevens",
                                    "InvoiceDate": "2011-05-29 00:00:00.000",
                                    "InvoiceId": "201"
                                },
                                {
                                    "FirstName": "Victor",
                                    "LastName": "Stevens",
                                    "InvoiceDate": "2012-01-27 00:00:00.000",
                                    "InvoiceId": "256"
                                },
                                {
                                    "FirstName": "Victor",
                                    "LastName": "Stevens",
                                    "InvoiceDate": "2013-09-02 00:00:00.000",
                                    "InvoiceId": "385"
                                },
                                {
                                    "FirstName": "Victor",
                                    "LastName": "Stevens",
                                    "InvoiceDate": "2013-12-05 00:00:00.000",
                                    "InvoiceId": "408"
                                },
                                {
                                    "FirstName": "Wyatt",
                                    "LastName": "Girard",
                                    "InvoiceDate": "2009-02-02 00:00:00.000",
                                    "InvoiceId": "9"
                                },
                                {
                                    "FirstName": "Wyatt",
                                    "LastName": "Girard",
                                    "InvoiceDate": "2009-05-07 00:00:00.000",
                                    "InvoiceId": "31"
                                },
                                {
                                    "FirstName": "Wyatt",
                                    "LastName": "Girard",
                                    "InvoiceDate": "2009-12-26 00:00:00.000",
                                    "InvoiceId": "83"
                                },
                                {
                                    "FirstName": "Wyatt",
                                    "LastName": "Girard",
                                    "InvoiceDate": "2011-06-19 00:00:00.000",
                                    "InvoiceId": "204"
                                },
                                {
                                    "FirstName": "Wyatt",
                                    "LastName": "Girard",
                                    "InvoiceDate": "2011-07-30 00:00:00.000",
                                    "InvoiceId": "215"
                                },
                                {
                                    "FirstName": "Wyatt",
                                    "LastName": "Girard",
                                    "InvoiceDate": "2012-03-29 00:00:00.000",
                                    "InvoiceId": "270"
                                },
                                {
                                    "FirstName": "Wyatt",
                                    "LastName": "Girard",
                                    "InvoiceDate": "2013-11-03 00:00:00.000",
                                    "InvoiceId": "399"
                                }
                            ]
                        },
                        "text/html": [
                            "<table>",
                            "<tr><th>FirstName</th><th>LastName</th><th>InvoiceDate</th><th>InvoiceId</th></tr>",
                            "<tr><td>Aaron</td><td>Mitchell</td><td>2009-08-06 00:00:00.000</td><td>50</td></tr>",
                            "<tr><td>Aaron</td><td>Mitchell</td><td>2009-09-16 00:00:00.000</td><td>61</td></tr>",
                            "<tr><td>Aaron</td><td>Mitchell</td><td>2010-05-17 00:00:00.000</td><td>116</td></tr>",
                            "<tr><td>Aaron</td><td>Mitchell</td><td>2011-12-22 00:00:00.000</td><td>245</td></tr>",
                            "<tr><td>Aaron</td><td>Mitchell</td><td>2012-03-25 00:00:00.000</td><td>268</td></tr>",
                            "<tr><td>Aaron</td><td>Mitchell</td><td>2012-06-27 00:00:00.000</td><td>290</td></tr>",
                            "<tr><td>Aaron</td><td>Mitchell</td><td>2013-02-15 00:00:00.000</td><td>342</td></tr>",
                            "<tr><td>Alexandre</td><td>Rocha</td><td>2009-09-06 00:00:00.000</td><td>57</td></tr>",
                            "<tr><td>Alexandre</td><td>Rocha</td><td>2009-10-17 00:00:00.000</td><td>68</td></tr>",
                            "<tr><td>Alexandre</td><td>Rocha</td><td>2010-06-17 00:00:00.000</td><td>123</td></tr>",
                            "<tr><td>Alexandre</td><td>Rocha</td><td>2012-01-22 00:00:00.000</td><td>252</td></tr>",
                            "<tr><td>Alexandre</td><td>Rocha</td><td>2012-04-25 00:00:00.000</td><td>275</td></tr>",
                            "<tr><td>Alexandre</td><td>Rocha</td><td>2012-07-28 00:00:00.000</td><td>297</td></tr>",
                            "<tr><td>Alexandre</td><td>Rocha</td><td>2013-03-18 00:00:00.000</td><td>349</td></tr>",
                            "<tr><td>Astrid</td><td>Gruber</td><td>2009-12-08 00:00:00.000</td><td>78</td></tr>",
                            "<tr><td>Astrid</td><td>Gruber</td><td>2010-01-18 00:00:00.000</td><td>89</td></tr>",
                            "<tr><td>Astrid</td><td>Gruber</td><td>2010-09-18 00:00:00.000</td><td>144</td></tr>",
                            "<tr><td>Astrid</td><td>Gruber</td><td>2012-04-24 00:00:00.000</td><td>273</td></tr>",
                            "<tr><td>Astrid</td><td>Gruber</td><td>2012-07-27 00:00:00.000</td><td>296</td></tr>",
                            "<tr><td>Astrid</td><td>Gruber</td><td>2012-10-29 00:00:00.000</td><td>318</td></tr>",
                            "<tr><td>Astrid</td><td>Gruber</td><td>2013-06-19 00:00:00.000</td><td>370</td></tr>",
                            "<tr><td>Bjørn</td><td>Hansen</td><td>2009-01-02 00:00:00.000</td><td>2</td></tr>",
                            "<tr><td>Bjørn</td><td>Hansen</td><td>2009-04-06 00:00:00.000</td><td>24</td></tr>",
                            "<tr><td>Bjørn</td><td>Hansen</td><td>2009-11-25 00:00:00.000</td><td>76</td></tr>",
                            "<tr><td>Bjørn</td><td>Hansen</td><td>2011-05-19 00:00:00.000</td><td>197</td></tr>",
                            "<tr><td>Bjørn</td><td>Hansen</td><td>2011-06-29 00:00:00.000</td><td>208</td></tr>",
                            "<tr><td>Bjørn</td><td>Hansen</td><td>2012-02-27 00:00:00.000</td><td>263</td></tr>",
                            "<tr><td>Bjørn</td><td>Hansen</td><td>2013-10-03 00:00:00.000</td><td>392</td></tr>",
                            "<tr><td>Camille</td><td>Bernard</td><td>2010-04-11 00:00:00.000</td><td>105</td></tr>",
                            "<tr><td>Camille</td><td>Bernard</td><td>2010-07-14 00:00:00.000</td><td>128</td></tr>",
                            "<tr><td>Camille</td><td>Bernard</td><td>2010-10-16 00:00:00.000</td><td>150</td></tr>",
                            "<tr><td>Camille</td><td>Bernard</td><td>2011-06-06 00:00:00.000</td><td>202</td></tr>",
                            "<tr><td>Camille</td><td>Bernard</td><td>2012-11-27 00:00:00.000</td><td>323</td></tr>",
                            "<tr><td>Camille</td><td>Bernard</td><td>2013-01-07 00:00:00.000</td><td>334</td></tr>",
                            "<tr><td>Camille</td><td>Bernard</td><td>2013-09-07 00:00:00.000</td><td>389</td></tr>",
                            "<tr><td>Daan</td><td>Peeters</td><td>2009-01-03 00:00:00.000</td><td>3</td></tr>",
                            "<tr><td>Daan</td><td>Peeters</td><td>2009-08-24 00:00:00.000</td><td>55</td></tr>",
                            "<tr><td>Daan</td><td>Peeters</td><td>2011-02-15 00:00:00.000</td><td>176</td></tr>",
                            "<tr><td>Daan</td><td>Peeters</td><td>2011-03-28 00:00:00.000</td><td>187</td></tr>",
                            "<tr><td>Daan</td><td>Peeters</td><td>2011-11-26 00:00:00.000</td><td>242</td></tr>",
                            "<tr><td>Daan</td><td>Peeters</td><td>2013-07-02 00:00:00.000</td><td>371</td></tr>",
                            "<tr><td>Daan</td><td>Peeters</td><td>2013-10-04 00:00:00.000</td><td>394</td></tr>",
                            "<tr><td>Dan</td><td>Miller</td><td>2010-05-12 00:00:00.000</td><td>113</td></tr>",
                            "<tr><td>Dan</td><td>Miller</td><td>2010-06-22 00:00:00.000</td><td>124</td></tr>",
                            "<tr><td>Dan</td><td>Miller</td><td>2011-02-20 00:00:00.000</td><td>179</td></tr>",
                            "<tr><td>Dan</td><td>Miller</td><td>2012-09-26 00:00:00.000</td><td>308</td></tr>",
                            "<tr><td>Dan</td><td>Miller</td><td>2012-12-29 00:00:00.000</td><td>331</td></tr>",
                            "<tr><td>Dan</td><td>Miller</td><td>2013-04-02 00:00:00.000</td><td>353</td></tr>",
                            "<tr><td>Dan</td><td>Miller</td><td>2013-11-21 00:00:00.000</td><td>405</td></tr>",
                            "<tr><td>Diego</td><td>Gutiérrez</td><td>2010-06-12 00:00:00.000</td><td>119</td></tr>",
                            "<tr><td>Diego</td><td>Gutiérrez</td><td>2010-09-14 00:00:00.000</td><td>142</td></tr>",
                            "<tr><td>Diego</td><td>Gutiérrez</td><td>2010-12-17 00:00:00.000</td><td>164</td></tr>",
                            "<tr><td>Diego</td><td>Gutiérrez</td><td>2011-08-07 00:00:00.000</td><td>216</td></tr>",
                            "<tr><td>Diego</td><td>Gutiérrez</td><td>2013-01-28 00:00:00.000</td><td>337</td></tr>",
                            "<tr><td>Diego</td><td>Gutiérrez</td><td>2013-03-10 00:00:00.000</td><td>348</td></tr>",
                            "<tr><td>Diego</td><td>Gutiérrez</td><td>2013-11-08 00:00:00.000</td><td>403</td></tr>",
                            "<tr><td>Dominique</td><td>Lefebvre</td><td>2009-02-01 00:00:00.000</td><td>8</td></tr>",
                            "<tr><td>Dominique</td><td>Lefebvre</td><td>2009-03-14 00:00:00.000</td><td>19</td></tr>",
                            "<tr><td>Dominique</td><td>Lefebvre</td><td>2009-11-12 00:00:00.000</td><td>74</td></tr>",
                            "<tr><td>Dominique</td><td>Lefebvre</td><td>2011-06-19 00:00:00.000</td><td>203</td></tr>",
                            "<tr><td>Dominique</td><td>Lefebvre</td><td>2011-09-21 00:00:00.000</td><td>226</td></tr>",
                            "<tr><td>Dominique</td><td>Lefebvre</td><td>2011-12-24 00:00:00.000</td><td>248</td></tr>",
                            "<tr><td>Dominique</td><td>Lefebvre</td><td>2012-08-13 00:00:00.000</td><td>300</td></tr>",
                            "<tr><td>Eduardo</td><td>Martins</td><td>2009-04-09 00:00:00.000</td><td>25</td></tr>",
                            "<tr><td>Eduardo</td><td>Martins</td><td>2010-11-14 00:00:00.000</td><td>154</td></tr>",
                            "<tr><td>Eduardo</td><td>Martins</td><td>2011-02-16 00:00:00.000</td><td>177</td></tr>",
                            "<tr><td>Eduardo</td><td>Martins</td><td>2011-05-21 00:00:00.000</td><td>199</td></tr>",
                            "<tr><td>Eduardo</td><td>Martins</td><td>2012-01-09 00:00:00.000</td><td>251</td></tr>",
                            "<tr><td>Eduardo</td><td>Martins</td><td>2013-07-02 00:00:00.000</td><td>372</td></tr>",
                            "<tr><td>Eduardo</td><td>Martins</td><td>2013-08-12 00:00:00.000</td><td>383</td></tr>",
                            "<tr><td>Edward</td><td>Francis</td><td>2009-08-06 00:00:00.000</td><td>49</td></tr>",
                            "<tr><td>Edward</td><td>Francis</td><td>2009-11-08 00:00:00.000</td><td>72</td></tr>",
                            "<tr><td>Edward</td><td>Francis</td><td>2010-02-10 00:00:00.000</td><td>94</td></tr>",
                            "<tr><td>Edward</td><td>Francis</td><td>2010-10-01 00:00:00.000</td><td>146</td></tr>",
                            "<tr><td>Edward</td><td>Francis</td><td>2012-03-24 00:00:00.000</td><td>267</td></tr>",
                            "<tr><td>Edward</td><td>Francis</td><td>2012-05-04 00:00:00.000</td><td>278</td></tr>",
                            "<tr><td>Edward</td><td>Francis</td><td>2013-01-02 00:00:00.000</td><td>333</td></tr>",
                            "<tr><td>Ellie</td><td>Sullivan</td><td>2009-04-22 00:00:00.000</td><td>27</td></tr>",
                            "<tr><td>Ellie</td><td>Sullivan</td><td>2010-10-14 00:00:00.000</td><td>148</td></tr>",
                            "<tr><td>Ellie</td><td>Sullivan</td><td>2010-11-24 00:00:00.000</td><td>159</td></tr>",
                            "<tr><td>Ellie</td><td>Sullivan</td><td>2011-07-25 00:00:00.000</td><td>214</td></tr>",
                            "<tr><td>Ellie</td><td>Sullivan</td><td>2013-02-28 00:00:00.000</td><td>343</td></tr>",
                            "<tr><td>Ellie</td><td>Sullivan</td><td>2013-06-02 00:00:00.000</td><td>366</td></tr>",
                            "<tr><td>Ellie</td><td>Sullivan</td><td>2013-09-04 00:00:00.000</td><td>388</td></tr>",
                            "<tr><td>Emma</td><td>Jones</td><td>2009-02-06 00:00:00.000</td><td>11</td></tr>",
                            "<tr><td>Emma</td><td>Jones</td><td>2010-09-13 00:00:00.000</td><td>140</td></tr>",
                            "<tr><td>Emma</td><td>Jones</td><td>2010-12-16 00:00:00.000</td><td>163</td></tr>",
                            "<tr><td>Emma</td><td>Jones</td><td>2011-03-20 00:00:00.000</td><td>185</td></tr>",
                            "<tr><td>Emma</td><td>Jones</td><td>2011-11-08 00:00:00.000</td><td>237</td></tr>",
                            "<tr><td>Emma</td><td>Jones</td><td>2013-05-01 00:00:00.000</td><td>358</td></tr>",
                            "<tr><td>Emma</td><td>Jones</td><td>2013-06-11 00:00:00.000</td><td>369</td></tr>",
                            "<tr><td>Enrique</td><td>Muñoz</td><td>2009-06-23 00:00:00.000</td><td>41</td></tr>",
                            "<tr><td>Enrique</td><td>Muñoz</td><td>2010-12-15 00:00:00.000</td><td>162</td></tr>",
                            "<tr><td>Enrique</td><td>Muñoz</td><td>2011-01-25 00:00:00.000</td><td>173</td></tr>",
                            "<tr><td>Enrique</td><td>Muñoz</td><td>2011-09-25 00:00:00.000</td><td>228</td></tr>",
                            "<tr><td>Enrique</td><td>Muñoz</td><td>2013-05-01 00:00:00.000</td><td>357</td></tr>",
                            "<tr><td>Enrique</td><td>Muñoz</td><td>2013-08-03 00:00:00.000</td><td>380</td></tr>",
                            "<tr><td>Enrique</td><td>Muñoz</td><td>2013-11-05 00:00:00.000</td><td>402</td></tr>",
                            "<tr><td>Fernanda</td><td>Ramos</td><td>2009-06-05 00:00:00.000</td><td>35</td></tr>",
                            "<tr><td>Fernanda</td><td>Ramos</td><td>2009-09-07 00:00:00.000</td><td>58</td></tr>",
                            "<tr><td>Fernanda</td><td>Ramos</td><td>2009-12-10 00:00:00.000</td><td>80</td></tr>",
                            "<tr><td>Fernanda</td><td>Ramos</td><td>2010-07-31 00:00:00.000</td><td>132</td></tr>",
                            "<tr><td>Fernanda</td><td>Ramos</td><td>2012-01-22 00:00:00.000</td><td>253</td></tr>",
                            "<tr><td>Fernanda</td><td>Ramos</td><td>2012-03-03 00:00:00.000</td><td>264</td></tr>",
                            "<tr><td>Fernanda</td><td>Ramos</td><td>2012-11-01 00:00:00.000</td><td>319</td></tr>",
                            "<tr><td>François</td><td>Tremblay</td><td>2010-03-11 00:00:00.000</td><td>99</td></tr>",
                            "<tr><td>François</td><td>Tremblay</td><td>2010-04-21 00:00:00.000</td><td>110</td></tr>",
                            "<tr><td>François</td><td>Tremblay</td><td>2010-12-20 00:00:00.000</td><td>165</td></tr>",
                            "<tr><td>François</td><td>Tremblay</td><td>2012-07-26 00:00:00.000</td><td>294</td></tr>",
                            "<tr><td>François</td><td>Tremblay</td><td>2012-10-28 00:00:00.000</td><td>317</td></tr>",
                            "<tr><td>François</td><td>Tremblay</td><td>2013-01-30 00:00:00.000</td><td>339</td></tr>",
                            "<tr><td>François</td><td>Tremblay</td><td>2013-09-20 00:00:00.000</td><td>391</td></tr>",
                            "<tr><td>Frank</td><td>Harris</td><td>2009-02-19 00:00:00.000</td><td>13</td></tr>",
                            "<tr><td>Frank</td><td>Harris</td><td>2010-08-13 00:00:00.000</td><td>134</td></tr>",
                            "<tr><td>Frank</td><td>Harris</td><td>2010-09-23 00:00:00.000</td><td>145</td></tr>",
                            "<tr><td>Frank</td><td>Harris</td><td>2011-05-24 00:00:00.000</td><td>200</td></tr>",
                            "<tr><td>Frank</td><td>Harris</td><td>2012-12-28 00:00:00.000</td><td>329</td></tr>",
                            "<tr><td>Frank</td><td>Harris</td><td>2013-04-01 00:00:00.000</td><td>352</td></tr>",
                            "<tr><td>Frank</td><td>Harris</td><td>2013-07-04 00:00:00.000</td><td>374</td></tr>",
                            "<tr><td>Frank</td><td>Ralston</td><td>2010-02-08 00:00:00.000</td><td>92</td></tr>",
                            "<tr><td>Frank</td><td>Ralston</td><td>2010-03-21 00:00:00.000</td><td>103</td></tr>",
                            "<tr><td>Frank</td><td>Ralston</td><td>2010-11-19 00:00:00.000</td><td>158</td></tr>",
                            "<tr><td>Frank</td><td>Ralston</td><td>2012-06-25 00:00:00.000</td><td>287</td></tr>",
                            "<tr><td>Frank</td><td>Ralston</td><td>2012-09-27 00:00:00.000</td><td>310</td></tr>",
                            "<tr><td>Frank</td><td>Ralston</td><td>2012-12-30 00:00:00.000</td><td>332</td></tr>",
                            "<tr><td>Frank</td><td>Ralston</td><td>2013-08-20 00:00:00.000</td><td>384</td></tr>",
                            "<tr><td>František</td><td>Wichterlová</td><td>2009-12-08 00:00:00.000</td><td>77</td></tr>",
                            "<tr><td>František</td><td>Wichterlová</td><td>2010-03-12 00:00:00.000</td><td>100</td></tr>",
                            "<tr><td>František</td><td>Wichterlová</td><td>2010-06-14 00:00:00.000</td><td>122</td></tr>",
                            "<tr><td>František</td><td>Wichterlová</td><td>2011-02-02 00:00:00.000</td><td>174</td></tr>",
                            "<tr><td>František</td><td>Wichterlová</td><td>2012-07-26 00:00:00.000</td><td>295</td></tr>",
                            "<tr><td>František</td><td>Wichterlová</td><td>2012-09-05 00:00:00.000</td><td>306</td></tr>",
                            "<tr><td>František</td><td>Wichterlová</td><td>2013-05-06 00:00:00.000</td><td>361</td></tr>",
                            "<tr><td>Fynn</td><td>Zimmermann</td><td>2009-01-19 00:00:00.000</td><td>6</td></tr>",
                            "<tr><td>Fynn</td><td>Zimmermann</td><td>2010-07-13 00:00:00.000</td><td>127</td></tr>",
                            "<tr><td>Fynn</td><td>Zimmermann</td><td>2010-08-23 00:00:00.000</td><td>138</td></tr>",
                            "<tr><td>Fynn</td><td>Zimmermann</td><td>2011-04-23 00:00:00.000</td><td>193</td></tr>",
                            "<tr><td>Fynn</td><td>Zimmermann</td><td>2012-11-27 00:00:00.000</td><td>322</td></tr>",
                            "<tr><td>Fynn</td><td>Zimmermann</td><td>2013-03-01 00:00:00.000</td><td>345</td></tr>",
                            "<tr><td>Fynn</td><td>Zimmermann</td><td>2013-06-03 00:00:00.000</td><td>367</td></tr>",
                            "<tr><td>Hannah</td><td>Schneider</td><td>2009-05-05 00:00:00.000</td><td>29</td></tr>",
                            "<tr><td>Hannah</td><td>Schneider</td><td>2009-06-15 00:00:00.000</td><td>40</td></tr>",
                            "<tr><td>Hannah</td><td>Schneider</td><td>2010-02-13 00:00:00.000</td><td>95</td></tr>",
                            "<tr><td>Hannah</td><td>Schneider</td><td>2011-09-20 00:00:00.000</td><td>224</td></tr>",
                            "<tr><td>Hannah</td><td>Schneider</td><td>2011-12-23 00:00:00.000</td><td>247</td></tr>",
                            "<tr><td>Hannah</td><td>Schneider</td><td>2012-03-26 00:00:00.000</td><td>269</td></tr>",
                            "<tr><td>Hannah</td><td>Schneider</td><td>2012-11-14 00:00:00.000</td><td>321</td></tr>",
                            "<tr><td>Heather</td><td>Leacock</td><td>2010-02-08 00:00:00.000</td><td>91</td></tr>",
                            "<tr><td>Heather</td><td>Leacock</td><td>2010-05-13 00:00:00.000</td><td>114</td></tr>",
                            "<tr><td>Heather</td><td>Leacock</td><td>2010-08-15 00:00:00.000</td><td>136</td></tr>",
                            "<tr><td>Heather</td><td>Leacock</td><td>2011-04-05 00:00:00.000</td><td>188</td></tr>",
                            "<tr><td>Heather</td><td>Leacock</td><td>2012-09-26 00:00:00.000</td><td>309</td></tr>",
                            "<tr><td>Heather</td><td>Leacock</td><td>2012-11-06 00:00:00.000</td><td>320</td></tr>",
                            "<tr><td>Heather</td><td>Leacock</td><td>2013-07-07 00:00:00.000</td><td>375</td></tr>",
                            "<tr><td>Helena</td><td>Holý</td><td>2009-07-11 00:00:00.000</td><td>46</td></tr>",
                            "<tr><td>Helena</td><td>Holý</td><td>2011-02-15 00:00:00.000</td><td>175</td></tr>",
                            "<tr><td>Helena</td><td>Holý</td><td>2011-05-20 00:00:00.000</td><td>198</td></tr>",
                            "<tr><td>Helena</td><td>Holý</td><td>2011-08-22 00:00:00.000</td><td>220</td></tr>",
                            "<tr><td>Helena</td><td>Holý</td><td>2012-04-11 00:00:00.000</td><td>272</td></tr>",
                            "<tr><td>Helena</td><td>Holý</td><td>2013-10-03 00:00:00.000</td><td>393</td></tr>",
                            "<tr><td>Helena</td><td>Holý</td><td>2013-11-13 00:00:00.000</td><td>404</td></tr>",
                            "<tr><td>Hugh</td><td>O&#39;Reilly</td><td>2009-02-03 00:00:00.000</td><td>10</td></tr>",
                            "<tr><td>Hugh</td><td>O&#39;Reilly</td><td>2009-09-24 00:00:00.000</td><td>62</td></tr>",
                            "<tr><td>Hugh</td><td>O&#39;Reilly</td><td>2011-03-18 00:00:00.000</td><td>183</td></tr>",
                            "<tr><td>Hugh</td><td>O&#39;Reilly</td><td>2011-04-28 00:00:00.000</td><td>194</td></tr>",
                            "<tr><td>Hugh</td><td>O&#39;Reilly</td><td>2011-12-27 00:00:00.000</td><td>249</td></tr>",
                            "<tr><td>Hugh</td><td>O&#39;Reilly</td><td>2013-08-02 00:00:00.000</td><td>378</td></tr>",
                            "<tr><td>Hugh</td><td>O&#39;Reilly</td><td>2013-11-04 00:00:00.000</td><td>401</td></tr>",
                            "<tr><td>Isabelle</td><td>Mercier</td><td>2010-01-08 00:00:00.000</td><td>84</td></tr>",
                            "<tr><td>Isabelle</td><td>Mercier</td><td>2010-04-12 00:00:00.000</td><td>107</td></tr>",
                            "<tr><td>Isabelle</td><td>Mercier</td><td>2010-07-15 00:00:00.000</td><td>129</td></tr>",
                            "<tr><td>Isabelle</td><td>Mercier</td><td>2011-03-05 00:00:00.000</td><td>181</td></tr>",
                            "<tr><td>Isabelle</td><td>Mercier</td><td>2012-08-26 00:00:00.000</td><td>302</td></tr>",
                            "<tr><td>Isabelle</td><td>Mercier</td><td>2012-10-06 00:00:00.000</td><td>313</td></tr>",
                            "<tr><td>Isabelle</td><td>Mercier</td><td>2013-06-06 00:00:00.000</td><td>368</td></tr>",
                            "<tr><td>Jack</td><td>Smith</td><td>2009-03-04 00:00:00.000</td><td>14</td></tr>",
                            "<tr><td>Jack</td><td>Smith</td><td>2009-06-06 00:00:00.000</td><td>37</td></tr>",
                            "<tr><td>Jack</td><td>Smith</td><td>2009-09-08 00:00:00.000</td><td>59</td></tr>",
                            "<tr><td>Jack</td><td>Smith</td><td>2010-04-29 00:00:00.000</td><td>111</td></tr>",
                            "<tr><td>Jack</td><td>Smith</td><td>2011-10-21 00:00:00.000</td><td>232</td></tr>",
                            "<tr><td>Jack</td><td>Smith</td><td>2011-12-01 00:00:00.000</td><td>243</td></tr>",
                            "<tr><td>Jack</td><td>Smith</td><td>2012-07-31 00:00:00.000</td><td>298</td></tr>",
                            "<tr><td>Jennifer</td><td>Peterson</td><td>2009-06-05 00:00:00.000</td><td>36</td></tr>",
                            "<tr><td>Jennifer</td><td>Peterson</td><td>2009-07-16 00:00:00.000</td><td>47</td></tr>",
                            "<tr><td>Jennifer</td><td>Peterson</td><td>2010-03-16 00:00:00.000</td><td>102</td></tr>",
                            "<tr><td>Jennifer</td><td>Peterson</td><td>2011-10-21 00:00:00.000</td><td>231</td></tr>",
                            "<tr><td>Jennifer</td><td>Peterson</td><td>2012-01-23 00:00:00.000</td><td>254</td></tr>",
                            "<tr><td>Jennifer</td><td>Peterson</td><td>2012-04-26 00:00:00.000</td><td>276</td></tr>",
                            "<tr><td>Jennifer</td><td>Peterson</td><td>2012-12-15 00:00:00.000</td><td>328</td></tr>",
                            "<tr><td>Joakim</td><td>Johansson</td><td>2009-07-06 00:00:00.000</td><td>42</td></tr>",
                            "<tr><td>Joakim</td><td>Johansson</td><td>2009-10-08 00:00:00.000</td><td>65</td></tr>",
                            "<tr><td>Joakim</td><td>Johansson</td><td>2010-01-10 00:00:00.000</td><td>87</td></tr>",
                            "<tr><td>Joakim</td><td>Johansson</td><td>2010-08-31 00:00:00.000</td><td>139</td></tr>",
                            "<tr><td>Joakim</td><td>Johansson</td><td>2012-02-22 00:00:00.000</td><td>260</td></tr>",
                            "<tr><td>Joakim</td><td>Johansson</td><td>2012-04-03 00:00:00.000</td><td>271</td></tr>",
                            "<tr><td>Joakim</td><td>Johansson</td><td>2012-12-02 00:00:00.000</td><td>326</td></tr>",
                            "<tr><td>João</td><td>Fernandes</td><td>2009-05-05 00:00:00.000</td><td>28</td></tr>",
                            "<tr><td>João</td><td>Fernandes</td><td>2009-08-07 00:00:00.000</td><td>51</td></tr>",
                            "<tr><td>João</td><td>Fernandes</td><td>2009-11-09 00:00:00.000</td><td>73</td></tr>",
                            "<tr><td>João</td><td>Fernandes</td><td>2010-06-30 00:00:00.000</td><td>125</td></tr>",
                            "<tr><td>João</td><td>Fernandes</td><td>2011-12-22 00:00:00.000</td><td>246</td></tr>",
                            "<tr><td>João</td><td>Fernandes</td><td>2012-02-01 00:00:00.000</td><td>257</td></tr>",
                            "<tr><td>João</td><td>Fernandes</td><td>2012-10-01 00:00:00.000</td><td>312</td></tr>",
                            "<tr><td>Johannes</td><td>Van der Berg</td><td>2009-05-10 00:00:00.000</td><td>32</td></tr>",
                            "<tr><td>Johannes</td><td>Van der Berg</td><td>2010-12-15 00:00:00.000</td><td>161</td></tr>",
                            "<tr><td>Johannes</td><td>Van der Berg</td><td>2011-03-19 00:00:00.000</td><td>184</td></tr>",
                            "<tr><td>Johannes</td><td>Van der Berg</td><td>2011-06-21 00:00:00.000</td><td>206</td></tr>",
                            "<tr><td>Johannes</td><td>Van der Berg</td><td>2012-02-09 00:00:00.000</td><td>258</td></tr>",
                            "<tr><td>Johannes</td><td>Van der Berg</td><td>2013-08-02 00:00:00.000</td><td>379</td></tr>",
                            "<tr><td>Johannes</td><td>Van der Berg</td><td>2013-09-12 00:00:00.000</td><td>390</td></tr>",
                            "<tr><td>John</td><td>Gordon</td><td>2009-01-11 00:00:00.000</td><td>5</td></tr>",
                            "<tr><td>John</td><td>Gordon</td><td>2009-09-11 00:00:00.000</td><td>60</td></tr>",
                            "<tr><td>John</td><td>Gordon</td><td>2011-04-18 00:00:00.000</td><td>189</td></tr>",
                            "<tr><td>John</td><td>Gordon</td><td>2011-07-21 00:00:00.000</td><td>212</td></tr>",
                            "<tr><td>John</td><td>Gordon</td><td>2011-10-23 00:00:00.000</td><td>234</td></tr>",
                            "<tr><td>John</td><td>Gordon</td><td>2012-06-12 00:00:00.000</td><td>286</td></tr>",
                            "<tr><td>John</td><td>Gordon</td><td>2013-12-04 00:00:00.000</td><td>407</td></tr>",
                            "<tr><td>Julia</td><td>Barnett</td><td>2009-11-07 00:00:00.000</td><td>71</td></tr>",
                            "<tr><td>Julia</td><td>Barnett</td><td>2009-12-18 00:00:00.000</td><td>82</td></tr>",
                            "<tr><td>Julia</td><td>Barnett</td><td>2010-08-18 00:00:00.000</td><td>137</td></tr>",
                            "<tr><td>Julia</td><td>Barnett</td><td>2012-03-24 00:00:00.000</td><td>266</td></tr>",
                            "<tr><td>Julia</td><td>Barnett</td><td>2012-06-26 00:00:00.000</td><td>289</td></tr>",
                            "<tr><td>Julia</td><td>Barnett</td><td>2012-09-28 00:00:00.000</td><td>311</td></tr>",
                            "<tr><td>Julia</td><td>Barnett</td><td>2013-05-19 00:00:00.000</td><td>363</td></tr>",
                            "<tr><td>Kara</td><td>Nielsen</td><td>2009-09-06 00:00:00.000</td><td>56</td></tr>",
                            "<tr><td>Kara</td><td>Nielsen</td><td>2009-12-09 00:00:00.000</td><td>79</td></tr>",
                            "<tr><td>Kara</td><td>Nielsen</td><td>2010-03-13 00:00:00.000</td><td>101</td></tr>",
                            "<tr><td>Kara</td><td>Nielsen</td><td>2010-11-01 00:00:00.000</td><td>153</td></tr>",
                            "<tr><td>Kara</td><td>Nielsen</td><td>2012-04-24 00:00:00.000</td><td>274</td></tr>",
                            "<tr><td>Kara</td><td>Nielsen</td><td>2012-06-04 00:00:00.000</td><td>285</td></tr>",
                            "<tr><td>Kara</td><td>Nielsen</td><td>2013-02-02 00:00:00.000</td><td>340</td></tr>",
                            "<tr><td>Kathy</td><td>Chase</td><td>2009-03-05 00:00:00.000</td><td>16</td></tr>",
                            "<tr><td>Kathy</td><td>Chase</td><td>2009-06-07 00:00:00.000</td><td>38</td></tr>",
                            "<tr><td>Kathy</td><td>Chase</td><td>2010-01-26 00:00:00.000</td><td>90</td></tr>",
                            "<tr><td>Kathy</td><td>Chase</td><td>2011-07-20 00:00:00.000</td><td>211</td></tr>",
                            "<tr><td>Kathy</td><td>Chase</td><td>2011-08-30 00:00:00.000</td><td>222</td></tr>",
                            "<tr><td>Kathy</td><td>Chase</td><td>2012-04-29 00:00:00.000</td><td>277</td></tr>",
                            "<tr><td>Kathy</td><td>Chase</td><td>2013-12-04 00:00:00.000</td><td>406</td></tr>",
                            "<tr><td>Ladislav</td><td>Kovács</td><td>2010-01-08 00:00:00.000</td><td>85</td></tr>",
                            "<tr><td>Ladislav</td><td>Kovács</td><td>2010-02-18 00:00:00.000</td><td>96</td></tr>",
                            "<tr><td>Ladislav</td><td>Kovács</td><td>2010-10-19 00:00:00.000</td><td>151</td></tr>",
                            "<tr><td>Ladislav</td><td>Kovács</td><td>2012-05-25 00:00:00.000</td><td>280</td></tr>",
                            "<tr><td>Ladislav</td><td>Kovács</td><td>2012-08-27 00:00:00.000</td><td>303</td></tr>",
                            "<tr><td>Ladislav</td><td>Kovács</td><td>2012-11-29 00:00:00.000</td><td>325</td></tr>",
                            "<tr><td>Ladislav</td><td>Kovács</td><td>2013-07-20 00:00:00.000</td><td>377</td></tr>",
                            "<tr><td>Leonie</td><td>Köhler</td><td>2009-01-01 00:00:00.000</td><td>1</td></tr>",
                            "<tr><td>Leonie</td><td>Köhler</td><td>2009-02-11 00:00:00.000</td><td>12</td></tr>",
                            "<tr><td>Leonie</td><td>Köhler</td><td>2009-10-12 00:00:00.000</td><td>67</td></tr>",
                            "<tr><td>Leonie</td><td>Köhler</td><td>2011-05-19 00:00:00.000</td><td>196</td></tr>",
                            "<tr><td>Leonie</td><td>Köhler</td><td>2011-08-21 00:00:00.000</td><td>219</td></tr>",
                            "<tr><td>Leonie</td><td>Köhler</td><td>2011-11-23 00:00:00.000</td><td>241</td></tr>",
                            "<tr><td>Leonie</td><td>Köhler</td><td>2012-07-13 00:00:00.000</td><td>293</td></tr>",
                            "<tr><td>Lucas</td><td>Mancini</td><td>2009-10-07 00:00:00.000</td><td>63</td></tr>",
                            "<tr><td>Lucas</td><td>Mancini</td><td>2010-01-09 00:00:00.000</td><td>86</td></tr>",
                            "<tr><td>Lucas</td><td>Mancini</td><td>2010-04-13 00:00:00.000</td><td>108</td></tr>",
                            "<tr><td>Lucas</td><td>Mancini</td><td>2010-12-02 00:00:00.000</td><td>160</td></tr>",
                            "<tr><td>Lucas</td><td>Mancini</td><td>2012-05-25 00:00:00.000</td><td>281</td></tr>",
                            "<tr><td>Lucas</td><td>Mancini</td><td>2012-07-05 00:00:00.000</td><td>292</td></tr>",
                            "<tr><td>Lucas</td><td>Mancini</td><td>2013-03-05 00:00:00.000</td><td>347</td></tr>",
                            "<tr><td>Luis</td><td>Rojas</td><td>2009-04-04 00:00:00.000</td><td>22</td></tr>",
                            "<tr><td>Luis</td><td>Rojas</td><td>2009-05-15 00:00:00.000</td><td>33</td></tr>",
                            "<tr><td>Luis</td><td>Rojas</td><td>2010-01-13 00:00:00.000</td><td>88</td></tr>",
                            "<tr><td>Luis</td><td>Rojas</td><td>2011-08-20 00:00:00.000</td><td>217</td></tr>",
                            "<tr><td>Luis</td><td>Rojas</td><td>2011-11-22 00:00:00.000</td><td>240</td></tr>",
                            "<tr><td>Luis</td><td>Rojas</td><td>2012-02-24 00:00:00.000</td><td>262</td></tr>",
                            "<tr><td>Luis</td><td>Rojas</td><td>2012-10-14 00:00:00.000</td><td>314</td></tr>",
                            "<tr><td>Luís</td><td>Gonçalves</td><td>2010-03-11 00:00:00.000</td><td>98</td></tr>",
                            "<tr><td>Luís</td><td>Gonçalves</td><td>2010-06-13 00:00:00.000</td><td>121</td></tr>",
                            "<tr><td>Luís</td><td>Gonçalves</td><td>2010-09-15 00:00:00.000</td><td>143</td></tr>",
                            "<tr><td>Luís</td><td>Gonçalves</td><td>2011-05-06 00:00:00.000</td><td>195</td></tr>",
                            "<tr><td>Luís</td><td>Gonçalves</td><td>2012-10-27 00:00:00.000</td><td>316</td></tr>",
                            "<tr><td>Luís</td><td>Gonçalves</td><td>2012-12-07 00:00:00.000</td><td>327</td></tr>",
                            "<tr><td>Luís</td><td>Gonçalves</td><td>2013-08-07 00:00:00.000</td><td>382</td></tr>",
                            "<tr><td>Madalena</td><td>Sampaio</td><td>2010-07-13 00:00:00.000</td><td>126</td></tr>",
                            "<tr><td>Madalena</td><td>Sampaio</td><td>2010-10-15 00:00:00.000</td><td>149</td></tr>",
                            "<tr><td>Madalena</td><td>Sampaio</td><td>2011-01-17 00:00:00.000</td><td>171</td></tr>",
                            "<tr><td>Madalena</td><td>Sampaio</td><td>2011-09-07 00:00:00.000</td><td>223</td></tr>",
                            "<tr><td>Madalena</td><td>Sampaio</td><td>2013-02-28 00:00:00.000</td><td>344</td></tr>",
                            "<tr><td>Madalena</td><td>Sampaio</td><td>2013-04-10 00:00:00.000</td><td>355</td></tr>",
                            "<tr><td>Madalena</td><td>Sampaio</td><td>2013-12-09 00:00:00.000</td><td>410</td></tr>",
                            "<tr><td>Manoj</td><td>Pareek</td><td>2010-06-12 00:00:00.000</td><td>120</td></tr>",
                            "<tr><td>Manoj</td><td>Pareek</td><td>2010-07-23 00:00:00.000</td><td>131</td></tr>",
                            "<tr><td>Manoj</td><td>Pareek</td><td>2011-03-23 00:00:00.000</td><td>186</td></tr>",
                            "<tr><td>Manoj</td><td>Pareek</td><td>2012-10-27 00:00:00.000</td><td>315</td></tr>",
                            "<tr><td>Manoj</td><td>Pareek</td><td>2013-01-29 00:00:00.000</td><td>338</td></tr>",
                            "<tr><td>Manoj</td><td>Pareek</td><td>2013-05-03 00:00:00.000</td><td>360</td></tr>",
                            "<tr><td>Manoj</td><td>Pareek</td><td>2013-12-22 00:00:00.000</td><td>412</td></tr>",
                            "<tr><td>Marc</td><td>Dubois</td><td>2010-04-11 00:00:00.000</td><td>106</td></tr>",
                            "<tr><td>Marc</td><td>Dubois</td><td>2010-05-22 00:00:00.000</td><td>117</td></tr>",
                            "<tr><td>Marc</td><td>Dubois</td><td>2011-01-20 00:00:00.000</td><td>172</td></tr>",
                            "<tr><td>Marc</td><td>Dubois</td><td>2012-08-26 00:00:00.000</td><td>301</td></tr>",
                            "<tr><td>Marc</td><td>Dubois</td><td>2012-11-28 00:00:00.000</td><td>324</td></tr>",
                            "<tr><td>Marc</td><td>Dubois</td><td>2013-03-02 00:00:00.000</td><td>346</td></tr>",
                            "<tr><td>Marc</td><td>Dubois</td><td>2013-10-21 00:00:00.000</td><td>398</td></tr>",
                            "<tr><td>Mark</td><td>Philips</td><td>2009-01-06 00:00:00.000</td><td>4</td></tr>",
                            "<tr><td>Mark</td><td>Philips</td><td>2010-08-13 00:00:00.000</td><td>133</td></tr>",
                            "<tr><td>Mark</td><td>Philips</td><td>2010-11-15 00:00:00.000</td><td>156</td></tr>",
                            "<tr><td>Mark</td><td>Philips</td><td>2011-02-17 00:00:00.000</td><td>178</td></tr>",
                            "<tr><td>Mark</td><td>Philips</td><td>2011-10-08 00:00:00.000</td><td>230</td></tr>",
                            "<tr><td>Mark</td><td>Philips</td><td>2013-03-31 00:00:00.000</td><td>351</td></tr>",
                            "<tr><td>Mark</td><td>Philips</td><td>2013-05-11 00:00:00.000</td><td>362</td></tr>",
                            "<tr><td>Mark</td><td>Taylor</td><td>2009-04-04 00:00:00.000</td><td>21</td></tr>",
                            "<tr><td>Mark</td><td>Taylor</td><td>2009-07-07 00:00:00.000</td><td>44</td></tr>",
                            "<tr><td>Mark</td><td>Taylor</td><td>2009-10-09 00:00:00.000</td><td>66</td></tr>",
                            "<tr><td>Mark</td><td>Taylor</td><td>2010-05-30 00:00:00.000</td><td>118</td></tr>",
                            "<tr><td>Mark</td><td>Taylor</td><td>2011-11-21 00:00:00.000</td><td>239</td></tr>",
                            "<tr><td>Mark</td><td>Taylor</td><td>2012-01-01 00:00:00.000</td><td>250</td></tr>",
                            "<tr><td>Mark</td><td>Taylor</td><td>2012-08-31 00:00:00.000</td><td>305</td></tr>",
                            "<tr><td>Martha</td><td>Silk</td><td>2009-03-09 00:00:00.000</td><td>18</td></tr>",
                            "<tr><td>Martha</td><td>Silk</td><td>2010-10-14 00:00:00.000</td><td>147</td></tr>",
                            "<tr><td>Martha</td><td>Silk</td><td>2011-01-16 00:00:00.000</td><td>170</td></tr>",
                            "<tr><td>Martha</td><td>Silk</td><td>2011-04-20 00:00:00.000</td><td>192</td></tr>",
                            "<tr><td>Martha</td><td>Silk</td><td>2011-12-09 00:00:00.000</td><td>244</td></tr>",
                            "<tr><td>Martha</td><td>Silk</td><td>2013-06-01 00:00:00.000</td><td>365</td></tr>",
                            "<tr><td>Martha</td><td>Silk</td><td>2013-07-12 00:00:00.000</td><td>376</td></tr>",
                            "<tr><td>Michelle</td><td>Brooks</td><td>2010-05-12 00:00:00.000</td><td>112</td></tr>",
                            "<tr><td>Michelle</td><td>Brooks</td><td>2010-08-14 00:00:00.000</td><td>135</td></tr>",
                            "<tr><td>Michelle</td><td>Brooks</td><td>2010-11-16 00:00:00.000</td><td>157</td></tr>",
                            "<tr><td>Michelle</td><td>Brooks</td><td>2011-07-07 00:00:00.000</td><td>209</td></tr>",
                            "<tr><td>Michelle</td><td>Brooks</td><td>2012-12-28 00:00:00.000</td><td>330</td></tr>",
                            "<tr><td>Michelle</td><td>Brooks</td><td>2013-02-07 00:00:00.000</td><td>341</td></tr>",
                            "<tr><td>Michelle</td><td>Brooks</td><td>2013-10-08 00:00:00.000</td><td>396</td></tr>",
                            "<tr><td>Niklas</td><td>Schröder</td><td>2009-02-01 00:00:00.000</td><td>7</td></tr>",
                            "<tr><td>Niklas</td><td>Schröder</td><td>2009-05-06 00:00:00.000</td><td>30</td></tr>",
                            "<tr><td>Niklas</td><td>Schröder</td><td>2009-08-08 00:00:00.000</td><td>52</td></tr>",
                            "<tr><td>Niklas</td><td>Schröder</td><td>2010-03-29 00:00:00.000</td><td>104</td></tr>",
                            "<tr><td>Niklas</td><td>Schröder</td><td>2011-09-20 00:00:00.000</td><td>225</td></tr>",
                            "<tr><td>Niklas</td><td>Schröder</td><td>2011-10-31 00:00:00.000</td><td>236</td></tr>",
                            "<tr><td>Niklas</td><td>Schröder</td><td>2012-06-30 00:00:00.000</td><td>291</td></tr>",
                            "<tr><td>Patrick</td><td>Gray</td><td>2009-06-10 00:00:00.000</td><td>39</td></tr>",
                            "<tr><td>Patrick</td><td>Gray</td><td>2011-01-15 00:00:00.000</td><td>168</td></tr>",
                            "<tr><td>Patrick</td><td>Gray</td><td>2011-04-19 00:00:00.000</td><td>191</td></tr>",
                            "<tr><td>Patrick</td><td>Gray</td><td>2011-07-22 00:00:00.000</td><td>213</td></tr>",
                            "<tr><td>Patrick</td><td>Gray</td><td>2012-03-11 00:00:00.000</td><td>265</td></tr>",
                            "<tr><td>Patrick</td><td>Gray</td><td>2013-09-02 00:00:00.000</td><td>386</td></tr>",
                            "<tr><td>Patrick</td><td>Gray</td><td>2013-10-13 00:00:00.000</td><td>397</td></tr>",
                            "<tr><td>Phil</td><td>Hughes</td><td>2009-07-06 00:00:00.000</td><td>43</td></tr>",
                            "<tr><td>Phil</td><td>Hughes</td><td>2009-08-16 00:00:00.000</td><td>54</td></tr>",
                            "<tr><td>Phil</td><td>Hughes</td><td>2010-04-16 00:00:00.000</td><td>109</td></tr>",
                            "<tr><td>Phil</td><td>Hughes</td><td>2011-11-21 00:00:00.000</td><td>238</td></tr>",
                            "<tr><td>Phil</td><td>Hughes</td><td>2012-02-23 00:00:00.000</td><td>261</td></tr>",
                            "<tr><td>Phil</td><td>Hughes</td><td>2012-05-27 00:00:00.000</td><td>283</td></tr>",
                            "<tr><td>Phil</td><td>Hughes</td><td>2013-01-15 00:00:00.000</td><td>335</td></tr>",
                            "<tr><td>Puja</td><td>Srivastava</td><td>2009-04-05 00:00:00.000</td><td>23</td></tr>",
                            "<tr><td>Puja</td><td>Srivastava</td><td>2009-07-08 00:00:00.000</td><td>45</td></tr>",
                            "<tr><td>Puja</td><td>Srivastava</td><td>2010-02-26 00:00:00.000</td><td>97</td></tr>",
                            "<tr><td>Puja</td><td>Srivastava</td><td>2011-08-20 00:00:00.000</td><td>218</td></tr>",
                            "<tr><td>Puja</td><td>Srivastava</td><td>2011-09-30 00:00:00.000</td><td>229</td></tr>",
                            "<tr><td>Puja</td><td>Srivastava</td><td>2012-05-30 00:00:00.000</td><td>284</td></tr>",
                            "<tr><td>Richard</td><td>Cunningham</td><td>2009-11-07 00:00:00.000</td><td>70</td></tr>",
                            "<tr><td>Richard</td><td>Cunningham</td><td>2010-02-09 00:00:00.000</td><td>93</td></tr>",
                            "<tr><td>Richard</td><td>Cunningham</td><td>2010-05-14 00:00:00.000</td><td>115</td></tr>",
                            "<tr><td>Richard</td><td>Cunningham</td><td>2011-01-02 00:00:00.000</td><td>167</td></tr>",
                            "<tr><td>Richard</td><td>Cunningham</td><td>2012-06-25 00:00:00.000</td><td>288</td></tr>",
                            "<tr><td>Richard</td><td>Cunningham</td><td>2012-08-05 00:00:00.000</td><td>299</td></tr>",
                            "<tr><td>Richard</td><td>Cunningham</td><td>2013-04-05 00:00:00.000</td><td>354</td></tr>",
                            "<tr><td>Robert</td><td>Brown</td><td>2009-07-24 00:00:00.000</td><td>48</td></tr>",
                            "<tr><td>Robert</td><td>Brown</td><td>2011-01-15 00:00:00.000</td><td>169</td></tr>",
                            "<tr><td>Robert</td><td>Brown</td><td>2011-02-25 00:00:00.000</td><td>180</td></tr>",
                            "<tr><td>Robert</td><td>Brown</td><td>2011-10-26 00:00:00.000</td><td>235</td></tr>",
                            "<tr><td>Robert</td><td>Brown</td><td>2013-06-01 00:00:00.000</td><td>364</td></tr>",
                            "<tr><td>Robert</td><td>Brown</td><td>2013-09-03 00:00:00.000</td><td>387</td></tr>",
                            "<tr><td>Robert</td><td>Brown</td><td>2013-12-06 00:00:00.000</td><td>409</td></tr>",
                            "<tr><td>Roberto</td><td>Almeida</td><td>2009-05-23 00:00:00.000</td><td>34</td></tr>",
                            "<tr><td>Roberto</td><td>Almeida</td><td>2010-11-14 00:00:00.000</td><td>155</td></tr>",
                            "<tr><td>Roberto</td><td>Almeida</td><td>2010-12-25 00:00:00.000</td><td>166</td></tr>",
                            "<tr><td>Roberto</td><td>Almeida</td><td>2011-08-25 00:00:00.000</td><td>221</td></tr>",
                            "<tr><td>Roberto</td><td>Almeida</td><td>2013-03-31 00:00:00.000</td><td>350</td></tr>",
                            "<tr><td>Roberto</td><td>Almeida</td><td>2013-07-03 00:00:00.000</td><td>373</td></tr>",
                            "<tr><td>Roberto</td><td>Almeida</td><td>2013-10-05 00:00:00.000</td><td>395</td></tr>",
                            "<tr><td>Stanisław</td><td>Wójcik</td><td>2009-10-07 00:00:00.000</td><td>64</td></tr>",
                            "<tr><td>Stanisław</td><td>Wójcik</td><td>2009-11-17 00:00:00.000</td><td>75</td></tr>",
                            "<tr><td>Stanisław</td><td>Wójcik</td><td>2010-07-18 00:00:00.000</td><td>130</td></tr>",
                            "<tr><td>Stanisław</td><td>Wójcik</td><td>2012-02-22 00:00:00.000</td><td>259</td></tr>",
                            "<tr><td>Stanisław</td><td>Wójcik</td><td>2012-05-26 00:00:00.000</td><td>282</td></tr>",
                            "<tr><td>Stanisław</td><td>Wójcik</td><td>2012-08-28 00:00:00.000</td><td>304</td></tr>",
                            "<tr><td>Stanisław</td><td>Wójcik</td><td>2013-04-18 00:00:00.000</td><td>356</td></tr>",
                            "<tr><td>Steve</td><td>Murray</td><td>2009-03-22 00:00:00.000</td><td>20</td></tr>",
                            "<tr><td>Steve</td><td>Murray</td><td>2010-09-13 00:00:00.000</td><td>141</td></tr>",
                            "<tr><td>Steve</td><td>Murray</td><td>2010-10-24 00:00:00.000</td><td>152</td></tr>",
                            "<tr><td>Steve</td><td>Murray</td><td>2011-06-24 00:00:00.000</td><td>207</td></tr>",
                            "<tr><td>Steve</td><td>Murray</td><td>2013-01-28 00:00:00.000</td><td>336</td></tr>",
                            "<tr><td>Steve</td><td>Murray</td><td>2013-05-02 00:00:00.000</td><td>359</td></tr>",
                            "<tr><td>Steve</td><td>Murray</td><td>2013-08-04 00:00:00.000</td><td>381</td></tr>",
                            "<tr><td>Terhi</td><td>Hämäläinen</td><td>2009-08-11 00:00:00.000</td><td>53</td></tr>",
                            "<tr><td>Terhi</td><td>Hämäläinen</td><td>2011-03-18 00:00:00.000</td><td>182</td></tr>",
                            "<tr><td>Terhi</td><td>Hämäläinen</td><td>2011-06-20 00:00:00.000</td><td>205</td></tr>",
                            "<tr><td>Terhi</td><td>Hämäläinen</td><td>2011-09-22 00:00:00.000</td><td>227</td></tr>",
                            "<tr><td>Terhi</td><td>Hämäläinen</td><td>2012-05-12 00:00:00.000</td><td>279</td></tr>",
                            "<tr><td>Terhi</td><td>Hämäläinen</td><td>2013-11-03 00:00:00.000</td><td>400</td></tr>",
                            "<tr><td>Terhi</td><td>Hämäläinen</td><td>2013-12-14 00:00:00.000</td><td>411</td></tr>",
                            "<tr><td>Tim</td><td>Goyer</td><td>2009-03-04 00:00:00.000</td><td>15</td></tr>",
                            "<tr><td>Tim</td><td>Goyer</td><td>2009-04-14 00:00:00.000</td><td>26</td></tr>",
                            "<tr><td>Tim</td><td>Goyer</td><td>2009-12-13 00:00:00.000</td><td>81</td></tr>",
                            "<tr><td>Tim</td><td>Goyer</td><td>2011-07-20 00:00:00.000</td><td>210</td></tr>",
                            "<tr><td>Tim</td><td>Goyer</td><td>2011-10-22 00:00:00.000</td><td>233</td></tr>",
                            "<tr><td>Tim</td><td>Goyer</td><td>2012-01-24 00:00:00.000</td><td>255</td></tr>",
                            "<tr><td>Tim</td><td>Goyer</td><td>2012-09-13 00:00:00.000</td><td>307</td></tr>",
                            "<tr><td>Victor</td><td>Stevens</td><td>2009-03-06 00:00:00.000</td><td>17</td></tr>",
                            "<tr><td>Victor</td><td>Stevens</td><td>2009-10-25 00:00:00.000</td><td>69</td></tr>",
                            "<tr><td>Victor</td><td>Stevens</td><td>2011-04-18 00:00:00.000</td><td>190</td></tr>",
                            "<tr><td>Victor</td><td>Stevens</td><td>2011-05-29 00:00:00.000</td><td>201</td></tr>",
                            "<tr><td>Victor</td><td>Stevens</td><td>2012-01-27 00:00:00.000</td><td>256</td></tr>",
                            "<tr><td>Victor</td><td>Stevens</td><td>2013-09-02 00:00:00.000</td><td>385</td></tr>",
                            "<tr><td>Victor</td><td>Stevens</td><td>2013-12-05 00:00:00.000</td><td>408</td></tr>",
                            "<tr><td>Wyatt</td><td>Girard</td><td>2009-02-02 00:00:00.000</td><td>9</td></tr>",
                            "<tr><td>Wyatt</td><td>Girard</td><td>2009-05-07 00:00:00.000</td><td>31</td></tr>",
                            "<tr><td>Wyatt</td><td>Girard</td><td>2009-12-26 00:00:00.000</td><td>83</td></tr>",
                            "<tr><td>Wyatt</td><td>Girard</td><td>2011-06-19 00:00:00.000</td><td>204</td></tr>",
                            "<tr><td>Wyatt</td><td>Girard</td><td>2011-07-30 00:00:00.000</td><td>215</td></tr>",
                            "<tr><td>Wyatt</td><td>Girard</td><td>2012-03-29 00:00:00.000</td><td>270</td></tr>",
                            "<tr><td>Wyatt</td><td>Girard</td><td>2013-11-03 00:00:00.000</td><td>399</td></tr>",
                            "</table>"
                        ]
                    }
                }
            ],
            "execution_count": 40
        },
        {
            "cell_type": "code",
            "source": [
                "--Mediante SQL listar los nombres de los empleados que soportan clientes con m´as de\r\n",
                "--10 facturas.\r\n",
                "SELECT e.FirstName, e.LastName\r\n",
                "FROM Employee e \r\n",
                "INNER JOIN Customer c ON c.SupportRepId = e.EmployeeId\r\n",
                "INNER JOIN Invoice i ON i.CustomerId = c.CustomerId\r\n",
                "GROUP BY e.EmployeeId, e.FirstName, e.LastName\r\n",
                "HAVING COUNT(i.InvoiceId) > 10"
            ],
            "metadata": {
                "language": "sql",
                "azdata_cell_guid": "c9b4438c-3e6e-4dd8-b1b6-a871455519a7"
            },
            "outputs": [
                {
                    "output_type": "display_data",
                    "data": {
                        "text/html": "(3 rows affected)"
                    },
                    "metadata": {}
                },
                {
                    "output_type": "display_data",
                    "data": {
                        "text/html": "Total execution time: 00:00:00.006"
                    },
                    "metadata": {}
                },
                {
                    "output_type": "execute_result",
                    "metadata": {},
                    "execution_count": 49,
                    "data": {
                        "application/vnd.dataresource+json": {
                            "schema": {
                                "fields": [
                                    {
                                        "name": "FirstName"
                                    },
                                    {
                                        "name": "LastName"
                                    }
                                ]
                            },
                            "data": [
                                {
                                    "FirstName": "Jane",
                                    "LastName": "Peacock"
                                },
                                {
                                    "FirstName": "Margaret",
                                    "LastName": "Park"
                                },
                                {
                                    "FirstName": "Steve",
                                    "LastName": "Johnson"
                                }
                            ]
                        },
                        "text/html": [
                            "<table>",
                            "<tr><th>FirstName</th><th>LastName</th></tr>",
                            "<tr><td>Jane</td><td>Peacock</td></tr>",
                            "<tr><td>Margaret</td><td>Park</td></tr>",
                            "<tr><td>Steve</td><td>Johnson</td></tr>",
                            "</table>"
                        ]
                    }
                }
            ],
            "execution_count": 49
        },
        {
            "cell_type": "code",
            "source": [
                "-- Listar los empleados junto a su jefe. Las tuplas resultantes tendr´an la\r\n",
                "-- siguiente forma: (nombre empleado (FirstName), apellido de empleado (LastName),\r\n",
                "-- nombre jefe, apellido de jefe)\r\n",
                "\r\n",
                "SELECT e.FirstName, e.LastName, j.FirstName as 'Nombre Jefe', j.LastName as 'Apellido Jefe'\r\n",
                "FROM Employee e\r\n",
                "INNER JOIN Employee j ON e.ReportsTo = j.EmployeeId"
            ],
            "metadata": {
                "language": "sql",
                "azdata_cell_guid": "723c0e9c-332f-463b-8744-345f7e4ccbf7",
                "tags": []
            },
            "outputs": [
                {
                    "output_type": "display_data",
                    "data": {
                        "text/html": "(7 rows affected)"
                    },
                    "metadata": {}
                },
                {
                    "output_type": "display_data",
                    "data": {
                        "text/html": "Total execution time: 00:00:00.014"
                    },
                    "metadata": {}
                },
                {
                    "output_type": "execute_result",
                    "metadata": {},
                    "execution_count": 50,
                    "data": {
                        "application/vnd.dataresource+json": {
                            "schema": {
                                "fields": [
                                    {
                                        "name": "FirstName"
                                    },
                                    {
                                        "name": "LastName"
                                    },
                                    {
                                        "name": "Nombre Jefe"
                                    },
                                    {
                                        "name": "Apellido Jefe"
                                    }
                                ]
                            },
                            "data": [
                                {
                                    "FirstName": "Nancy",
                                    "LastName": "Edwards",
                                    "Nombre Jefe": "Andrew",
                                    "Apellido Jefe": "Adams"
                                },
                                {
                                    "FirstName": "Jane",
                                    "LastName": "Peacock",
                                    "Nombre Jefe": "Nancy",
                                    "Apellido Jefe": "Edwards"
                                },
                                {
                                    "FirstName": "Margaret",
                                    "LastName": "Park",
                                    "Nombre Jefe": "Nancy",
                                    "Apellido Jefe": "Edwards"
                                },
                                {
                                    "FirstName": "Steve",
                                    "LastName": "Johnson",
                                    "Nombre Jefe": "Nancy",
                                    "Apellido Jefe": "Edwards"
                                },
                                {
                                    "FirstName": "Michael",
                                    "LastName": "Mitchell",
                                    "Nombre Jefe": "Andrew",
                                    "Apellido Jefe": "Adams"
                                },
                                {
                                    "FirstName": "Robert",
                                    "LastName": "King",
                                    "Nombre Jefe": "Michael",
                                    "Apellido Jefe": "Mitchell"
                                },
                                {
                                    "FirstName": "Laura",
                                    "LastName": "Callahan",
                                    "Nombre Jefe": "Michael",
                                    "Apellido Jefe": "Mitchell"
                                }
                            ]
                        },
                        "text/html": [
                            "<table>",
                            "<tr><th>FirstName</th><th>LastName</th><th>Nombre Jefe</th><th>Apellido Jefe</th></tr>",
                            "<tr><td>Nancy</td><td>Edwards</td><td>Andrew</td><td>Adams</td></tr>",
                            "<tr><td>Jane</td><td>Peacock</td><td>Nancy</td><td>Edwards</td></tr>",
                            "<tr><td>Margaret</td><td>Park</td><td>Nancy</td><td>Edwards</td></tr>",
                            "<tr><td>Steve</td><td>Johnson</td><td>Nancy</td><td>Edwards</td></tr>",
                            "<tr><td>Michael</td><td>Mitchell</td><td>Andrew</td><td>Adams</td></tr>",
                            "<tr><td>Robert</td><td>King</td><td>Michael</td><td>Mitchell</td></tr>",
                            "<tr><td>Laura</td><td>Callahan</td><td>Michael</td><td>Mitchell</td></tr>",
                            "</table>"
                        ]
                    }
                }
            ],
            "execution_count": 50
        },
        {
            "cell_type": "code",
            "source": [
                "-- Resolver el ´ıtem anterior pero que no falte ning´un empleado en el listado\r\n",
                "SELECT e.FirstName, e.LastName, j.FirstName as 'Nombre Jefe', j.LastName as 'Apellido Jefe'\r\n",
                "FROM Employee e\r\n",
                "LEFT OUTER JOIN Employee j ON e.ReportsTo = j.EmployeeId"
            ],
            "metadata": {
                "language": "sql",
                "azdata_cell_guid": "b95293d6-d097-420a-b27e-3891f53f6395"
            },
            "outputs": [
                {
                    "output_type": "display_data",
                    "data": {
                        "text/html": "(8 rows affected)"
                    },
                    "metadata": {}
                },
                {
                    "output_type": "display_data",
                    "data": {
                        "text/html": "Total execution time: 00:00:00.014"
                    },
                    "metadata": {}
                },
                {
                    "output_type": "execute_result",
                    "metadata": {},
                    "execution_count": 52,
                    "data": {
                        "application/vnd.dataresource+json": {
                            "schema": {
                                "fields": [
                                    {
                                        "name": "FirstName"
                                    },
                                    {
                                        "name": "LastName"
                                    },
                                    {
                                        "name": "Nombre Jefe"
                                    },
                                    {
                                        "name": "Apellido Jefe"
                                    }
                                ]
                            },
                            "data": [
                                {
                                    "FirstName": "Andrew",
                                    "LastName": "Adams",
                                    "Nombre Jefe": "NULL",
                                    "Apellido Jefe": "NULL"
                                },
                                {
                                    "FirstName": "Nancy",
                                    "LastName": "Edwards",
                                    "Nombre Jefe": "Andrew",
                                    "Apellido Jefe": "Adams"
                                },
                                {
                                    "FirstName": "Jane",
                                    "LastName": "Peacock",
                                    "Nombre Jefe": "Nancy",
                                    "Apellido Jefe": "Edwards"
                                },
                                {
                                    "FirstName": "Margaret",
                                    "LastName": "Park",
                                    "Nombre Jefe": "Nancy",
                                    "Apellido Jefe": "Edwards"
                                },
                                {
                                    "FirstName": "Steve",
                                    "LastName": "Johnson",
                                    "Nombre Jefe": "Nancy",
                                    "Apellido Jefe": "Edwards"
                                },
                                {
                                    "FirstName": "Michael",
                                    "LastName": "Mitchell",
                                    "Nombre Jefe": "Andrew",
                                    "Apellido Jefe": "Adams"
                                },
                                {
                                    "FirstName": "Robert",
                                    "LastName": "King",
                                    "Nombre Jefe": "Michael",
                                    "Apellido Jefe": "Mitchell"
                                },
                                {
                                    "FirstName": "Laura",
                                    "LastName": "Callahan",
                                    "Nombre Jefe": "Michael",
                                    "Apellido Jefe": "Mitchell"
                                }
                            ]
                        },
                        "text/html": [
                            "<table>",
                            "<tr><th>FirstName</th><th>LastName</th><th>Nombre Jefe</th><th>Apellido Jefe</th></tr>",
                            "<tr><td>Andrew</td><td>Adams</td><td>NULL</td><td>NULL</td></tr>",
                            "<tr><td>Nancy</td><td>Edwards</td><td>Andrew</td><td>Adams</td></tr>",
                            "<tr><td>Jane</td><td>Peacock</td><td>Nancy</td><td>Edwards</td></tr>",
                            "<tr><td>Margaret</td><td>Park</td><td>Nancy</td><td>Edwards</td></tr>",
                            "<tr><td>Steve</td><td>Johnson</td><td>Nancy</td><td>Edwards</td></tr>",
                            "<tr><td>Michael</td><td>Mitchell</td><td>Andrew</td><td>Adams</td></tr>",
                            "<tr><td>Robert</td><td>King</td><td>Michael</td><td>Mitchell</td></tr>",
                            "<tr><td>Laura</td><td>Callahan</td><td>Michael</td><td>Mitchell</td></tr>",
                            "</table>"
                        ]
                    }
                }
            ],
            "execution_count": 52
        },
        {
            "cell_type": "code",
            "source": [
                "-- Obtener mediante SQL el promedio de tracks comprados en las facturas de cada\r\n",
                "-- clientes. Es decir si en una factura compro 8 tracks y en otra 4 el promedio es 6.\r\n",
                "\r\n",
                "-- asumo promedio de tracks comprado por clientecpor factura\r\n",
                "SELECT c.FirstName, c.LastName, SUM(il.Quantity)/COUNT(DISTINCT i.InvoiceId) AS 'Promedio'\r\n",
                "FROM Customer c\r\n",
                "INNER JOIN Invoice i ON i.CustomerId = c.CustomerId\r\n",
                "INNER JOIN InvoiceLine il ON il.InvoiceId = i.InvoiceId\r\n",
                "GROUP BY c.CustomerId, c.FirstName, c.LastName"
            ],
            "metadata": {
                "language": "sql",
                "azdata_cell_guid": "eb329031-5c68-4321-bf48-d1b7a6360b2f"
            },
            "outputs": [
                {
                    "output_type": "display_data",
                    "data": {
                        "text/html": "(59 rows affected)"
                    },
                    "metadata": {}
                },
                {
                    "output_type": "display_data",
                    "data": {
                        "text/html": "Total execution time: 00:00:00.029"
                    },
                    "metadata": {}
                },
                {
                    "output_type": "execute_result",
                    "metadata": {},
                    "execution_count": 68,
                    "data": {
                        "application/vnd.dataresource+json": {
                            "schema": {
                                "fields": [
                                    {
                                        "name": "FirstName"
                                    },
                                    {
                                        "name": "LastName"
                                    },
                                    {
                                        "name": "Promedio"
                                    }
                                ]
                            },
                            "data": [
                                {
                                    "FirstName": "John",
                                    "LastName": "Gordon",
                                    "Promedio": "5"
                                },
                                {
                                    "FirstName": "Hugh",
                                    "LastName": "O'Reilly",
                                    "Promedio": "5"
                                },
                                {
                                    "FirstName": "Robert",
                                    "LastName": "Brown",
                                    "Promedio": "5"
                                },
                                {
                                    "FirstName": "Jennifer",
                                    "LastName": "Peterson",
                                    "Promedio": "5"
                                },
                                {
                                    "FirstName": "Kara",
                                    "LastName": "Nielsen",
                                    "Promedio": "5"
                                },
                                {
                                    "FirstName": "François",
                                    "LastName": "Tremblay",
                                    "Promedio": "5"
                                },
                                {
                                    "FirstName": "Emma",
                                    "LastName": "Jones",
                                    "Promedio": "5"
                                },
                                {
                                    "FirstName": "Aaron",
                                    "LastName": "Mitchell",
                                    "Promedio": "5"
                                },
                                {
                                    "FirstName": "Richard",
                                    "LastName": "Cunningham",
                                    "Promedio": "5"
                                },
                                {
                                    "FirstName": "Roberto",
                                    "LastName": "Almeida",
                                    "Promedio": "5"
                                },
                                {
                                    "FirstName": "Madalena",
                                    "LastName": "Sampaio",
                                    "Promedio": "5"
                                },
                                {
                                    "FirstName": "Helena",
                                    "LastName": "Holý",
                                    "Promedio": "5"
                                },
                                {
                                    "FirstName": "Mark",
                                    "LastName": "Taylor",
                                    "Promedio": "5"
                                },
                                {
                                    "FirstName": "Isabelle",
                                    "LastName": "Mercier",
                                    "Promedio": "5"
                                },
                                {
                                    "FirstName": "Stanisław",
                                    "LastName": "Wójcik",
                                    "Promedio": "5"
                                },
                                {
                                    "FirstName": "Kathy",
                                    "LastName": "Chase",
                                    "Promedio": "5"
                                },
                                {
                                    "FirstName": "Patrick",
                                    "LastName": "Gray",
                                    "Promedio": "5"
                                },
                                {
                                    "FirstName": "Manoj",
                                    "LastName": "Pareek",
                                    "Promedio": "5"
                                },
                                {
                                    "FirstName": "Niklas",
                                    "LastName": "Schröder",
                                    "Promedio": "5"
                                },
                                {
                                    "FirstName": "Terhi",
                                    "LastName": "Hämäläinen",
                                    "Promedio": "5"
                                },
                                {
                                    "FirstName": "Astrid",
                                    "LastName": "Gruber",
                                    "Promedio": "5"
                                },
                                {
                                    "FirstName": "Enrique",
                                    "LastName": "Muñoz",
                                    "Promedio": "5"
                                },
                                {
                                    "FirstName": "Luís",
                                    "LastName": "Gonçalves",
                                    "Promedio": "5"
                                },
                                {
                                    "FirstName": "Frank",
                                    "LastName": "Ralston",
                                    "Promedio": "5"
                                },
                                {
                                    "FirstName": "Lucas",
                                    "LastName": "Mancini",
                                    "Promedio": "5"
                                },
                                {
                                    "FirstName": "Edward",
                                    "LastName": "Francis",
                                    "Promedio": "5"
                                },
                                {
                                    "FirstName": "Michelle",
                                    "LastName": "Brooks",
                                    "Promedio": "5"
                                },
                                {
                                    "FirstName": "Eduardo",
                                    "LastName": "Martins",
                                    "Promedio": "5"
                                },
                                {
                                    "FirstName": "Marc",
                                    "LastName": "Dubois",
                                    "Promedio": "5"
                                },
                                {
                                    "FirstName": "Bjørn",
                                    "LastName": "Hansen",
                                    "Promedio": "5"
                                },
                                {
                                    "FirstName": "Tim",
                                    "LastName": "Goyer",
                                    "Promedio": "5"
                                },
                                {
                                    "FirstName": "Victor",
                                    "LastName": "Stevens",
                                    "Promedio": "5"
                                },
                                {
                                    "FirstName": "Hannah",
                                    "LastName": "Schneider",
                                    "Promedio": "5"
                                },
                                {
                                    "FirstName": "Fernanda",
                                    "LastName": "Ramos",
                                    "Promedio": "5"
                                },
                                {
                                    "FirstName": "Wyatt",
                                    "LastName": "Girard",
                                    "Promedio": "5"
                                },
                                {
                                    "FirstName": "František",
                                    "LastName": "Wichterlová",
                                    "Promedio": "5"
                                },
                                {
                                    "FirstName": "Diego",
                                    "LastName": "Gutiérrez",
                                    "Promedio": "5"
                                },
                                {
                                    "FirstName": "Heather",
                                    "LastName": "Leacock",
                                    "Promedio": "5"
                                },
                                {
                                    "FirstName": "Puja",
                                    "LastName": "Srivastava",
                                    "Promedio": "6"
                                },
                                {
                                    "FirstName": "Ellie",
                                    "LastName": "Sullivan",
                                    "Promedio": "5"
                                },
                                {
                                    "FirstName": "Camille",
                                    "LastName": "Bernard",
                                    "Promedio": "5"
                                },
                                {
                                    "FirstName": "Frank",
                                    "LastName": "Harris",
                                    "Promedio": "5"
                                },
                                {
                                    "FirstName": "Phil",
                                    "LastName": "Hughes",
                                    "Promedio": "5"
                                },
                                {
                                    "FirstName": "Ladislav",
                                    "LastName": "Kovács",
                                    "Promedio": "5"
                                },
                                {
                                    "FirstName": "Leonie",
                                    "LastName": "Köhler",
                                    "Promedio": "5"
                                },
                                {
                                    "FirstName": "Johannes",
                                    "LastName": "Van der Berg",
                                    "Promedio": "5"
                                },
                                {
                                    "FirstName": "Jack",
                                    "LastName": "Smith",
                                    "Promedio": "5"
                                },
                                {
                                    "FirstName": "Martha",
                                    "LastName": "Silk",
                                    "Promedio": "5"
                                },
                                {
                                    "FirstName": "Dominique",
                                    "LastName": "Lefebvre",
                                    "Promedio": "5"
                                },
                                {
                                    "FirstName": "João",
                                    "LastName": "Fernandes",
                                    "Promedio": "5"
                                },
                                {
                                    "FirstName": "Alexandre",
                                    "LastName": "Rocha",
                                    "Promedio": "5"
                                },
                                {
                                    "FirstName": "Steve",
                                    "LastName": "Murray",
                                    "Promedio": "5"
                                },
                                {
                                    "FirstName": "Dan",
                                    "LastName": "Miller",
                                    "Promedio": "5"
                                },
                                {
                                    "FirstName": "Julia",
                                    "LastName": "Barnett",
                                    "Promedio": "5"
                                },
                                {
                                    "FirstName": "Luis",
                                    "LastName": "Rojas",
                                    "Promedio": "5"
                                },
                                {
                                    "FirstName": "Mark",
                                    "LastName": "Philips",
                                    "Promedio": "5"
                                },
                                {
                                    "FirstName": "Fynn",
                                    "LastName": "Zimmermann",
                                    "Promedio": "5"
                                },
                                {
                                    "FirstName": "Daan",
                                    "LastName": "Peeters",
                                    "Promedio": "5"
                                },
                                {
                                    "FirstName": "Joakim",
                                    "LastName": "Johansson",
                                    "Promedio": "5"
                                }
                            ]
                        },
                        "text/html": [
                            "<table>",
                            "<tr><th>FirstName</th><th>LastName</th><th>Promedio</th></tr>",
                            "<tr><td>John</td><td>Gordon</td><td>5</td></tr>",
                            "<tr><td>Hugh</td><td>O&#39;Reilly</td><td>5</td></tr>",
                            "<tr><td>Robert</td><td>Brown</td><td>5</td></tr>",
                            "<tr><td>Jennifer</td><td>Peterson</td><td>5</td></tr>",
                            "<tr><td>Kara</td><td>Nielsen</td><td>5</td></tr>",
                            "<tr><td>François</td><td>Tremblay</td><td>5</td></tr>",
                            "<tr><td>Emma</td><td>Jones</td><td>5</td></tr>",
                            "<tr><td>Aaron</td><td>Mitchell</td><td>5</td></tr>",
                            "<tr><td>Richard</td><td>Cunningham</td><td>5</td></tr>",
                            "<tr><td>Roberto</td><td>Almeida</td><td>5</td></tr>",
                            "<tr><td>Madalena</td><td>Sampaio</td><td>5</td></tr>",
                            "<tr><td>Helena</td><td>Holý</td><td>5</td></tr>",
                            "<tr><td>Mark</td><td>Taylor</td><td>5</td></tr>",
                            "<tr><td>Isabelle</td><td>Mercier</td><td>5</td></tr>",
                            "<tr><td>Stanisław</td><td>Wójcik</td><td>5</td></tr>",
                            "<tr><td>Kathy</td><td>Chase</td><td>5</td></tr>",
                            "<tr><td>Patrick</td><td>Gray</td><td>5</td></tr>",
                            "<tr><td>Manoj</td><td>Pareek</td><td>5</td></tr>",
                            "<tr><td>Niklas</td><td>Schröder</td><td>5</td></tr>",
                            "<tr><td>Terhi</td><td>Hämäläinen</td><td>5</td></tr>",
                            "<tr><td>Astrid</td><td>Gruber</td><td>5</td></tr>",
                            "<tr><td>Enrique</td><td>Muñoz</td><td>5</td></tr>",
                            "<tr><td>Luís</td><td>Gonçalves</td><td>5</td></tr>",
                            "<tr><td>Frank</td><td>Ralston</td><td>5</td></tr>",
                            "<tr><td>Lucas</td><td>Mancini</td><td>5</td></tr>",
                            "<tr><td>Edward</td><td>Francis</td><td>5</td></tr>",
                            "<tr><td>Michelle</td><td>Brooks</td><td>5</td></tr>",
                            "<tr><td>Eduardo</td><td>Martins</td><td>5</td></tr>",
                            "<tr><td>Marc</td><td>Dubois</td><td>5</td></tr>",
                            "<tr><td>Bjørn</td><td>Hansen</td><td>5</td></tr>",
                            "<tr><td>Tim</td><td>Goyer</td><td>5</td></tr>",
                            "<tr><td>Victor</td><td>Stevens</td><td>5</td></tr>",
                            "<tr><td>Hannah</td><td>Schneider</td><td>5</td></tr>",
                            "<tr><td>Fernanda</td><td>Ramos</td><td>5</td></tr>",
                            "<tr><td>Wyatt</td><td>Girard</td><td>5</td></tr>",
                            "<tr><td>František</td><td>Wichterlová</td><td>5</td></tr>",
                            "<tr><td>Diego</td><td>Gutiérrez</td><td>5</td></tr>",
                            "<tr><td>Heather</td><td>Leacock</td><td>5</td></tr>",
                            "<tr><td>Puja</td><td>Srivastava</td><td>6</td></tr>",
                            "<tr><td>Ellie</td><td>Sullivan</td><td>5</td></tr>",
                            "<tr><td>Camille</td><td>Bernard</td><td>5</td></tr>",
                            "<tr><td>Frank</td><td>Harris</td><td>5</td></tr>",
                            "<tr><td>Phil</td><td>Hughes</td><td>5</td></tr>",
                            "<tr><td>Ladislav</td><td>Kovács</td><td>5</td></tr>",
                            "<tr><td>Leonie</td><td>Köhler</td><td>5</td></tr>",
                            "<tr><td>Johannes</td><td>Van der Berg</td><td>5</td></tr>",
                            "<tr><td>Jack</td><td>Smith</td><td>5</td></tr>",
                            "<tr><td>Martha</td><td>Silk</td><td>5</td></tr>",
                            "<tr><td>Dominique</td><td>Lefebvre</td><td>5</td></tr>",
                            "<tr><td>João</td><td>Fernandes</td><td>5</td></tr>",
                            "<tr><td>Alexandre</td><td>Rocha</td><td>5</td></tr>",
                            "<tr><td>Steve</td><td>Murray</td><td>5</td></tr>",
                            "<tr><td>Dan</td><td>Miller</td><td>5</td></tr>",
                            "<tr><td>Julia</td><td>Barnett</td><td>5</td></tr>",
                            "<tr><td>Luis</td><td>Rojas</td><td>5</td></tr>",
                            "<tr><td>Mark</td><td>Philips</td><td>5</td></tr>",
                            "<tr><td>Fynn</td><td>Zimmermann</td><td>5</td></tr>",
                            "<tr><td>Daan</td><td>Peeters</td><td>5</td></tr>",
                            "<tr><td>Joakim</td><td>Johansson</td><td>5</td></tr>",
                            "</table>"
                        ]
                    }
                }
            ],
            "execution_count": 68
        },
        {
            "cell_type": "code",
            "source": [
                "-- Obtener para cada empleado el total de tracks del genero ”Rock” comprados por los\r\n",
                "-- clientes que soporta.\r\n",
                "\r\n",
                "-- asumo que quieren toas las compras, si fuera tracks individuales seria COUNT(DISTINCT t.TrackId)\r\n",
                "SELECT e.FirstName, e.LastName, SUM(il.Quantity) as 'Total'\r\n",
                "FROM Employee e \r\n",
                "INNER JOIN Customer c ON c.SupportRepId = e.EmployeeId\r\n",
                "INNER JOIN Invoice i ON i.CustomerId = c.CustomerId\r\n",
                "INNER JOIN InvoiceLine il ON il.InvoiceId = i.InvoiceId\r\n",
                "INNER JOIN Track t ON t.TrackId = il.TrackId\r\n",
                "INNER JOIN Genre g ON g.GenreId = t.GenreId\r\n",
                "WHERE g.Name = 'Rock'\r\n",
                "GROUP BY e.EmployeeId, e.FirstName, e.LastName\r\n",
                ""
            ],
            "metadata": {
                "azdata_cell_guid": "34358f5a-d04b-499c-90f8-b63c20a2b823",
                "language": "sql"
            },
            "outputs": [
                {
                    "output_type": "display_data",
                    "data": {
                        "text/html": "(3 rows affected)"
                    },
                    "metadata": {}
                },
                {
                    "output_type": "display_data",
                    "data": {
                        "text/html": "Total execution time: 00:00:00.022"
                    },
                    "metadata": {}
                },
                {
                    "output_type": "execute_result",
                    "metadata": {},
                    "execution_count": 74,
                    "data": {
                        "application/vnd.dataresource+json": {
                            "schema": {
                                "fields": [
                                    {
                                        "name": "FirstName"
                                    },
                                    {
                                        "name": "LastName"
                                    },
                                    {
                                        "name": "Total"
                                    }
                                ]
                            },
                            "data": [
                                {
                                    "FirstName": "Jane",
                                    "LastName": "Peacock",
                                    "Total": "304"
                                },
                                {
                                    "FirstName": "Margaret",
                                    "LastName": "Park",
                                    "Total": "300"
                                },
                                {
                                    "FirstName": "Steve",
                                    "LastName": "Johnson",
                                    "Total": "231"
                                }
                            ]
                        },
                        "text/html": [
                            "<table>",
                            "<tr><th>FirstName</th><th>LastName</th><th>Total</th></tr>",
                            "<tr><td>Jane</td><td>Peacock</td><td>304</td></tr>",
                            "<tr><td>Margaret</td><td>Park</td><td>300</td></tr>",
                            "<tr><td>Steve</td><td>Johnson</td><td>231</td></tr>",
                            "</table>"
                        ]
                    }
                }
            ],
            "execution_count": 74
        },
        {
            "cell_type": "code",
            "source": [
                "-- Obtener el nombre y apellido de los clientes que son atendidos por los empleados \r\n",
                "-- que atienden a la mayor cantidad de clientes. La relación entre empleado y cliente \r\n",
                "-- se da por la clave foránea en cliente SupportRepId.\r\n",
                "\r\n",
                "SELECT c.FirstName, c.LastName\r\n",
                "FROM Employee e\r\n",
                "INNER JOIN Customer c ON c.SupportRepId = e.EmployeeId\r\n",
                "WHERE e.EmployeeId in  (SELECT TOP 1 e.EmployeeId \r\n",
                "                        FROM Employee e\r\n",
                "                        INNER JOIN Customer c ON c.SupportRepId = e.EmployeeId\r\n",
                "                        GROUP BY e.EmployeeId\r\n",
                "                        ORDER BY COUNT(c.CustomerId) DESC)\r\n",
                "\r\n",
                ""
            ],
            "metadata": {
                "language": "sql",
                "azdata_cell_guid": "b7a6ccf3-9201-42a0-8085-42c47728d392"
            },
            "outputs": [
                {
                    "output_type": "display_data",
                    "data": {
                        "text/html": "(21 rows affected)"
                    },
                    "metadata": {}
                },
                {
                    "output_type": "display_data",
                    "data": {
                        "text/html": "Total execution time: 00:00:00.025"
                    },
                    "metadata": {}
                },
                {
                    "output_type": "execute_result",
                    "metadata": {},
                    "execution_count": 84,
                    "data": {
                        "application/vnd.dataresource+json": {
                            "schema": {
                                "fields": [
                                    {
                                        "name": "FirstName"
                                    },
                                    {
                                        "name": "LastName"
                                    }
                                ]
                            },
                            "data": [
                                {
                                    "FirstName": "Luís",
                                    "LastName": "Gonçalves"
                                },
                                {
                                    "FirstName": "François",
                                    "LastName": "Tremblay"
                                },
                                {
                                    "FirstName": "Roberto",
                                    "LastName": "Almeida"
                                },
                                {
                                    "FirstName": "Jennifer",
                                    "LastName": "Peterson"
                                },
                                {
                                    "FirstName": "Michelle",
                                    "LastName": "Brooks"
                                },
                                {
                                    "FirstName": "Tim",
                                    "LastName": "Goyer"
                                },
                                {
                                    "FirstName": "Frank",
                                    "LastName": "Ralston"
                                },
                                {
                                    "FirstName": "Robert",
                                    "LastName": "Brown"
                                },
                                {
                                    "FirstName": "Edward",
                                    "LastName": "Francis"
                                },
                                {
                                    "FirstName": "Ellie",
                                    "LastName": "Sullivan"
                                },
                                {
                                    "FirstName": "Fynn",
                                    "LastName": "Zimmermann"
                                },
                                {
                                    "FirstName": "Niklas",
                                    "LastName": "Schröder"
                                },
                                {
                                    "FirstName": "Wyatt",
                                    "LastName": "Girard"
                                },
                                {
                                    "FirstName": "Isabelle",
                                    "LastName": "Mercier"
                                },
                                {
                                    "FirstName": "Terhi",
                                    "LastName": "Hämäläinen"
                                },
                                {
                                    "FirstName": "Ladislav",
                                    "LastName": "Kovács"
                                },
                                {
                                    "FirstName": "Hugh",
                                    "LastName": "O'Reilly"
                                },
                                {
                                    "FirstName": "Emma",
                                    "LastName": "Jones"
                                },
                                {
                                    "FirstName": "Phil",
                                    "LastName": "Hughes"
                                },
                                {
                                    "FirstName": "Manoj",
                                    "LastName": "Pareek"
                                },
                                {
                                    "FirstName": "Puja",
                                    "LastName": "Srivastava"
                                }
                            ]
                        },
                        "text/html": [
                            "<table>",
                            "<tr><th>FirstName</th><th>LastName</th></tr>",
                            "<tr><td>Luís</td><td>Gonçalves</td></tr>",
                            "<tr><td>François</td><td>Tremblay</td></tr>",
                            "<tr><td>Roberto</td><td>Almeida</td></tr>",
                            "<tr><td>Jennifer</td><td>Peterson</td></tr>",
                            "<tr><td>Michelle</td><td>Brooks</td></tr>",
                            "<tr><td>Tim</td><td>Goyer</td></tr>",
                            "<tr><td>Frank</td><td>Ralston</td></tr>",
                            "<tr><td>Robert</td><td>Brown</td></tr>",
                            "<tr><td>Edward</td><td>Francis</td></tr>",
                            "<tr><td>Ellie</td><td>Sullivan</td></tr>",
                            "<tr><td>Fynn</td><td>Zimmermann</td></tr>",
                            "<tr><td>Niklas</td><td>Schröder</td></tr>",
                            "<tr><td>Wyatt</td><td>Girard</td></tr>",
                            "<tr><td>Isabelle</td><td>Mercier</td></tr>",
                            "<tr><td>Terhi</td><td>Hämäläinen</td></tr>",
                            "<tr><td>Ladislav</td><td>Kovács</td></tr>",
                            "<tr><td>Hugh</td><td>O&#39;Reilly</td></tr>",
                            "<tr><td>Emma</td><td>Jones</td></tr>",
                            "<tr><td>Phil</td><td>Hughes</td></tr>",
                            "<tr><td>Manoj</td><td>Pareek</td></tr>",
                            "<tr><td>Puja</td><td>Srivastava</td></tr>",
                            "</table>"
                        ]
                    }
                }
            ],
            "execution_count": 84
        }
    ]
}