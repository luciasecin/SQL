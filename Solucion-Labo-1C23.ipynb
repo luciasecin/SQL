{
    "metadata": {
        "kernelspec": {
            "name": "SQL",
            "display_name": "SQL",
            "language": "sql"
        },
        "language_info": {
            "name": "sql",
            "version": ""
        }
    },
    "nbformat_minor": 2,
    "nbformat": 4,
    "cells": [
        {
            "cell_type": "code",
            "source": [
                "USE Chinook;"
            ],
            "metadata": {
                "language": "sql",
                "azdata_cell_guid": "87c97e2c-2b85-4bad-a60c-24b54c028714"
            },
            "outputs": [
                {
                    "output_type": "display_data",
                    "data": {
                        "text/html": "Commands completed successfully."
                    },
                    "metadata": {}
                },
                {
                    "output_type": "display_data",
                    "data": {
                        "text/html": "Total execution time: 00:00:00"
                    },
                    "metadata": {}
                }
            ],
            "execution_count": 1
        },
        {
            "cell_type": "code",
            "source": [
                "-- 1. Cuántos empleados fueron contratados por año (HireDate es la fecha de contratación).\r\n",
                "SELECT YEAR(HireDate) as 'Anio', COUNT(EmployeeId) as 'Contratados'\r\n",
                "FROM Employee\r\n",
                "GROUP BY YEAR(HireDate)"
            ],
            "metadata": {
                "azdata_cell_guid": "72f8418f-894e-4aa9-b5aa-a2f0181f1655",
                "language": "sql"
            },
            "outputs": [
                {
                    "output_type": "display_data",
                    "data": {
                        "text/html": "(3 rows affected)"
                    },
                    "metadata": {}
                },
                {
                    "output_type": "display_data",
                    "data": {
                        "text/html": "Total execution time: 00:00:00.007"
                    },
                    "metadata": {}
                },
                {
                    "output_type": "execute_result",
                    "metadata": {},
                    "execution_count": 2,
                    "data": {
                        "application/vnd.dataresource+json": {
                            "schema": {
                                "fields": [
                                    {
                                        "name": "Anio"
                                    },
                                    {
                                        "name": "Contratados"
                                    }
                                ]
                            },
                            "data": [
                                {
                                    "Anio": "2002",
                                    "Contratados": "3"
                                },
                                {
                                    "Anio": "2003",
                                    "Contratados": "3"
                                },
                                {
                                    "Anio": "2004",
                                    "Contratados": "2"
                                }
                            ]
                        },
                        "text/html": [
                            "<table>",
                            "<tr><th>Anio</th><th>Contratados</th></tr>",
                            "<tr><td>2002</td><td>3</td></tr>",
                            "<tr><td>2003</td><td>3</td></tr>",
                            "<tr><td>2004</td><td>2</td></tr>",
                            "</table>"
                        ]
                    }
                }
            ],
            "execution_count": 2
        },
        {
            "cell_type": "code",
            "source": [
                "-- Escriba una consulta que devuelva el nombre del artista y el número total de canciones de los grupos de rock.\r\n",
                "SELECT ar.ArtistId, ar.Name, COUNT(t.TrackId) as 'Canciones'\r\n",
                "FROM Artist ar\r\n",
                "INNER JOIN Album al ON al.ArtistId = ar.ArtistId\r\n",
                "INNER JOIN Track t ON t.AlbumId = al.AlbumId\r\n",
                "INNER JOIN Genre g ON t.GenreId = g.GenreId\r\n",
                "WHERE g.Name = 'Rock' \r\n",
                "GROUP BY ar.ArtistId, ar.Name"
            ],
            "metadata": {
                "azdata_cell_guid": "547fcf78-7643-43b7-b934-e190bf993af3",
                "language": "sql",
                "tags": []
            },
            "outputs": [
                {
                    "output_type": "display_data",
                    "data": {
                        "text/html": "(51 rows affected)"
                    },
                    "metadata": {}
                },
                {
                    "output_type": "display_data",
                    "data": {
                        "text/html": "Total execution time: 00:00:00.022"
                    },
                    "metadata": {}
                },
                {
                    "output_type": "execute_result",
                    "metadata": {},
                    "execution_count": 3,
                    "data": {
                        "application/vnd.dataresource+json": {
                            "schema": {
                                "fields": [
                                    {
                                        "name": "ArtistId"
                                    },
                                    {
                                        "name": "Name"
                                    },
                                    {
                                        "name": "Canciones"
                                    }
                                ]
                            },
                            "data": [
                                {
                                    "ArtistId": "1",
                                    "Name": "AC/DC",
                                    "Canciones": "18"
                                },
                                {
                                    "ArtistId": "2",
                                    "Name": "Accept",
                                    "Canciones": "4"
                                },
                                {
                                    "ArtistId": "3",
                                    "Name": "Aerosmith",
                                    "Canciones": "15"
                                },
                                {
                                    "ArtistId": "4",
                                    "Name": "Alanis Morissette",
                                    "Canciones": "13"
                                },
                                {
                                    "ArtistId": "5",
                                    "Name": "Alice In Chains",
                                    "Canciones": "12"
                                },
                                {
                                    "ArtistId": "8",
                                    "Name": "Audioslave",
                                    "Canciones": "14"
                                },
                                {
                                    "ArtistId": "22",
                                    "Name": "Led Zeppelin",
                                    "Canciones": "114"
                                },
                                {
                                    "ArtistId": "23",
                                    "Name": "Frank Zappa & Captain Beefheart",
                                    "Canciones": "9"
                                },
                                {
                                    "ArtistId": "51",
                                    "Name": "Queen",
                                    "Canciones": "45"
                                },
                                {
                                    "ArtistId": "52",
                                    "Name": "Kiss",
                                    "Canciones": "35"
                                },
                                {
                                    "ArtistId": "55",
                                    "Name": "David Coverdale",
                                    "Canciones": "12"
                                },
                                {
                                    "ArtistId": "58",
                                    "Name": "Deep Purple",
                                    "Canciones": "92"
                                },
                                {
                                    "ArtistId": "59",
                                    "Name": "Santana",
                                    "Canciones": "27"
                                },
                                {
                                    "ArtistId": "76",
                                    "Name": "Creedence Clearwater Revival",
                                    "Canciones": "40"
                                },
                                {
                                    "ArtistId": "78",
                                    "Name": "Def Leppard",
                                    "Canciones": "16"
                                },
                                {
                                    "ArtistId": "82",
                                    "Name": "Faith No More",
                                    "Canciones": "15"
                                },
                                {
                                    "ArtistId": "84",
                                    "Name": "Foo Fighters",
                                    "Canciones": "33"
                                },
                                {
                                    "ArtistId": "88",
                                    "Name": "Guns N' Roses",
                                    "Canciones": "28"
                                },
                                {
                                    "ArtistId": "90",
                                    "Name": "Iron Maiden",
                                    "Canciones": "81"
                                },
                                {
                                    "ArtistId": "92",
                                    "Name": "Jamiroquai",
                                    "Canciones": "10"
                                },
                                {
                                    "ArtistId": "94",
                                    "Name": "Jimi Hendrix",
                                    "Canciones": "17"
                                },
                                {
                                    "ArtistId": "95",
                                    "Name": "Joe Satriani",
                                    "Canciones": "10"
                                },
                                {
                                    "ArtistId": "100",
                                    "Name": "Lenny Kravitz",
                                    "Canciones": "30"
                                },
                                {
                                    "ArtistId": "102",
                                    "Name": "Marillion",
                                    "Canciones": "10"
                                },
                                {
                                    "ArtistId": "105",
                                    "Name": "Men At Work",
                                    "Canciones": "10"
                                },
                                {
                                    "ArtistId": "110",
                                    "Name": "Nirvana",
                                    "Canciones": "29"
                                },
                                {
                                    "ArtistId": "111",
                                    "Name": "O Terço",
                                    "Canciones": "15"
                                },
                                {
                                    "ArtistId": "114",
                                    "Name": "Ozzy Osbourne",
                                    "Canciones": "18"
                                },
                                {
                                    "ArtistId": "115",
                                    "Name": "Page & Plant",
                                    "Canciones": "12"
                                },
                                {
                                    "ArtistId": "117",
                                    "Name": "Paul D'Ianno",
                                    "Canciones": "10"
                                },
                                {
                                    "ArtistId": "118",
                                    "Name": "Pearl Jam",
                                    "Canciones": "54"
                                },
                                {
                                    "ArtistId": "120",
                                    "Name": "Pink Floyd",
                                    "Canciones": "9"
                                },
                                {
                                    "ArtistId": "124",
                                    "Name": "R.E.M.",
                                    "Canciones": "14"
                                },
                                {
                                    "ArtistId": "126",
                                    "Name": "Raul Seixas",
                                    "Canciones": "14"
                                },
                                {
                                    "ArtistId": "127",
                                    "Name": "Red Hot Chili Peppers",
                                    "Canciones": "31"
                                },
                                {
                                    "ArtistId": "128",
                                    "Name": "Rush",
                                    "Canciones": "14"
                                },
                                {
                                    "ArtistId": "130",
                                    "Name": "Skank",
                                    "Canciones": "23"
                                },
                                {
                                    "ArtistId": "132",
                                    "Name": "Soundgarden",
                                    "Canciones": "17"
                                },
                                {
                                    "ArtistId": "134",
                                    "Name": "Stone Temple Pilots",
                                    "Canciones": "12"
                                },
                                {
                                    "ArtistId": "136",
                                    "Name": "Terry Bozzio, Tony Levin & Steve Stevens",
                                    "Canciones": "7"
                                },
                                {
                                    "ArtistId": "139",
                                    "Name": "The Cult",
                                    "Canciones": "30"
                                },
                                {
                                    "ArtistId": "140",
                                    "Name": "The Doors",
                                    "Canciones": "11"
                                },
                                {
                                    "ArtistId": "141",
                                    "Name": "The Police",
                                    "Canciones": "14"
                                },
                                {
                                    "ArtistId": "142",
                                    "Name": "The Rolling Stones",
                                    "Canciones": "41"
                                },
                                {
                                    "ArtistId": "144",
                                    "Name": "The Who",
                                    "Canciones": "20"
                                },
                                {
                                    "ArtistId": "150",
                                    "Name": "U2",
                                    "Canciones": "112"
                                },
                                {
                                    "ArtistId": "152",
                                    "Name": "Van Halen",
                                    "Canciones": "52"
                                },
                                {
                                    "ArtistId": "153",
                                    "Name": "Velvet Revolver",
                                    "Canciones": "13"
                                },
                                {
                                    "ArtistId": "157",
                                    "Name": "Dread Zeppelin",
                                    "Canciones": "1"
                                },
                                {
                                    "ArtistId": "179",
                                    "Name": "Scorpions",
                                    "Canciones": "12"
                                },
                                {
                                    "ArtistId": "200",
                                    "Name": "The Posies",
                                    "Canciones": "2"
                                }
                            ]
                        },
                        "text/html": [
                            "<table>",
                            "<tr><th>ArtistId</th><th>Name</th><th>Canciones</th></tr>",
                            "<tr><td>1</td><td>AC/DC</td><td>18</td></tr>",
                            "<tr><td>2</td><td>Accept</td><td>4</td></tr>",
                            "<tr><td>3</td><td>Aerosmith</td><td>15</td></tr>",
                            "<tr><td>4</td><td>Alanis Morissette</td><td>13</td></tr>",
                            "<tr><td>5</td><td>Alice In Chains</td><td>12</td></tr>",
                            "<tr><td>8</td><td>Audioslave</td><td>14</td></tr>",
                            "<tr><td>22</td><td>Led Zeppelin</td><td>114</td></tr>",
                            "<tr><td>23</td><td>Frank Zappa &amp; Captain Beefheart</td><td>9</td></tr>",
                            "<tr><td>51</td><td>Queen</td><td>45</td></tr>",
                            "<tr><td>52</td><td>Kiss</td><td>35</td></tr>",
                            "<tr><td>55</td><td>David Coverdale</td><td>12</td></tr>",
                            "<tr><td>58</td><td>Deep Purple</td><td>92</td></tr>",
                            "<tr><td>59</td><td>Santana</td><td>27</td></tr>",
                            "<tr><td>76</td><td>Creedence Clearwater Revival</td><td>40</td></tr>",
                            "<tr><td>78</td><td>Def Leppard</td><td>16</td></tr>",
                            "<tr><td>82</td><td>Faith No More</td><td>15</td></tr>",
                            "<tr><td>84</td><td>Foo Fighters</td><td>33</td></tr>",
                            "<tr><td>88</td><td>Guns N&#39; Roses</td><td>28</td></tr>",
                            "<tr><td>90</td><td>Iron Maiden</td><td>81</td></tr>",
                            "<tr><td>92</td><td>Jamiroquai</td><td>10</td></tr>",
                            "<tr><td>94</td><td>Jimi Hendrix</td><td>17</td></tr>",
                            "<tr><td>95</td><td>Joe Satriani</td><td>10</td></tr>",
                            "<tr><td>100</td><td>Lenny Kravitz</td><td>30</td></tr>",
                            "<tr><td>102</td><td>Marillion</td><td>10</td></tr>",
                            "<tr><td>105</td><td>Men At Work</td><td>10</td></tr>",
                            "<tr><td>110</td><td>Nirvana</td><td>29</td></tr>",
                            "<tr><td>111</td><td>O Terço</td><td>15</td></tr>",
                            "<tr><td>114</td><td>Ozzy Osbourne</td><td>18</td></tr>",
                            "<tr><td>115</td><td>Page &amp; Plant</td><td>12</td></tr>",
                            "<tr><td>117</td><td>Paul D&#39;Ianno</td><td>10</td></tr>",
                            "<tr><td>118</td><td>Pearl Jam</td><td>54</td></tr>",
                            "<tr><td>120</td><td>Pink Floyd</td><td>9</td></tr>",
                            "<tr><td>124</td><td>R.E.M.</td><td>14</td></tr>",
                            "<tr><td>126</td><td>Raul Seixas</td><td>14</td></tr>",
                            "<tr><td>127</td><td>Red Hot Chili Peppers</td><td>31</td></tr>",
                            "<tr><td>128</td><td>Rush</td><td>14</td></tr>",
                            "<tr><td>130</td><td>Skank</td><td>23</td></tr>",
                            "<tr><td>132</td><td>Soundgarden</td><td>17</td></tr>",
                            "<tr><td>134</td><td>Stone Temple Pilots</td><td>12</td></tr>",
                            "<tr><td>136</td><td>Terry Bozzio, Tony Levin &amp; Steve Stevens</td><td>7</td></tr>",
                            "<tr><td>139</td><td>The Cult</td><td>30</td></tr>",
                            "<tr><td>140</td><td>The Doors</td><td>11</td></tr>",
                            "<tr><td>141</td><td>The Police</td><td>14</td></tr>",
                            "<tr><td>142</td><td>The Rolling Stones</td><td>41</td></tr>",
                            "<tr><td>144</td><td>The Who</td><td>20</td></tr>",
                            "<tr><td>150</td><td>U2</td><td>112</td></tr>",
                            "<tr><td>152</td><td>Van Halen</td><td>52</td></tr>",
                            "<tr><td>153</td><td>Velvet Revolver</td><td>13</td></tr>",
                            "<tr><td>157</td><td>Dread Zeppelin</td><td>1</td></tr>",
                            "<tr><td>179</td><td>Scorpions</td><td>12</td></tr>",
                            "<tr><td>200</td><td>The Posies</td><td>2</td></tr>",
                            "</table>"
                        ]
                    }
                }
            ],
            "execution_count": 3
        },
        {
            "cell_type": "code",
            "source": [
                "-- Cuales son los artistas que han ganado más de $100 en total.\r\n",
                "-- CONTANDO SOLO DE LA LISTA DE TRACKS\r\n",
                "SELECT ar.ArtistId, ar.Name, SUM(t.UnitPrice) as 'Plata Ganada'\r\n",
                "FROM Artist ar\r\n",
                "INNER JOIN Album al ON al.ArtistId = ar.ArtistId\r\n",
                "INNER JOIN Track t ON t.AlbumId = al.AlbumId\r\n",
                "GROUP BY ar.ArtistId, ar.Name\r\n",
                "HAVING SUM(t.UnitPrice) > 100\r\n",
                "ORDER BY 'Plata Ganada' DESC\r\n",
                "\r\n",
                "-- CONTANDO DE TODAS LAS PLAYLISTS\r\n",
                "SELECT ar.ArtistId, ar.Name, SUM(t.UnitPrice) as 'Plata Ganada'\r\n",
                "FROM Artist ar\r\n",
                "INNER JOIN Album al ON al.ArtistId = ar.ArtistId\r\n",
                "INNER JOIN Track t ON t.AlbumId = al.AlbumId\r\n",
                "INNER JOIN PlaylistTrack ptr ON t.TrackId = ptr.TrackId\r\n",
                "INNER JOIN Playlist p ON p.PlaylistId = ptr.PlaylistId\r\n",
                "GROUP BY ar.ArtistId, ar.Name\r\n",
                "HAVING SUM(t.UnitPrice) > 100\r\n",
                "ORDER BY 'Plata Ganada' DESC\r\n",
                "\r\n",
                "-- CONTANDO CON LAS INVOICE\r\n",
                "SELECT ar.Name, SUM(il.UnitPrice*il.Quantity) as 'Plata Ganada'\r\n",
                "FROM Artist ar\r\n",
                "INNER JOIN Album al ON al.ArtistId = ar.ArtistId\r\n",
                "INNER JOIN Track t ON t.AlbumId = al.AlbumId\r\n",
                "INNER JOIN InvoiceLine il ON il.TrackId = t.TrackId\r\n",
                "GROUP BY ar.ArtistId, ar.Name\r\n",
                "HAVING SUM(il.UnitPrice*il.Quantity) > 100\r\n",
                "ORDER BY 'Plata Ganada' DESC"
            ],
            "metadata": {
                "language": "sql",
                "azdata_cell_guid": "a3235617-d841-4d71-b202-a2fc5d0474c5"
            },
            "outputs": [
                {
                    "output_type": "display_data",
                    "data": {
                        "text/html": "(6 rows affected)"
                    },
                    "metadata": {}
                },
                {
                    "output_type": "display_data",
                    "data": {
                        "text/html": "(20 rows affected)"
                    },
                    "metadata": {}
                },
                {
                    "output_type": "display_data",
                    "data": {
                        "text/html": "(2 rows affected)"
                    },
                    "metadata": {}
                },
                {
                    "output_type": "display_data",
                    "data": {
                        "text/html": "Total execution time: 00:00:00.062"
                    },
                    "metadata": {}
                },
                {
                    "output_type": "execute_result",
                    "metadata": {},
                    "execution_count": 4,
                    "data": {
                        "application/vnd.dataresource+json": {
                            "schema": {
                                "fields": [
                                    {
                                        "name": "ArtistId"
                                    },
                                    {
                                        "name": "Name"
                                    },
                                    {
                                        "name": "Plata Ganada"
                                    }
                                ]
                            },
                            "data": [
                                {
                                    "ArtistId": "90",
                                    "Name": "Iron Maiden",
                                    "Plata Ganada": "210.87"
                                },
                                {
                                    "ArtistId": "149",
                                    "Name": "Lost",
                                    "Plata Ganada": "183.08"
                                },
                                {
                                    "ArtistId": "150",
                                    "Name": "U2",
                                    "Plata Ganada": "133.65"
                                },
                                {
                                    "ArtistId": "22",
                                    "Name": "Led Zeppelin",
                                    "Plata Ganada": "112.86"
                                },
                                {
                                    "ArtistId": "50",
                                    "Name": "Metallica",
                                    "Plata Ganada": "110.88"
                                },
                                {
                                    "ArtistId": "156",
                                    "Name": "The Office",
                                    "Plata Ganada": "105.47"
                                }
                            ]
                        },
                        "text/html": [
                            "<table>",
                            "<tr><th>ArtistId</th><th>Name</th><th>Plata Ganada</th></tr>",
                            "<tr><td>90</td><td>Iron Maiden</td><td>210.87</td></tr>",
                            "<tr><td>149</td><td>Lost</td><td>183.08</td></tr>",
                            "<tr><td>150</td><td>U2</td><td>133.65</td></tr>",
                            "<tr><td>22</td><td>Led Zeppelin</td><td>112.86</td></tr>",
                            "<tr><td>50</td><td>Metallica</td><td>110.88</td></tr>",
                            "<tr><td>156</td><td>The Office</td><td>105.47</td></tr>",
                            "</table>"
                        ]
                    }
                },
                {
                    "output_type": "execute_result",
                    "metadata": {},
                    "execution_count": 4,
                    "data": {
                        "application/vnd.dataresource+json": {
                            "schema": {
                                "fields": [
                                    {
                                        "name": "ArtistId"
                                    },
                                    {
                                        "name": "Name"
                                    },
                                    {
                                        "name": "Plata Ganada"
                                    }
                                ]
                            },
                            "data": [
                                {
                                    "ArtistId": "90",
                                    "Name": "Iron Maiden",
                                    "Plata Ganada": "510.84"
                                },
                                {
                                    "ArtistId": "149",
                                    "Name": "Lost",
                                    "Plata Ganada": "366.16"
                                },
                                {
                                    "ArtistId": "150",
                                    "Name": "U2",
                                    "Plata Ganada": "329.67"
                                },
                                {
                                    "ArtistId": "50",
                                    "Name": "Metallica",
                                    "Plata Ganada": "293.04"
                                },
                                {
                                    "ArtistId": "22",
                                    "Name": "Led Zeppelin",
                                    "Plata Ganada": "249.48"
                                },
                                {
                                    "ArtistId": "58",
                                    "Name": "Deep Purple",
                                    "Plata Ganada": "223.74"
                                },
                                {
                                    "ArtistId": "156",
                                    "Name": "The Office",
                                    "Plata Ganada": "210.94"
                                },
                                {
                                    "ArtistId": "118",
                                    "Name": "Pearl Jam",
                                    "Plata Ganada": "175.23"
                                },
                                {
                                    "ArtistId": "81",
                                    "Name": "Eric Clapton",
                                    "Plata Ganada": "143.55"
                                },
                                {
                                    "ArtistId": "82",
                                    "Name": "Faith No More",
                                    "Plata Ganada": "143.55"
                                },
                                {
                                    "ArtistId": "100",
                                    "Name": "Lenny Kravitz",
                                    "Plata Ganada": "141.57"
                                },
                                {
                                    "ArtistId": "127",
                                    "Name": "Red Hot Chili Peppers",
                                    "Plata Ganada": "126.72"
                                },
                                {
                                    "ArtistId": "152",
                                    "Name": "Van Halen",
                                    "Plata Ganada": "120.78"
                                },
                                {
                                    "ArtistId": "113",
                                    "Name": "Os Paralamas Do Sucesso",
                                    "Plata Ganada": "117.81"
                                },
                                {
                                    "ArtistId": "146",
                                    "Name": "Titãs",
                                    "Plata Ganada": "112.86"
                                },
                                {
                                    "ArtistId": "88",
                                    "Name": "Guns N' Roses",
                                    "Plata Ganada": "112.86"
                                },
                                {
                                    "ArtistId": "21",
                                    "Name": "Various Artists",
                                    "Plata Ganada": "110.88"
                                },
                                {
                                    "ArtistId": "142",
                                    "Name": "The Rolling Stones",
                                    "Plata Ganada": "109.89"
                                },
                                {
                                    "ArtistId": "18",
                                    "Name": "Chico Science & Nação Zumbi",
                                    "Plata Ganada": "106.92"
                                },
                                {
                                    "ArtistId": "52",
                                    "Name": "Kiss",
                                    "Plata Ganada": "102.96"
                                }
                            ]
                        },
                        "text/html": [
                            "<table>",
                            "<tr><th>ArtistId</th><th>Name</th><th>Plata Ganada</th></tr>",
                            "<tr><td>90</td><td>Iron Maiden</td><td>510.84</td></tr>",
                            "<tr><td>149</td><td>Lost</td><td>366.16</td></tr>",
                            "<tr><td>150</td><td>U2</td><td>329.67</td></tr>",
                            "<tr><td>50</td><td>Metallica</td><td>293.04</td></tr>",
                            "<tr><td>22</td><td>Led Zeppelin</td><td>249.48</td></tr>",
                            "<tr><td>58</td><td>Deep Purple</td><td>223.74</td></tr>",
                            "<tr><td>156</td><td>The Office</td><td>210.94</td></tr>",
                            "<tr><td>118</td><td>Pearl Jam</td><td>175.23</td></tr>",
                            "<tr><td>81</td><td>Eric Clapton</td><td>143.55</td></tr>",
                            "<tr><td>82</td><td>Faith No More</td><td>143.55</td></tr>",
                            "<tr><td>100</td><td>Lenny Kravitz</td><td>141.57</td></tr>",
                            "<tr><td>127</td><td>Red Hot Chili Peppers</td><td>126.72</td></tr>",
                            "<tr><td>152</td><td>Van Halen</td><td>120.78</td></tr>",
                            "<tr><td>113</td><td>Os Paralamas Do Sucesso</td><td>117.81</td></tr>",
                            "<tr><td>146</td><td>Titãs</td><td>112.86</td></tr>",
                            "<tr><td>88</td><td>Guns N&#39; Roses</td><td>112.86</td></tr>",
                            "<tr><td>21</td><td>Various Artists</td><td>110.88</td></tr>",
                            "<tr><td>142</td><td>The Rolling Stones</td><td>109.89</td></tr>",
                            "<tr><td>18</td><td>Chico Science &amp; Nação Zumbi</td><td>106.92</td></tr>",
                            "<tr><td>52</td><td>Kiss</td><td>102.96</td></tr>",
                            "</table>"
                        ]
                    }
                },
                {
                    "output_type": "execute_result",
                    "metadata": {},
                    "execution_count": 4,
                    "data": {
                        "application/vnd.dataresource+json": {
                            "schema": {
                                "fields": [
                                    {
                                        "name": "Name"
                                    },
                                    {
                                        "name": "Plata Ganada"
                                    }
                                ]
                            },
                            "data": [
                                {
                                    "Name": "Iron Maiden",
                                    "Plata Ganada": "138.60"
                                },
                                {
                                    "Name": "U2",
                                    "Plata Ganada": "105.93"
                                }
                            ]
                        },
                        "text/html": [
                            "<table>",
                            "<tr><th>Name</th><th>Plata Ganada</th></tr>",
                            "<tr><td>Iron Maiden</td><td>138.60</td></tr>",
                            "<tr><td>U2</td><td>105.93</td></tr>",
                            "</table>"
                        ]
                    }
                }
            ],
            "execution_count": 4
        },
        {
            "cell_type": "code",
            "source": [
                "-- Calcular para cada artista, la duración en segundos de su canción más extensa junto con la diferencia contra su canción más corta\r\n",
                "SELECT ar.Name, MAX(t.Milliseconds/1000) as 'Mas Extensa', MAX(t.Milliseconds/1000) - MIN(t.Milliseconds/1000) as 'Diferencia'\r\n",
                "FROM Artist ar\r\n",
                "INNER JOIN Album al ON al.ArtistId = ar.ArtistId\r\n",
                "INNER JOIN Track t ON t.AlbumId = al.AlbumId\r\n",
                "GROUP BY ar.ArtistId, ar.Name\r\n",
                "ORDER BY ar.ArtistId"
            ],
            "metadata": {
                "language": "sql",
                "azdata_cell_guid": "c6e2ab51-b1f3-49ca-bebc-93763601a3b8",
                "tags": []
            },
            "outputs": [
                {
                    "output_type": "display_data",
                    "data": {
                        "text/html": "(204 rows affected)"
                    },
                    "metadata": {}
                },
                {
                    "output_type": "display_data",
                    "data": {
                        "text/html": "Total execution time: 00:00:00.020"
                    },
                    "metadata": {}
                },
                {
                    "output_type": "execute_result",
                    "metadata": {},
                    "execution_count": 5,
                    "data": {
                        "application/vnd.dataresource+json": {
                            "schema": {
                                "fields": [
                                    {
                                        "name": "Name"
                                    },
                                    {
                                        "name": "Mas Extensa"
                                    },
                                    {
                                        "name": "Diferencia"
                                    }
                                ]
                            },
                            "data": [
                                {
                                    "Name": "AC/DC",
                                    "Mas Extensa": "369",
                                    "Diferencia": "170"
                                },
                                {
                                    "Name": "Accept",
                                    "Mas Extensa": "375",
                                    "Diferencia": "145"
                                },
                                {
                                    "Name": "Aerosmith",
                                    "Mas Extensa": "381",
                                    "Diferencia": "166"
                                },
                                {
                                    "Name": "Alanis Morissette",
                                    "Mas Extensa": "491",
                                    "Diferencia": "315"
                                },
                                {
                                    "Name": "Alice In Chains",
                                    "Mas Extensa": "387",
                                    "Diferencia": "235"
                                },
                                {
                                    "Name": "Antônio Carlos Jobim",
                                    "Mas Extensa": "389",
                                    "Diferencia": "263"
                                },
                                {
                                    "Name": "Apocalyptica",
                                    "Mas Extensa": "436",
                                    "Diferencia": "215"
                                },
                                {
                                    "Name": "Audioslave",
                                    "Mas Extensa": "343",
                                    "Diferencia": "137"
                                },
                                {
                                    "Name": "BackBeat",
                                    "Mas Extensa": "163",
                                    "Diferencia": "57"
                                },
                                {
                                    "Name": "Billy Cobham",
                                    "Mas Extensa": "582",
                                    "Diferencia": "336"
                                },
                                {
                                    "Name": "Black Label Society",
                                    "Mas Extensa": "555",
                                    "Diferencia": "361"
                                },
                                {
                                    "Name": "Black Sabbath",
                                    "Mas Extensa": "644",
                                    "Diferencia": "541"
                                },
                                {
                                    "Name": "Body Count",
                                    "Mas Extensa": "392",
                                    "Diferencia": "388"
                                },
                                {
                                    "Name": "Bruce Dickinson",
                                    "Mas Extensa": "509",
                                    "Diferencia": "272"
                                },
                                {
                                    "Name": "Buddy Guy",
                                    "Mas Extensa": "589",
                                    "Diferencia": "454"
                                },
                                {
                                    "Name": "Caetano Veloso",
                                    "Mas Extensa": "482",
                                    "Diferencia": "398"
                                },
                                {
                                    "Name": "Chico Buarque",
                                    "Mas Extensa": "421",
                                    "Diferencia": "289"
                                },
                                {
                                    "Name": "Chico Science & Nação Zumbi",
                                    "Mas Extensa": "404",
                                    "Diferencia": "371"
                                },
                                {
                                    "Name": "Cidade Negra",
                                    "Mas Extensa": "304",
                                    "Diferencia": "131"
                                },
                                {
                                    "Name": "Cláudio Zoli",
                                    "Mas Extensa": "311",
                                    "Diferencia": "97"
                                },
                                {
                                    "Name": "Various Artists",
                                    "Mas Extensa": "351",
                                    "Diferencia": "235"
                                },
                                {
                                    "Name": "Led Zeppelin",
                                    "Mas Extensa": "1612",
                                    "Diferencia": "1486"
                                },
                                {
                                    "Name": "Frank Zappa & Captain Beefheart",
                                    "Mas Extensa": "677",
                                    "Diferencia": "589"
                                },
                                {
                                    "Name": "Marcos Valle",
                                    "Mas Extensa": "282",
                                    "Diferencia": "141"
                                },
                                {
                                    "Name": "Gilberto Gil",
                                    "Mas Extensa": "357",
                                    "Diferencia": "325"
                                },
                                {
                                    "Name": "O Rappa",
                                    "Mas Extensa": "359",
                                    "Diferencia": "216"
                                },
                                {
                                    "Name": "Ed Motta",
                                    "Mas Extensa": "323",
                                    "Diferencia": "142"
                                },
                                {
                                    "Name": "Elis Regina",
                                    "Mas Extensa": "290",
                                    "Diferencia": "133"
                                },
                                {
                                    "Name": "Milton Nascimento",
                                    "Mas Extensa": "413",
                                    "Diferencia": "341"
                                },
                                {
                                    "Name": "Jorge Ben",
                                    "Mas Extensa": "452",
                                    "Diferencia": "261"
                                },
                                {
                                    "Name": "Metallica",
                                    "Mas Extensa": "671",
                                    "Diferencia": "534"
                                },
                                {
                                    "Name": "Queen",
                                    "Mas Extensa": "387",
                                    "Diferencia": "265"
                                },
                                {
                                    "Name": "Kiss",
                                    "Mas Extensa": "369",
                                    "Diferencia": "223"
                                },
                                {
                                    "Name": "Spyro Gyra",
                                    "Mas Extensa": "338",
                                    "Diferencia": "100"
                                },
                                {
                                    "Name": "Green Day",
                                    "Mas Extensa": "558",
                                    "Diferencia": "468"
                                },
                                {
                                    "Name": "David Coverdale",
                                    "Mas Extensa": "439",
                                    "Diferencia": "363"
                                },
                                {
                                    "Name": "Gonzaguinha",
                                    "Mas Extensa": "259",
                                    "Diferencia": "104"
                                },
                                {
                                    "Name": "Os Mutantes",
                                    "Mas Extensa": "518",
                                    "Diferencia": "393"
                                },
                                {
                                    "Name": "Deep Purple",
                                    "Mas Extensa": "1196",
                                    "Diferencia": "1028"
                                },
                                {
                                    "Name": "Santana",
                                    "Mas Extensa": "1070",
                                    "Diferencia": "976"
                                },
                                {
                                    "Name": "Miles Davis",
                                    "Mas Extensa": "907",
                                    "Diferencia": "773"
                                },
                                {
                                    "Name": "Gene Krupa",
                                    "Mas Extensa": "348",
                                    "Diferencia": "185"
                                },
                                {
                                    "Name": "Toquinho & Vinícius",
                                    "Mas Extensa": "409",
                                    "Diferencia": "272"
                                },
                                {
                                    "Name": "Vinícius De Moraes",
                                    "Mas Extensa": "421",
                                    "Diferencia": "366"
                                },
                                {
                                    "Name": "Creedence Clearwater Revival",
                                    "Mas Extensa": "664",
                                    "Diferencia": "535"
                                },
                                {
                                    "Name": "Cássia Eller",
                                    "Mas Extensa": "316",
                                    "Diferencia": "165"
                                },
                                {
                                    "Name": "Def Leppard",
                                    "Mas Extensa": "355",
                                    "Diferencia": "141"
                                },
                                {
                                    "Name": "Dennis Chambers",
                                    "Mas Extensa": "659",
                                    "Diferencia": "387"
                                },
                                {
                                    "Name": "Djavan",
                                    "Mas Extensa": "347",
                                    "Diferencia": "136"
                                },
                                {
                                    "Name": "Eric Clapton",
                                    "Mas Extensa": "472",
                                    "Diferencia": "309"
                                },
                                {
                                    "Name": "Faith No More",
                                    "Mas Extensa": "493",
                                    "Diferencia": "374"
                                },
                                {
                                    "Name": "Falamansa",
                                    "Mas Extensa": "355",
                                    "Diferencia": "322"
                                },
                                {
                                    "Name": "Foo Fighters",
                                    "Mas Extensa": "469",
                                    "Diferencia": "386"
                                },
                                {
                                    "Name": "Frank Sinatra",
                                    "Mas Extensa": "292",
                                    "Diferencia": "203"
                                },
                                {
                                    "Name": "Funk Como Le Gusta",
                                    "Mas Extensa": "526",
                                    "Diferencia": "452"
                                },
                                {
                                    "Name": "Godsmack",
                                    "Mas Extensa": "274",
                                    "Diferencia": "185"
                                },
                                {
                                    "Name": "Guns N' Roses",
                                    "Mas Extensa": "616",
                                    "Diferencia": "532"
                                },
                                {
                                    "Name": "Incognito",
                                    "Mas Extensa": "528",
                                    "Diferencia": "286"
                                },
                                {
                                    "Name": "Iron Maiden",
                                    "Mas Extensa": "816",
                                    "Diferencia": "768"
                                },
                                {
                                    "Name": "James Brown",
                                    "Mas Extensa": "334",
                                    "Diferencia": "207"
                                },
                                {
                                    "Name": "Jamiroquai",
                                    "Mas Extensa": "616",
                                    "Diferencia": "459"
                                },
                                {
                                    "Name": "JET",
                                    "Mas Extensa": "282",
                                    "Diferencia": "170"
                                },
                                {
                                    "Name": "Jimi Hendrix",
                                    "Mas Extensa": "404",
                                    "Diferencia": "251"
                                },
                                {
                                    "Name": "Joe Satriani",
                                    "Mas Extensa": "337",
                                    "Diferencia": "235"
                                },
                                {
                                    "Name": "Jota Quest",
                                    "Mas Extensa": "315",
                                    "Diferencia": "187"
                                },
                                {
                                    "Name": "João Suplicy",
                                    "Mas Extensa": "284",
                                    "Diferencia": "166"
                                },
                                {
                                    "Name": "Judas Priest",
                                    "Mas Extensa": "430",
                                    "Diferencia": "389"
                                },
                                {
                                    "Name": "Legião Urbana",
                                    "Mas Extensa": "543",
                                    "Diferencia": "402"
                                },
                                {
                                    "Name": "Lenny Kravitz",
                                    "Mas Extensa": "398",
                                    "Diferencia": "208"
                                },
                                {
                                    "Name": "Lulu Santos",
                                    "Mas Extensa": "346",
                                    "Diferencia": "200"
                                },
                                {
                                    "Name": "Marillion",
                                    "Mas Extensa": "569",
                                    "Diferencia": "457"
                                },
                                {
                                    "Name": "Marisa Monte",
                                    "Mas Extensa": "291",
                                    "Diferencia": "246"
                                },
                                {
                                    "Name": "Marvin Gaye",
                                    "Mas Extensa": "314",
                                    "Diferencia": "178"
                                },
                                {
                                    "Name": "Men At Work",
                                    "Mas Extensa": "408",
                                    "Diferencia": "210"
                                },
                                {
                                    "Name": "Motörhead",
                                    "Mas Extensa": "258",
                                    "Diferencia": "160"
                                },
                                {
                                    "Name": "Mônica Marianno",
                                    "Mas Extensa": "274",
                                    "Diferencia": "235"
                                },
                                {
                                    "Name": "Mötley Crüe",
                                    "Mas Extensa": "340",
                                    "Diferencia": "140"
                                },
                                {
                                    "Name": "Nirvana",
                                    "Mas Extensa": "301",
                                    "Diferencia": "249"
                                },
                                {
                                    "Name": "O Terço",
                                    "Mas Extensa": "330",
                                    "Diferencia": "234"
                                },
                                {
                                    "Name": "Olodum",
                                    "Mas Extensa": "252",
                                    "Diferencia": "106"
                                },
                                {
                                    "Name": "Os Paralamas Do Sucesso",
                                    "Mas Extensa": "337",
                                    "Diferencia": "189"
                                },
                                {
                                    "Name": "Ozzy Osbourne",
                                    "Mas Extensa": "552",
                                    "Diferencia": "380"
                                },
                                {
                                    "Name": "Page & Plant",
                                    "Mas Extensa": "405",
                                    "Diferencia": "175"
                                },
                                {
                                    "Name": "Passengers",
                                    "Mas Extensa": "383",
                                    "Diferencia": "263"
                                },
                                {
                                    "Name": "Paul D'Ianno",
                                    "Mas Extensa": "418",
                                    "Diferencia": "248"
                                },
                                {
                                    "Name": "Pearl Jam",
                                    "Mas Extensa": "546",
                                    "Diferencia": "493"
                                },
                                {
                                    "Name": "Pink Floyd",
                                    "Mas Extensa": "461",
                                    "Diferencia": "336"
                                },
                                {
                                    "Name": "Planet Hemp",
                                    "Mas Extensa": "410",
                                    "Diferencia": "381"
                                },
                                {
                                    "Name": "R.E.M. Feat. Kate Pearson",
                                    "Mas Extensa": "296",
                                    "Diferencia": "97"
                                },
                                {
                                    "Name": "R.E.M.",
                                    "Mas Extensa": "437",
                                    "Diferencia": "283"
                                },
                                {
                                    "Name": "Raimundos",
                                    "Mas Extensa": "293",
                                    "Diferencia": "172"
                                },
                                {
                                    "Name": "Raul Seixas",
                                    "Mas Extensa": "268",
                                    "Diferencia": "134"
                                },
                                {
                                    "Name": "Red Hot Chili Peppers",
                                    "Mas Extensa": "496",
                                    "Diferencia": "425"
                                },
                                {
                                    "Name": "Rush",
                                    "Mas Extensa": "667",
                                    "Diferencia": "534"
                                },
                                {
                                    "Name": "Skank",
                                    "Mas Extensa": "318",
                                    "Diferencia": "317"
                                },
                                {
                                    "Name": "Smashing Pumpkins",
                                    "Mas Extensa": "473",
                                    "Diferencia": "312"
                                },
                                {
                                    "Name": "Soundgarden",
                                    "Mas Extensa": "362",
                                    "Diferencia": "174"
                                },
                                {
                                    "Name": "Stevie Ray Vaughan & Double Trouble",
                                    "Mas Extensa": "528",
                                    "Diferencia": "388"
                                },
                                {
                                    "Name": "Stone Temple Pilots",
                                    "Mas Extensa": "505",
                                    "Diferencia": "425"
                                },
                                {
                                    "Name": "System Of A Down",
                                    "Mas Extensa": "320",
                                    "Diferencia": "257"
                                },
                                {
                                    "Name": "Terry Bozzio, Tony Levin & Steve Stevens",
                                    "Mas Extensa": "880",
                                    "Diferencia": "433"
                                },
                                {
                                    "Name": "The Black Crowes",
                                    "Mas Extensa": "505",
                                    "Diferencia": "299"
                                },
                                {
                                    "Name": "The Clash",
                                    "Mas Extensa": "324",
                                    "Diferencia": "206"
                                },
                                {
                                    "Name": "The Cult",
                                    "Mas Extensa": "368",
                                    "Diferencia": "203"
                                },
                                {
                                    "Name": "The Doors",
                                    "Mas Extensa": "701",
                                    "Diferencia": "564"
                                },
                                {
                                    "Name": "The Police",
                                    "Mas Extensa": "315",
                                    "Diferencia": "134"
                                },
                                {
                                    "Name": "The Rolling Stones",
                                    "Mas Extensa": "479",
                                    "Diferencia": "430"
                                },
                                {
                                    "Name": "The Tea Party",
                                    "Mas Extensa": "396",
                                    "Diferencia": "227"
                                },
                                {
                                    "Name": "The Who",
                                    "Mas Extensa": "513",
                                    "Diferencia": "388"
                                },
                                {
                                    "Name": "Tim Maia",
                                    "Mas Extensa": "262",
                                    "Diferencia": "172"
                                },
                                {
                                    "Name": "Titãs",
                                    "Mas Extensa": "322",
                                    "Diferencia": "288"
                                },
                                {
                                    "Name": "Battlestar Galactica",
                                    "Mas Extensa": "5286",
                                    "Diferencia": "2723"
                                },
                                {
                                    "Name": "Heroes",
                                    "Mas Extensa": "2687",
                                    "Diferencia": "154"
                                },
                                {
                                    "Name": "Lost",
                                    "Mas Extensa": "5088",
                                    "Diferencia": "4976"
                                },
                                {
                                    "Name": "U2",
                                    "Mas Extensa": "591",
                                    "Diferencia": "553"
                                },
                                {
                                    "Name": "UB40",
                                    "Mas Extensa": "341",
                                    "Diferencia": "145"
                                },
                                {
                                    "Name": "Van Halen",
                                    "Mas Extensa": "514",
                                    "Diferencia": "472"
                                },
                                {
                                    "Name": "Velvet Revolver",
                                    "Mas Extensa": "348",
                                    "Diferencia": "127"
                                },
                                {
                                    "Name": "Zeca Pagodinho",
                                    "Mas Extensa": "332",
                                    "Diferencia": "225"
                                },
                                {
                                    "Name": "The Office",
                                    "Mas Extensa": "2541",
                                    "Diferencia": "1304"
                                },
                                {
                                    "Name": "Dread Zeppelin",
                                    "Mas Extensa": "310",
                                    "Diferencia": "0"
                                },
                                {
                                    "Name": "Battlestar Galactica (Classic)",
                                    "Mas Extensa": "2960",
                                    "Diferencia": "97"
                                },
                                {
                                    "Name": "Aquaman",
                                    "Mas Extensa": "2484",
                                    "Diferencia": "0"
                                },
                                {
                                    "Name": "Scorpions",
                                    "Mas Extensa": "390",
                                    "Diferencia": "185"
                                },
                                {
                                    "Name": "House Of Pain",
                                    "Mas Extensa": "239",
                                    "Diferencia": "232"
                                },
                                {
                                    "Name": "Cake",
                                    "Mas Extensa": "234",
                                    "Diferencia": "0"
                                },
                                {
                                    "Name": "Aisha Duo",
                                    "Mas Extensa": "307",
                                    "Diferencia": "61"
                                },
                                {
                                    "Name": "Habib Koité and Bamada",
                                    "Mas Extensa": "300",
                                    "Diferencia": "15"
                                },
                                {
                                    "Name": "Karsh Kale",
                                    "Mas Extensa": "366",
                                    "Diferencia": "39"
                                },
                                {
                                    "Name": "The Posies",
                                    "Mas Extensa": "212",
                                    "Diferencia": "13"
                                },
                                {
                                    "Name": "Luciana Souza/Romero Lubambo",
                                    "Mas Extensa": "172",
                                    "Diferencia": "0"
                                },
                                {
                                    "Name": "Aaron Goldberg",
                                    "Mas Extensa": "266",
                                    "Diferencia": "0"
                                },
                                {
                                    "Name": "Nicolaus Esterhazy Sinfonia",
                                    "Mas Extensa": "356",
                                    "Diferencia": "0"
                                },
                                {
                                    "Name": "Temple of the Dog",
                                    "Mas Extensa": "672",
                                    "Diferencia": "447"
                                },
                                {
                                    "Name": "Chris Cornell",
                                    "Mas Extensa": "281",
                                    "Diferencia": "77"
                                },
                                {
                                    "Name": "Alberto Turco & Nova Schola Gregoriana",
                                    "Mas Extensa": "245",
                                    "Diferencia": "0"
                                },
                                {
                                    "Name": "Richard Marlow & The Choir of Trinity College, Cambridge",
                                    "Mas Extensa": "501",
                                    "Diferencia": "0"
                                },
                                {
                                    "Name": "English Concert & Trevor Pinnock",
                                    "Mas Extensa": "271",
                                    "Diferencia": "151"
                                },
                                {
                                    "Name": "Anne-Sophie Mutter, Herbert Von Karajan & Wiener Philharmoniker",
                                    "Mas Extensa": "199",
                                    "Diferencia": "0"
                                },
                                {
                                    "Name": "Hilary Hahn, Jeffrey Kahane, Los Angeles Chamber Orchestra & Margaret Batjer",
                                    "Mas Extensa": "193",
                                    "Diferencia": "0"
                                },
                                {
                                    "Name": "Wilhelm Kempff",
                                    "Mas Extensa": "120",
                                    "Diferencia": "0"
                                },
                                {
                                    "Name": "Yo-Yo Ma",
                                    "Mas Extensa": "143",
                                    "Diferencia": "0"
                                },
                                {
                                    "Name": "Scholars Baroque Ensemble",
                                    "Mas Extensa": "582",
                                    "Diferencia": "0"
                                },
                                {
                                    "Name": "Academy of St. Martin in the Fields & Sir Neville Marriner",
                                    "Mas Extensa": "268",
                                    "Diferencia": "71"
                                },
                                {
                                    "Name": "Academy of St. Martin in the Fields Chamber Ensemble & Sir Neville Marriner",
                                    "Mas Extensa": "348",
                                    "Diferencia": "0"
                                },
                                {
                                    "Name": "Berliner Philharmoniker, Claudio Abbado & Sabine Meyer",
                                    "Mas Extensa": "394",
                                    "Diferencia": "0"
                                },
                                {
                                    "Name": "Royal Philharmonic Orchestra & Sir Thomas Beecham",
                                    "Mas Extensa": "306",
                                    "Diferencia": "0"
                                },
                                {
                                    "Name": "Orchestre Révolutionnaire et Romantique & John Eliot Gardiner",
                                    "Mas Extensa": "392",
                                    "Diferencia": "0"
                                },
                                {
                                    "Name": "Britten Sinfonia, Ivor Bolton & Lesley Garrett",
                                    "Mas Extensa": "338",
                                    "Diferencia": "0"
                                },
                                {
                                    "Name": "Chicago Symphony Chorus, Chicago Symphony Orchestra & Sir Georg Solti",
                                    "Mas Extensa": "274",
                                    "Diferencia": "0"
                                },
                                {
                                    "Name": "Sir Georg Solti & Wiener Philharmoniker",
                                    "Mas Extensa": "189",
                                    "Diferencia": "0"
                                },
                                {
                                    "Name": "Academy of St. Martin in the Fields, John Birch, Sir Neville Marriner & Sylvia McNair",
                                    "Mas Extensa": "258",
                                    "Diferencia": "0"
                                },
                                {
                                    "Name": "London Symphony Orchestra & Sir Charles Mackerras",
                                    "Mas Extensa": "304",
                                    "Diferencia": "0"
                                },
                                {
                                    "Name": "Barry Wordsworth & BBC Concert Orchestra",
                                    "Mas Extensa": "250",
                                    "Diferencia": "0"
                                },
                                {
                                    "Name": "Herbert Von Karajan, Mirella Freni & Wiener Philharmoniker",
                                    "Mas Extensa": "277",
                                    "Diferencia": "0"
                                },
                                {
                                    "Name": "Eugene Ormandy",
                                    "Mas Extensa": "526",
                                    "Diferencia": "240"
                                },
                                {
                                    "Name": "Luciano Pavarotti",
                                    "Mas Extensa": "176",
                                    "Diferencia": "0"
                                },
                                {
                                    "Name": "Leonard Bernstein & New York Philharmonic",
                                    "Mas Extensa": "596",
                                    "Diferencia": "0"
                                },
                                {
                                    "Name": "Boston Symphony Orchestra & Seiji Ozawa",
                                    "Mas Extensa": "156",
                                    "Diferencia": "0"
                                },
                                {
                                    "Name": "Aaron Copland & London Symphony Orchestra",
                                    "Mas Extensa": "198",
                                    "Diferencia": "0"
                                },
                                {
                                    "Name": "Ton Koopman",
                                    "Mas Extensa": "153",
                                    "Diferencia": "0"
                                },
                                {
                                    "Name": "Sergei Prokofiev & Yuri Temirkanov",
                                    "Mas Extensa": "254",
                                    "Diferencia": "0"
                                },
                                {
                                    "Name": "Chicago Symphony Orchestra & Fritz Reiner",
                                    "Mas Extensa": "545",
                                    "Diferencia": "0"
                                },
                                {
                                    "Name": "Orchestra of The Age of Enlightenment",
                                    "Mas Extensa": "307",
                                    "Diferencia": "0"
                                },
                                {
                                    "Name": "Emanuel Ax, Eugene Ormandy & Philadelphia Orchestra",
                                    "Mas Extensa": "560",
                                    "Diferencia": "0"
                                },
                                {
                                    "Name": "James Levine",
                                    "Mas Extensa": "243",
                                    "Diferencia": "0"
                                },
                                {
                                    "Name": "Berliner Philharmoniker & Hans Rosbaud",
                                    "Mas Extensa": "406",
                                    "Diferencia": "0"
                                },
                                {
                                    "Name": "Maurizio Pollini",
                                    "Mas Extensa": "391",
                                    "Diferencia": "0"
                                },
                                {
                                    "Name": "Gustav Mahler",
                                    "Mas Extensa": "223",
                                    "Diferencia": "0"
                                },
                                {
                                    "Name": "Felix Schmidt, London Symphony Orchestra & Rafael Frühbeck de Burgos",
                                    "Mas Extensa": "483",
                                    "Diferencia": "0"
                                },
                                {
                                    "Name": "Edo de Waart & San Francisco Symphony",
                                    "Mas Extensa": "254",
                                    "Diferencia": "0"
                                },
                                {
                                    "Name": "Antal Doráti & London Symphony Orchestra",
                                    "Mas Extensa": "412",
                                    "Diferencia": "0"
                                },
                                {
                                    "Name": "Choir Of Westminster Abbey & Simon Preston",
                                    "Mas Extensa": "240",
                                    "Diferencia": "0"
                                },
                                {
                                    "Name": "Michael Tilson Thomas & San Francisco Symphony",
                                    "Mas Extensa": "561",
                                    "Diferencia": "286"
                                },
                                {
                                    "Name": "Chor der Wiener Staatsoper, Herbert Von Karajan & Wiener Philharmoniker",
                                    "Mas Extensa": "132",
                                    "Diferencia": "0"
                                },
                                {
                                    "Name": "The King's Singers",
                                    "Mas Extensa": "133",
                                    "Diferencia": "64"
                                },
                                {
                                    "Name": "Berliner Philharmoniker & Herbert Von Karajan",
                                    "Mas Extensa": "362",
                                    "Diferencia": "128"
                                },
                                {
                                    "Name": "Sir Georg Solti, Sumi Jo & Wiener Philharmoniker",
                                    "Mas Extensa": "174",
                                    "Diferencia": "0"
                                },
                                {
                                    "Name": "Christopher O'Riley",
                                    "Mas Extensa": "101",
                                    "Diferencia": "0"
                                },
                                {
                                    "Name": "Fretwork",
                                    "Mas Extensa": "253",
                                    "Diferencia": "0"
                                },
                                {
                                    "Name": "Amy Winehouse",
                                    "Mas Extensa": "663",
                                    "Diferencia": "534"
                                },
                                {
                                    "Name": "Calexico",
                                    "Mas Extensa": "215",
                                    "Diferencia": "0"
                                },
                                {
                                    "Name": "Otto Klemperer & Philharmonia Orchestra",
                                    "Mas Extensa": "339",
                                    "Diferencia": "0"
                                },
                                {
                                    "Name": "Yehudi Menuhin",
                                    "Mas Extensa": "299",
                                    "Diferencia": "0"
                                },
                                {
                                    "Name": "Philharmonia Orchestra & Sir Neville Marriner",
                                    "Mas Extensa": "387",
                                    "Diferencia": "0"
                                },
                                {
                                    "Name": "Academy of St. Martin in the Fields, Sir Neville Marriner & Thurston Dart",
                                    "Mas Extensa": "225",
                                    "Diferencia": "0"
                                },
                                {
                                    "Name": "Les Arts Florissants & William Christie",
                                    "Mas Extensa": "110",
                                    "Diferencia": "0"
                                },
                                {
                                    "Name": "The 12 Cellists of The Berlin Philharmonic",
                                    "Mas Extensa": "289",
                                    "Diferencia": "0"
                                },
                                {
                                    "Name": "Adrian Leaper & Doreen de Feis",
                                    "Mas Extensa": "567",
                                    "Diferencia": "0"
                                },
                                {
                                    "Name": "Roger Norrington, London Classical Players",
                                    "Mas Extensa": "364",
                                    "Diferencia": "0"
                                },
                                {
                                    "Name": "Charles Dutoit & L'Orchestre Symphonique de Montréal",
                                    "Mas Extensa": "385",
                                    "Diferencia": "0"
                                },
                                {
                                    "Name": "Equale Brass Ensemble, John Eliot Gardiner & Munich Monteverdi Orchestra and Choir",
                                    "Mas Extensa": "142",
                                    "Diferencia": "0"
                                },
                                {
                                    "Name": "Kent Nagano and Orchestre de l'Opéra de Lyon",
                                    "Mas Extensa": "376",
                                    "Diferencia": "0"
                                },
                                {
                                    "Name": "Julian Bream",
                                    "Mas Extensa": "285",
                                    "Diferencia": "0"
                                },
                                {
                                    "Name": "Martin Roscoe",
                                    "Mas Extensa": "333",
                                    "Diferencia": "0"
                                },
                                {
                                    "Name": "Göteborgs Symfoniker & Neeme Järvi",
                                    "Mas Extensa": "286",
                                    "Diferencia": "0"
                                },
                                {
                                    "Name": "Itzhak Perlman",
                                    "Mas Extensa": "265",
                                    "Diferencia": "0"
                                },
                                {
                                    "Name": "Michele Campanella",
                                    "Mas Extensa": "51",
                                    "Diferencia": "0"
                                },
                                {
                                    "Name": "Gerald Moore",
                                    "Mas Extensa": "261",
                                    "Diferencia": "0"
                                },
                                {
                                    "Name": "Mela Tenenbaum, Pro Musica Prague & Richard Kapp",
                                    "Mas Extensa": "493",
                                    "Diferencia": "0"
                                },
                                {
                                    "Name": "Emerson String Quartet",
                                    "Mas Extensa": "139",
                                    "Diferencia": "0"
                                },
                                {
                                    "Name": "C. Monteverdi, Nigel Rogers - Chiaroscuro; London Baroque; London Cornett & Sackbu",
                                    "Mas Extensa": "66",
                                    "Diferencia": "0"
                                },
                                {
                                    "Name": "Nash Ensemble",
                                    "Mas Extensa": "221",
                                    "Diferencia": "0"
                                },
                                {
                                    "Name": "Philip Glass Ensemble",
                                    "Mas Extensa": "206",
                                    "Diferencia": "0"
                                }
                            ]
                        },
                        "text/html": [
                            "<table>",
                            "<tr><th>Name</th><th>Mas Extensa</th><th>Diferencia</th></tr>",
                            "<tr><td>AC/DC</td><td>369</td><td>170</td></tr>",
                            "<tr><td>Accept</td><td>375</td><td>145</td></tr>",
                            "<tr><td>Aerosmith</td><td>381</td><td>166</td></tr>",
                            "<tr><td>Alanis Morissette</td><td>491</td><td>315</td></tr>",
                            "<tr><td>Alice In Chains</td><td>387</td><td>235</td></tr>",
                            "<tr><td>Antônio Carlos Jobim</td><td>389</td><td>263</td></tr>",
                            "<tr><td>Apocalyptica</td><td>436</td><td>215</td></tr>",
                            "<tr><td>Audioslave</td><td>343</td><td>137</td></tr>",
                            "<tr><td>BackBeat</td><td>163</td><td>57</td></tr>",
                            "<tr><td>Billy Cobham</td><td>582</td><td>336</td></tr>",
                            "<tr><td>Black Label Society</td><td>555</td><td>361</td></tr>",
                            "<tr><td>Black Sabbath</td><td>644</td><td>541</td></tr>",
                            "<tr><td>Body Count</td><td>392</td><td>388</td></tr>",
                            "<tr><td>Bruce Dickinson</td><td>509</td><td>272</td></tr>",
                            "<tr><td>Buddy Guy</td><td>589</td><td>454</td></tr>",
                            "<tr><td>Caetano Veloso</td><td>482</td><td>398</td></tr>",
                            "<tr><td>Chico Buarque</td><td>421</td><td>289</td></tr>",
                            "<tr><td>Chico Science &amp; Nação Zumbi</td><td>404</td><td>371</td></tr>",
                            "<tr><td>Cidade Negra</td><td>304</td><td>131</td></tr>",
                            "<tr><td>Cláudio Zoli</td><td>311</td><td>97</td></tr>",
                            "<tr><td>Various Artists</td><td>351</td><td>235</td></tr>",
                            "<tr><td>Led Zeppelin</td><td>1612</td><td>1486</td></tr>",
                            "<tr><td>Frank Zappa &amp; Captain Beefheart</td><td>677</td><td>589</td></tr>",
                            "<tr><td>Marcos Valle</td><td>282</td><td>141</td></tr>",
                            "<tr><td>Gilberto Gil</td><td>357</td><td>325</td></tr>",
                            "<tr><td>O Rappa</td><td>359</td><td>216</td></tr>",
                            "<tr><td>Ed Motta</td><td>323</td><td>142</td></tr>",
                            "<tr><td>Elis Regina</td><td>290</td><td>133</td></tr>",
                            "<tr><td>Milton Nascimento</td><td>413</td><td>341</td></tr>",
                            "<tr><td>Jorge Ben</td><td>452</td><td>261</td></tr>",
                            "<tr><td>Metallica</td><td>671</td><td>534</td></tr>",
                            "<tr><td>Queen</td><td>387</td><td>265</td></tr>",
                            "<tr><td>Kiss</td><td>369</td><td>223</td></tr>",
                            "<tr><td>Spyro Gyra</td><td>338</td><td>100</td></tr>",
                            "<tr><td>Green Day</td><td>558</td><td>468</td></tr>",
                            "<tr><td>David Coverdale</td><td>439</td><td>363</td></tr>",
                            "<tr><td>Gonzaguinha</td><td>259</td><td>104</td></tr>",
                            "<tr><td>Os Mutantes</td><td>518</td><td>393</td></tr>",
                            "<tr><td>Deep Purple</td><td>1196</td><td>1028</td></tr>",
                            "<tr><td>Santana</td><td>1070</td><td>976</td></tr>",
                            "<tr><td>Miles Davis</td><td>907</td><td>773</td></tr>",
                            "<tr><td>Gene Krupa</td><td>348</td><td>185</td></tr>",
                            "<tr><td>Toquinho &amp; Vinícius</td><td>409</td><td>272</td></tr>",
                            "<tr><td>Vinícius De Moraes</td><td>421</td><td>366</td></tr>",
                            "<tr><td>Creedence Clearwater Revival</td><td>664</td><td>535</td></tr>",
                            "<tr><td>Cássia Eller</td><td>316</td><td>165</td></tr>",
                            "<tr><td>Def Leppard</td><td>355</td><td>141</td></tr>",
                            "<tr><td>Dennis Chambers</td><td>659</td><td>387</td></tr>",
                            "<tr><td>Djavan</td><td>347</td><td>136</td></tr>",
                            "<tr><td>Eric Clapton</td><td>472</td><td>309</td></tr>",
                            "<tr><td>Faith No More</td><td>493</td><td>374</td></tr>",
                            "<tr><td>Falamansa</td><td>355</td><td>322</td></tr>",
                            "<tr><td>Foo Fighters</td><td>469</td><td>386</td></tr>",
                            "<tr><td>Frank Sinatra</td><td>292</td><td>203</td></tr>",
                            "<tr><td>Funk Como Le Gusta</td><td>526</td><td>452</td></tr>",
                            "<tr><td>Godsmack</td><td>274</td><td>185</td></tr>",
                            "<tr><td>Guns N&#39; Roses</td><td>616</td><td>532</td></tr>",
                            "<tr><td>Incognito</td><td>528</td><td>286</td></tr>",
                            "<tr><td>Iron Maiden</td><td>816</td><td>768</td></tr>",
                            "<tr><td>James Brown</td><td>334</td><td>207</td></tr>",
                            "<tr><td>Jamiroquai</td><td>616</td><td>459</td></tr>",
                            "<tr><td>JET</td><td>282</td><td>170</td></tr>",
                            "<tr><td>Jimi Hendrix</td><td>404</td><td>251</td></tr>",
                            "<tr><td>Joe Satriani</td><td>337</td><td>235</td></tr>",
                            "<tr><td>Jota Quest</td><td>315</td><td>187</td></tr>",
                            "<tr><td>João Suplicy</td><td>284</td><td>166</td></tr>",
                            "<tr><td>Judas Priest</td><td>430</td><td>389</td></tr>",
                            "<tr><td>Legião Urbana</td><td>543</td><td>402</td></tr>",
                            "<tr><td>Lenny Kravitz</td><td>398</td><td>208</td></tr>",
                            "<tr><td>Lulu Santos</td><td>346</td><td>200</td></tr>",
                            "<tr><td>Marillion</td><td>569</td><td>457</td></tr>",
                            "<tr><td>Marisa Monte</td><td>291</td><td>246</td></tr>",
                            "<tr><td>Marvin Gaye</td><td>314</td><td>178</td></tr>",
                            "<tr><td>Men At Work</td><td>408</td><td>210</td></tr>",
                            "<tr><td>Motörhead</td><td>258</td><td>160</td></tr>",
                            "<tr><td>Mônica Marianno</td><td>274</td><td>235</td></tr>",
                            "<tr><td>Mötley Crüe</td><td>340</td><td>140</td></tr>",
                            "<tr><td>Nirvana</td><td>301</td><td>249</td></tr>",
                            "<tr><td>O Terço</td><td>330</td><td>234</td></tr>",
                            "<tr><td>Olodum</td><td>252</td><td>106</td></tr>",
                            "<tr><td>Os Paralamas Do Sucesso</td><td>337</td><td>189</td></tr>",
                            "<tr><td>Ozzy Osbourne</td><td>552</td><td>380</td></tr>",
                            "<tr><td>Page &amp; Plant</td><td>405</td><td>175</td></tr>",
                            "<tr><td>Passengers</td><td>383</td><td>263</td></tr>",
                            "<tr><td>Paul D&#39;Ianno</td><td>418</td><td>248</td></tr>",
                            "<tr><td>Pearl Jam</td><td>546</td><td>493</td></tr>",
                            "<tr><td>Pink Floyd</td><td>461</td><td>336</td></tr>",
                            "<tr><td>Planet Hemp</td><td>410</td><td>381</td></tr>",
                            "<tr><td>R.E.M. Feat. Kate Pearson</td><td>296</td><td>97</td></tr>",
                            "<tr><td>R.E.M.</td><td>437</td><td>283</td></tr>",
                            "<tr><td>Raimundos</td><td>293</td><td>172</td></tr>",
                            "<tr><td>Raul Seixas</td><td>268</td><td>134</td></tr>",
                            "<tr><td>Red Hot Chili Peppers</td><td>496</td><td>425</td></tr>",
                            "<tr><td>Rush</td><td>667</td><td>534</td></tr>",
                            "<tr><td>Skank</td><td>318</td><td>317</td></tr>",
                            "<tr><td>Smashing Pumpkins</td><td>473</td><td>312</td></tr>",
                            "<tr><td>Soundgarden</td><td>362</td><td>174</td></tr>",
                            "<tr><td>Stevie Ray Vaughan &amp; Double Trouble</td><td>528</td><td>388</td></tr>",
                            "<tr><td>Stone Temple Pilots</td><td>505</td><td>425</td></tr>",
                            "<tr><td>System Of A Down</td><td>320</td><td>257</td></tr>",
                            "<tr><td>Terry Bozzio, Tony Levin &amp; Steve Stevens</td><td>880</td><td>433</td></tr>",
                            "<tr><td>The Black Crowes</td><td>505</td><td>299</td></tr>",
                            "<tr><td>The Clash</td><td>324</td><td>206</td></tr>",
                            "<tr><td>The Cult</td><td>368</td><td>203</td></tr>",
                            "<tr><td>The Doors</td><td>701</td><td>564</td></tr>",
                            "<tr><td>The Police</td><td>315</td><td>134</td></tr>",
                            "<tr><td>The Rolling Stones</td><td>479</td><td>430</td></tr>",
                            "<tr><td>The Tea Party</td><td>396</td><td>227</td></tr>",
                            "<tr><td>The Who</td><td>513</td><td>388</td></tr>",
                            "<tr><td>Tim Maia</td><td>262</td><td>172</td></tr>",
                            "<tr><td>Titãs</td><td>322</td><td>288</td></tr>",
                            "<tr><td>Battlestar Galactica</td><td>5286</td><td>2723</td></tr>",
                            "<tr><td>Heroes</td><td>2687</td><td>154</td></tr>",
                            "<tr><td>Lost</td><td>5088</td><td>4976</td></tr>",
                            "<tr><td>U2</td><td>591</td><td>553</td></tr>",
                            "<tr><td>UB40</td><td>341</td><td>145</td></tr>",
                            "<tr><td>Van Halen</td><td>514</td><td>472</td></tr>",
                            "<tr><td>Velvet Revolver</td><td>348</td><td>127</td></tr>",
                            "<tr><td>Zeca Pagodinho</td><td>332</td><td>225</td></tr>",
                            "<tr><td>The Office</td><td>2541</td><td>1304</td></tr>",
                            "<tr><td>Dread Zeppelin</td><td>310</td><td>0</td></tr>",
                            "<tr><td>Battlestar Galactica (Classic)</td><td>2960</td><td>97</td></tr>",
                            "<tr><td>Aquaman</td><td>2484</td><td>0</td></tr>",
                            "<tr><td>Scorpions</td><td>390</td><td>185</td></tr>",
                            "<tr><td>House Of Pain</td><td>239</td><td>232</td></tr>",
                            "<tr><td>Cake</td><td>234</td><td>0</td></tr>",
                            "<tr><td>Aisha Duo</td><td>307</td><td>61</td></tr>",
                            "<tr><td>Habib Koité and Bamada</td><td>300</td><td>15</td></tr>",
                            "<tr><td>Karsh Kale</td><td>366</td><td>39</td></tr>",
                            "<tr><td>The Posies</td><td>212</td><td>13</td></tr>",
                            "<tr><td>Luciana Souza/Romero Lubambo</td><td>172</td><td>0</td></tr>",
                            "<tr><td>Aaron Goldberg</td><td>266</td><td>0</td></tr>",
                            "<tr><td>Nicolaus Esterhazy Sinfonia</td><td>356</td><td>0</td></tr>",
                            "<tr><td>Temple of the Dog</td><td>672</td><td>447</td></tr>",
                            "<tr><td>Chris Cornell</td><td>281</td><td>77</td></tr>",
                            "<tr><td>Alberto Turco &amp; Nova Schola Gregoriana</td><td>245</td><td>0</td></tr>",
                            "<tr><td>Richard Marlow &amp; The Choir of Trinity College, Cambridge</td><td>501</td><td>0</td></tr>",
                            "<tr><td>English Concert &amp; Trevor Pinnock</td><td>271</td><td>151</td></tr>",
                            "<tr><td>Anne-Sophie Mutter, Herbert Von Karajan &amp; Wiener Philharmoniker</td><td>199</td><td>0</td></tr>",
                            "<tr><td>Hilary Hahn, Jeffrey Kahane, Los Angeles Chamber Orchestra &amp; Margaret Batjer</td><td>193</td><td>0</td></tr>",
                            "<tr><td>Wilhelm Kempff</td><td>120</td><td>0</td></tr>",
                            "<tr><td>Yo-Yo Ma</td><td>143</td><td>0</td></tr>",
                            "<tr><td>Scholars Baroque Ensemble</td><td>582</td><td>0</td></tr>",
                            "<tr><td>Academy of St. Martin in the Fields &amp; Sir Neville Marriner</td><td>268</td><td>71</td></tr>",
                            "<tr><td>Academy of St. Martin in the Fields Chamber Ensemble &amp; Sir Neville Marriner</td><td>348</td><td>0</td></tr>",
                            "<tr><td>Berliner Philharmoniker, Claudio Abbado &amp; Sabine Meyer</td><td>394</td><td>0</td></tr>",
                            "<tr><td>Royal Philharmonic Orchestra &amp; Sir Thomas Beecham</td><td>306</td><td>0</td></tr>",
                            "<tr><td>Orchestre Révolutionnaire et Romantique &amp; John Eliot Gardiner</td><td>392</td><td>0</td></tr>",
                            "<tr><td>Britten Sinfonia, Ivor Bolton &amp; Lesley Garrett</td><td>338</td><td>0</td></tr>",
                            "<tr><td>Chicago Symphony Chorus, Chicago Symphony Orchestra &amp; Sir Georg Solti</td><td>274</td><td>0</td></tr>",
                            "<tr><td>Sir Georg Solti &amp; Wiener Philharmoniker</td><td>189</td><td>0</td></tr>",
                            "<tr><td>Academy of St. Martin in the Fields, John Birch, Sir Neville Marriner &amp; Sylvia McNair</td><td>258</td><td>0</td></tr>",
                            "<tr><td>London Symphony Orchestra &amp; Sir Charles Mackerras</td><td>304</td><td>0</td></tr>",
                            "<tr><td>Barry Wordsworth &amp; BBC Concert Orchestra</td><td>250</td><td>0</td></tr>",
                            "<tr><td>Herbert Von Karajan, Mirella Freni &amp; Wiener Philharmoniker</td><td>277</td><td>0</td></tr>",
                            "<tr><td>Eugene Ormandy</td><td>526</td><td>240</td></tr>",
                            "<tr><td>Luciano Pavarotti</td><td>176</td><td>0</td></tr>",
                            "<tr><td>Leonard Bernstein &amp; New York Philharmonic</td><td>596</td><td>0</td></tr>",
                            "<tr><td>Boston Symphony Orchestra &amp; Seiji Ozawa</td><td>156</td><td>0</td></tr>",
                            "<tr><td>Aaron Copland &amp; London Symphony Orchestra</td><td>198</td><td>0</td></tr>",
                            "<tr><td>Ton Koopman</td><td>153</td><td>0</td></tr>",
                            "<tr><td>Sergei Prokofiev &amp; Yuri Temirkanov</td><td>254</td><td>0</td></tr>",
                            "<tr><td>Chicago Symphony Orchestra &amp; Fritz Reiner</td><td>545</td><td>0</td></tr>",
                            "<tr><td>Orchestra of The Age of Enlightenment</td><td>307</td><td>0</td></tr>",
                            "<tr><td>Emanuel Ax, Eugene Ormandy &amp; Philadelphia Orchestra</td><td>560</td><td>0</td></tr>",
                            "<tr><td>James Levine</td><td>243</td><td>0</td></tr>",
                            "<tr><td>Berliner Philharmoniker &amp; Hans Rosbaud</td><td>406</td><td>0</td></tr>",
                            "<tr><td>Maurizio Pollini</td><td>391</td><td>0</td></tr>",
                            "<tr><td>Gustav Mahler</td><td>223</td><td>0</td></tr>",
                            "<tr><td>Felix Schmidt, London Symphony Orchestra &amp; Rafael Frühbeck de Burgos</td><td>483</td><td>0</td></tr>",
                            "<tr><td>Edo de Waart &amp; San Francisco Symphony</td><td>254</td><td>0</td></tr>",
                            "<tr><td>Antal Doráti &amp; London Symphony Orchestra</td><td>412</td><td>0</td></tr>",
                            "<tr><td>Choir Of Westminster Abbey &amp; Simon Preston</td><td>240</td><td>0</td></tr>",
                            "<tr><td>Michael Tilson Thomas &amp; San Francisco Symphony</td><td>561</td><td>286</td></tr>",
                            "<tr><td>Chor der Wiener Staatsoper, Herbert Von Karajan &amp; Wiener Philharmoniker</td><td>132</td><td>0</td></tr>",
                            "<tr><td>The King&#39;s Singers</td><td>133</td><td>64</td></tr>",
                            "<tr><td>Berliner Philharmoniker &amp; Herbert Von Karajan</td><td>362</td><td>128</td></tr>",
                            "<tr><td>Sir Georg Solti, Sumi Jo &amp; Wiener Philharmoniker</td><td>174</td><td>0</td></tr>",
                            "<tr><td>Christopher O&#39;Riley</td><td>101</td><td>0</td></tr>",
                            "<tr><td>Fretwork</td><td>253</td><td>0</td></tr>",
                            "<tr><td>Amy Winehouse</td><td>663</td><td>534</td></tr>",
                            "<tr><td>Calexico</td><td>215</td><td>0</td></tr>",
                            "<tr><td>Otto Klemperer &amp; Philharmonia Orchestra</td><td>339</td><td>0</td></tr>",
                            "<tr><td>Yehudi Menuhin</td><td>299</td><td>0</td></tr>",
                            "<tr><td>Philharmonia Orchestra &amp; Sir Neville Marriner</td><td>387</td><td>0</td></tr>",
                            "<tr><td>Academy of St. Martin in the Fields, Sir Neville Marriner &amp; Thurston Dart</td><td>225</td><td>0</td></tr>",
                            "<tr><td>Les Arts Florissants &amp; William Christie</td><td>110</td><td>0</td></tr>",
                            "<tr><td>The 12 Cellists of The Berlin Philharmonic</td><td>289</td><td>0</td></tr>",
                            "<tr><td>Adrian Leaper &amp; Doreen de Feis</td><td>567</td><td>0</td></tr>",
                            "<tr><td>Roger Norrington, London Classical Players</td><td>364</td><td>0</td></tr>",
                            "<tr><td>Charles Dutoit &amp; L&#39;Orchestre Symphonique de Montréal</td><td>385</td><td>0</td></tr>",
                            "<tr><td>Equale Brass Ensemble, John Eliot Gardiner &amp; Munich Monteverdi Orchestra and Choir</td><td>142</td><td>0</td></tr>",
                            "<tr><td>Kent Nagano and Orchestre de l&#39;Opéra de Lyon</td><td>376</td><td>0</td></tr>",
                            "<tr><td>Julian Bream</td><td>285</td><td>0</td></tr>",
                            "<tr><td>Martin Roscoe</td><td>333</td><td>0</td></tr>",
                            "<tr><td>Göteborgs Symfoniker &amp; Neeme Järvi</td><td>286</td><td>0</td></tr>",
                            "<tr><td>Itzhak Perlman</td><td>265</td><td>0</td></tr>",
                            "<tr><td>Michele Campanella</td><td>51</td><td>0</td></tr>",
                            "<tr><td>Gerald Moore</td><td>261</td><td>0</td></tr>",
                            "<tr><td>Mela Tenenbaum, Pro Musica Prague &amp; Richard Kapp</td><td>493</td><td>0</td></tr>",
                            "<tr><td>Emerson String Quartet</td><td>139</td><td>0</td></tr>",
                            "<tr><td>C. Monteverdi, Nigel Rogers - Chiaroscuro; London Baroque; London Cornett &amp; Sackbu</td><td>66</td><td>0</td></tr>",
                            "<tr><td>Nash Ensemble</td><td>221</td><td>0</td></tr>",
                            "<tr><td>Philip Glass Ensemble</td><td>206</td><td>0</td></tr>",
                            "</table>"
                        ]
                    }
                }
            ],
            "execution_count": 5
        },
        {
            "cell_type": "code",
            "source": [
                "-- Cuánto gastó cada cliente en cada género\r\n",
                "SELECT c.FirstName, c.LastName, g.Name as 'Genre', SUM(il.UnitPrice*il.Quantity) as 'Gastado'\r\n",
                "FROM Customer c\r\n",
                "INNER JOIN Invoice i ON i.CustomerId = c.CustomerId\r\n",
                "INNER JOIN InvoiceLine il ON il.InvoiceId = i.InvoiceId\r\n",
                "INNER JOIN Track t ON t.TrackId = il.TrackId\r\n",
                "INNER JOIN Genre g ON g.GenreId = t.GenreId\r\n",
                "GROUP BY c.CustomerId, c.FirstName, c.LastName, g.GenreId, g.Name\r\n",
                "ORDER BY c.CustomerId"
            ],
            "metadata": {
                "language": "sql",
                "azdata_cell_guid": "314a4067-846d-4d03-a18b-26546bf1d66a"
            },
            "outputs": [
                {
                    "output_type": "display_data",
                    "data": {
                        "text/html": "(440 rows affected)"
                    },
                    "metadata": {}
                },
                {
                    "output_type": "display_data",
                    "data": {
                        "text/html": "Total execution time: 00:00:00.023"
                    },
                    "metadata": {}
                },
                {
                    "output_type": "execute_result",
                    "metadata": {},
                    "execution_count": 6,
                    "data": {
                        "application/vnd.dataresource+json": {
                            "schema": {
                                "fields": [
                                    {
                                        "name": "FirstName"
                                    },
                                    {
                                        "name": "LastName"
                                    },
                                    {
                                        "name": "Genre"
                                    },
                                    {
                                        "name": "Gastado"
                                    }
                                ]
                            },
                            "data": [
                                {
                                    "FirstName": "Luís",
                                    "LastName": "Gonçalves",
                                    "Genre": "Rock",
                                    "Gastado": "13.86"
                                },
                                {
                                    "FirstName": "Luís",
                                    "LastName": "Gonçalves",
                                    "Genre": "Metal",
                                    "Gastado": "1.98"
                                },
                                {
                                    "FirstName": "Luís",
                                    "LastName": "Gonçalves",
                                    "Genre": "Latin",
                                    "Gastado": "10.89"
                                },
                                {
                                    "FirstName": "Luís",
                                    "LastName": "Gonçalves",
                                    "Genre": "Reggae",
                                    "Gastado": "2.97"
                                },
                                {
                                    "FirstName": "Luís",
                                    "LastName": "Gonçalves",
                                    "Genre": "Pop",
                                    "Gastado": "1.98"
                                },
                                {
                                    "FirstName": "Luís",
                                    "LastName": "Gonçalves",
                                    "Genre": "Soundtrack",
                                    "Gastado": "1.98"
                                },
                                {
                                    "FirstName": "Luís",
                                    "LastName": "Gonçalves",
                                    "Genre": "Sci Fi & Fantasy",
                                    "Gastado": "3.98"
                                },
                                {
                                    "FirstName": "Luís",
                                    "LastName": "Gonçalves",
                                    "Genre": "Classical",
                                    "Gastado": "1.98"
                                },
                                {
                                    "FirstName": "Leonie",
                                    "LastName": "Köhler",
                                    "Genre": "Rock",
                                    "Gastado": "16.83"
                                },
                                {
                                    "FirstName": "Leonie",
                                    "LastName": "Köhler",
                                    "Genre": "Metal",
                                    "Gastado": "1.98"
                                },
                                {
                                    "FirstName": "Leonie",
                                    "LastName": "Köhler",
                                    "Genre": "Alternative & Punk",
                                    "Gastado": "1.98"
                                },
                                {
                                    "FirstName": "Leonie",
                                    "LastName": "Köhler",
                                    "Genre": "Blues",
                                    "Gastado": "8.91"
                                },
                                {
                                    "FirstName": "Leonie",
                                    "LastName": "Köhler",
                                    "Genre": "Latin",
                                    "Gastado": "3.96"
                                },
                                {
                                    "FirstName": "Leonie",
                                    "LastName": "Köhler",
                                    "Genre": "Pop",
                                    "Gastado": "0.99"
                                },
                                {
                                    "FirstName": "Leonie",
                                    "LastName": "Köhler",
                                    "Genre": "Soundtrack",
                                    "Gastado": "2.97"
                                },
                                {
                                    "FirstName": "François",
                                    "LastName": "Tremblay",
                                    "Genre": "Rock",
                                    "Gastado": "3.96"
                                },
                                {
                                    "FirstName": "François",
                                    "LastName": "Tremblay",
                                    "Genre": "Jazz",
                                    "Gastado": "4.95"
                                },
                                {
                                    "FirstName": "François",
                                    "LastName": "Tremblay",
                                    "Genre": "Metal",
                                    "Gastado": "9.90"
                                },
                                {
                                    "FirstName": "François",
                                    "LastName": "Tremblay",
                                    "Genre": "Alternative & Punk",
                                    "Gastado": "3.96"
                                },
                                {
                                    "FirstName": "François",
                                    "LastName": "Tremblay",
                                    "Genre": "Rock And Roll",
                                    "Gastado": "1.98"
                                },
                                {
                                    "FirstName": "François",
                                    "LastName": "Tremblay",
                                    "Genre": "Latin",
                                    "Gastado": "2.97"
                                },
                                {
                                    "FirstName": "François",
                                    "LastName": "Tremblay",
                                    "Genre": "Bossa Nova",
                                    "Gastado": "3.96"
                                },
                                {
                                    "FirstName": "François",
                                    "LastName": "Tremblay",
                                    "Genre": "TV Shows",
                                    "Gastado": "1.99"
                                },
                                {
                                    "FirstName": "François",
                                    "LastName": "Tremblay",
                                    "Genre": "Drama",
                                    "Gastado": "1.99"
                                },
                                {
                                    "FirstName": "François",
                                    "LastName": "Tremblay",
                                    "Genre": "Classical",
                                    "Gastado": "3.96"
                                },
                                {
                                    "FirstName": "Bjørn",
                                    "LastName": "Hansen",
                                    "Genre": "Rock",
                                    "Gastado": "16.83"
                                },
                                {
                                    "FirstName": "Bjørn",
                                    "LastName": "Hansen",
                                    "Genre": "Alternative & Punk",
                                    "Gastado": "1.98"
                                },
                                {
                                    "FirstName": "Bjørn",
                                    "LastName": "Hansen",
                                    "Genre": "Latin",
                                    "Gastado": "4.95"
                                },
                                {
                                    "FirstName": "Bjørn",
                                    "LastName": "Hansen",
                                    "Genre": "Electronica/Dance",
                                    "Gastado": "1.98"
                                },
                                {
                                    "FirstName": "Bjørn",
                                    "LastName": "Hansen",
                                    "Genre": "World",
                                    "Gastado": "0.99"
                                },
                                {
                                    "FirstName": "Bjørn",
                                    "LastName": "Hansen",
                                    "Genre": "Drama",
                                    "Gastado": "3.98"
                                },
                                {
                                    "FirstName": "Bjørn",
                                    "LastName": "Hansen",
                                    "Genre": "Alternative",
                                    "Gastado": "3.96"
                                },
                                {
                                    "FirstName": "Bjørn",
                                    "LastName": "Hansen",
                                    "Genre": "Classical",
                                    "Gastado": "4.95"
                                },
                                {
                                    "FirstName": "František",
                                    "LastName": "Wichterlová",
                                    "Genre": "Rock",
                                    "Gastado": "14.85"
                                },
                                {
                                    "FirstName": "František",
                                    "LastName": "Wichterlová",
                                    "Genre": "Jazz",
                                    "Gastado": "2.97"
                                },
                                {
                                    "FirstName": "František",
                                    "LastName": "Wichterlová",
                                    "Genre": "Metal",
                                    "Gastado": "5.94"
                                },
                                {
                                    "FirstName": "František",
                                    "LastName": "Wichterlová",
                                    "Genre": "Alternative & Punk",
                                    "Gastado": "3.96"
                                },
                                {
                                    "FirstName": "František",
                                    "LastName": "Wichterlová",
                                    "Genre": "Latin",
                                    "Gastado": "2.97"
                                },
                                {
                                    "FirstName": "František",
                                    "LastName": "Wichterlová",
                                    "Genre": "Pop",
                                    "Gastado": "3.96"
                                },
                                {
                                    "FirstName": "František",
                                    "LastName": "Wichterlová",
                                    "Genre": "TV Shows",
                                    "Gastado": "3.98"
                                },
                                {
                                    "FirstName": "František",
                                    "LastName": "Wichterlová",
                                    "Genre": "Drama",
                                    "Gastado": "1.99"
                                },
                                {
                                    "FirstName": "Helena",
                                    "LastName": "Holý",
                                    "Genre": "Rock",
                                    "Gastado": "9.90"
                                },
                                {
                                    "FirstName": "Helena",
                                    "LastName": "Holý",
                                    "Genre": "Alternative & Punk",
                                    "Gastado": "4.95"
                                },
                                {
                                    "FirstName": "Helena",
                                    "LastName": "Holý",
                                    "Genre": "Blues",
                                    "Gastado": "0.99"
                                },
                                {
                                    "FirstName": "Helena",
                                    "LastName": "Holý",
                                    "Genre": "Latin",
                                    "Gastado": "5.94"
                                },
                                {
                                    "FirstName": "Helena",
                                    "LastName": "Holý",
                                    "Genre": "R&B/Soul",
                                    "Gastado": "1.98"
                                },
                                {
                                    "FirstName": "Helena",
                                    "LastName": "Holý",
                                    "Genre": "Electronica/Dance",
                                    "Gastado": "1.98"
                                },
                                {
                                    "FirstName": "Helena",
                                    "LastName": "Holý",
                                    "Genre": "Science Fiction",
                                    "Gastado": "1.99"
                                },
                                {
                                    "FirstName": "Helena",
                                    "LastName": "Holý",
                                    "Genre": "TV Shows",
                                    "Gastado": "11.94"
                                },
                                {
                                    "FirstName": "Helena",
                                    "LastName": "Holý",
                                    "Genre": "Drama",
                                    "Gastado": "9.95"
                                },
                                {
                                    "FirstName": "Astrid",
                                    "LastName": "Gruber",
                                    "Genre": "Rock",
                                    "Gastado": "14.85"
                                },
                                {
                                    "FirstName": "Astrid",
                                    "LastName": "Gruber",
                                    "Genre": "Jazz",
                                    "Gastado": "1.98"
                                },
                                {
                                    "FirstName": "Astrid",
                                    "LastName": "Gruber",
                                    "Genre": "Metal",
                                    "Gastado": "6.93"
                                },
                                {
                                    "FirstName": "Astrid",
                                    "LastName": "Gruber",
                                    "Genre": "Latin",
                                    "Gastado": "1.98"
                                },
                                {
                                    "FirstName": "Astrid",
                                    "LastName": "Gruber",
                                    "Genre": "Pop",
                                    "Gastado": "0.99"
                                },
                                {
                                    "FirstName": "Astrid",
                                    "LastName": "Gruber",
                                    "Genre": "R&B/Soul",
                                    "Gastado": "3.96"
                                },
                                {
                                    "FirstName": "Astrid",
                                    "LastName": "Gruber",
                                    "Genre": "TV Shows",
                                    "Gastado": "7.96"
                                },
                                {
                                    "FirstName": "Astrid",
                                    "LastName": "Gruber",
                                    "Genre": "Drama",
                                    "Gastado": "1.99"
                                },
                                {
                                    "FirstName": "Astrid",
                                    "LastName": "Gruber",
                                    "Genre": "Classical",
                                    "Gastado": "1.98"
                                },
                                {
                                    "FirstName": "Daan",
                                    "LastName": "Peeters",
                                    "Genre": "Rock",
                                    "Gastado": "20.79"
                                },
                                {
                                    "FirstName": "Daan",
                                    "LastName": "Peeters",
                                    "Genre": "Metal",
                                    "Gastado": "0.99"
                                },
                                {
                                    "FirstName": "Daan",
                                    "LastName": "Peeters",
                                    "Genre": "Alternative & Punk",
                                    "Gastado": "13.86"
                                },
                                {
                                    "FirstName": "Daan",
                                    "LastName": "Peeters",
                                    "Genre": "R&B/Soul",
                                    "Gastado": "1.98"
                                },
                                {
                                    "FirstName": "Kara",
                                    "LastName": "Nielsen",
                                    "Genre": "Rock",
                                    "Gastado": "20.79"
                                },
                                {
                                    "FirstName": "Kara",
                                    "LastName": "Nielsen",
                                    "Genre": "Metal",
                                    "Gastado": "5.94"
                                },
                                {
                                    "FirstName": "Kara",
                                    "LastName": "Nielsen",
                                    "Genre": "Alternative & Punk",
                                    "Gastado": "3.96"
                                },
                                {
                                    "FirstName": "Kara",
                                    "LastName": "Nielsen",
                                    "Genre": "Latin",
                                    "Gastado": "3.96"
                                },
                                {
                                    "FirstName": "Kara",
                                    "LastName": "Nielsen",
                                    "Genre": "Pop",
                                    "Gastado": "2.97"
                                },
                                {
                                    "FirstName": "Eduardo",
                                    "LastName": "Martins",
                                    "Genre": "Rock",
                                    "Gastado": "28.71"
                                },
                                {
                                    "FirstName": "Eduardo",
                                    "LastName": "Martins",
                                    "Genre": "Metal",
                                    "Gastado": "0.99"
                                },
                                {
                                    "FirstName": "Eduardo",
                                    "LastName": "Martins",
                                    "Genre": "Alternative & Punk",
                                    "Gastado": "0.99"
                                },
                                {
                                    "FirstName": "Eduardo",
                                    "LastName": "Martins",
                                    "Genre": "Latin",
                                    "Gastado": "1.98"
                                },
                                {
                                    "FirstName": "Eduardo",
                                    "LastName": "Martins",
                                    "Genre": "Reggae",
                                    "Gastado": "1.98"
                                },
                                {
                                    "FirstName": "Eduardo",
                                    "LastName": "Martins",
                                    "Genre": "Soundtrack",
                                    "Gastado": "1.98"
                                },
                                {
                                    "FirstName": "Eduardo",
                                    "LastName": "Martins",
                                    "Genre": "R&B/Soul",
                                    "Gastado": "0.99"
                                },
                                {
                                    "FirstName": "Alexandre",
                                    "LastName": "Rocha",
                                    "Genre": "Rock",
                                    "Gastado": "10.89"
                                },
                                {
                                    "FirstName": "Alexandre",
                                    "LastName": "Rocha",
                                    "Genre": "Metal",
                                    "Gastado": "3.96"
                                },
                                {
                                    "FirstName": "Alexandre",
                                    "LastName": "Rocha",
                                    "Genre": "Alternative & Punk",
                                    "Gastado": "3.96"
                                },
                                {
                                    "FirstName": "Alexandre",
                                    "LastName": "Rocha",
                                    "Genre": "Latin",
                                    "Gastado": "15.84"
                                },
                                {
                                    "FirstName": "Alexandre",
                                    "LastName": "Rocha",
                                    "Genre": "Reggae",
                                    "Gastado": "0.99"
                                },
                                {
                                    "FirstName": "Alexandre",
                                    "LastName": "Rocha",
                                    "Genre": "Hip Hop/Rap",
                                    "Gastado": "1.98"
                                },
                                {
                                    "FirstName": "Roberto",
                                    "LastName": "Almeida",
                                    "Genre": "Rock",
                                    "Gastado": "15.84"
                                },
                                {
                                    "FirstName": "Roberto",
                                    "LastName": "Almeida",
                                    "Genre": "Metal",
                                    "Gastado": "1.98"
                                },
                                {
                                    "FirstName": "Roberto",
                                    "LastName": "Almeida",
                                    "Genre": "Alternative & Punk",
                                    "Gastado": "1.98"
                                },
                                {
                                    "FirstName": "Roberto",
                                    "LastName": "Almeida",
                                    "Genre": "Latin",
                                    "Gastado": "15.84"
                                },
                                {
                                    "FirstName": "Roberto",
                                    "LastName": "Almeida",
                                    "Genre": "World",
                                    "Gastado": "1.98"
                                },
                                {
                                    "FirstName": "Fernanda",
                                    "LastName": "Ramos",
                                    "Genre": "Rock",
                                    "Gastado": "10.89"
                                },
                                {
                                    "FirstName": "Fernanda",
                                    "LastName": "Ramos",
                                    "Genre": "Metal",
                                    "Gastado": "5.94"
                                },
                                {
                                    "FirstName": "Fernanda",
                                    "LastName": "Ramos",
                                    "Genre": "Blues",
                                    "Gastado": "5.94"
                                },
                                {
                                    "FirstName": "Fernanda",
                                    "LastName": "Ramos",
                                    "Genre": "Latin",
                                    "Gastado": "7.92"
                                },
                                {
                                    "FirstName": "Fernanda",
                                    "LastName": "Ramos",
                                    "Genre": "Pop",
                                    "Gastado": "0.99"
                                },
                                {
                                    "FirstName": "Fernanda",
                                    "LastName": "Ramos",
                                    "Genre": "R&B/Soul",
                                    "Gastado": "1.98"
                                },
                                {
                                    "FirstName": "Fernanda",
                                    "LastName": "Ramos",
                                    "Genre": "Classical",
                                    "Gastado": "3.96"
                                },
                                {
                                    "FirstName": "Mark",
                                    "LastName": "Philips",
                                    "Genre": "Rock",
                                    "Gastado": "12.87"
                                },
                                {
                                    "FirstName": "Mark",
                                    "LastName": "Philips",
                                    "Genre": "Jazz",
                                    "Gastado": "1.98"
                                },
                                {
                                    "FirstName": "Mark",
                                    "LastName": "Philips",
                                    "Genre": "Metal",
                                    "Gastado": "1.98"
                                },
                                {
                                    "FirstName": "Mark",
                                    "LastName": "Philips",
                                    "Genre": "Alternative & Punk",
                                    "Gastado": "7.92"
                                },
                                {
                                    "FirstName": "Mark",
                                    "LastName": "Philips",
                                    "Genre": "Blues",
                                    "Gastado": "1.98"
                                },
                                {
                                    "FirstName": "Mark",
                                    "LastName": "Philips",
                                    "Genre": "Latin",
                                    "Gastado": "4.95"
                                },
                                {
                                    "FirstName": "Mark",
                                    "LastName": "Philips",
                                    "Genre": "Bossa Nova",
                                    "Gastado": "0.99"
                                },
                                {
                                    "FirstName": "Mark",
                                    "LastName": "Philips",
                                    "Genre": "R&B/Soul",
                                    "Gastado": "2.97"
                                },
                                {
                                    "FirstName": "Mark",
                                    "LastName": "Philips",
                                    "Genre": "Electronica/Dance",
                                    "Gastado": "0.99"
                                },
                                {
                                    "FirstName": "Mark",
                                    "LastName": "Philips",
                                    "Genre": "World",
                                    "Gastado": "0.99"
                                },
                                {
                                    "FirstName": "Jennifer",
                                    "LastName": "Peterson",
                                    "Genre": "Rock",
                                    "Gastado": "11.88"
                                },
                                {
                                    "FirstName": "Jennifer",
                                    "LastName": "Peterson",
                                    "Genre": "Metal",
                                    "Gastado": "4.95"
                                },
                                {
                                    "FirstName": "Jennifer",
                                    "LastName": "Peterson",
                                    "Genre": "Latin",
                                    "Gastado": "9.90"
                                },
                                {
                                    "FirstName": "Jennifer",
                                    "LastName": "Peterson",
                                    "Genre": "Bossa Nova",
                                    "Gastado": "1.98"
                                },
                                {
                                    "FirstName": "Jennifer",
                                    "LastName": "Peterson",
                                    "Genre": "Electronica/Dance",
                                    "Gastado": "2.97"
                                },
                                {
                                    "FirstName": "Jennifer",
                                    "LastName": "Peterson",
                                    "Genre": "World",
                                    "Gastado": "1.98"
                                },
                                {
                                    "FirstName": "Jennifer",
                                    "LastName": "Peterson",
                                    "Genre": "Hip Hop/Rap",
                                    "Gastado": "2.97"
                                },
                                {
                                    "FirstName": "Jennifer",
                                    "LastName": "Peterson",
                                    "Genre": "Drama",
                                    "Gastado": "1.99"
                                },
                                {
                                    "FirstName": "Frank",
                                    "LastName": "Harris",
                                    "Genre": "Rock",
                                    "Gastado": "10.89"
                                },
                                {
                                    "FirstName": "Frank",
                                    "LastName": "Harris",
                                    "Genre": "Jazz",
                                    "Gastado": "1.98"
                                },
                                {
                                    "FirstName": "Frank",
                                    "LastName": "Harris",
                                    "Genre": "Metal",
                                    "Gastado": "11.88"
                                },
                                {
                                    "FirstName": "Frank",
                                    "LastName": "Harris",
                                    "Genre": "Blues",
                                    "Gastado": "2.97"
                                },
                                {
                                    "FirstName": "Frank",
                                    "LastName": "Harris",
                                    "Genre": "Latin",
                                    "Gastado": "4.95"
                                },
                                {
                                    "FirstName": "Frank",
                                    "LastName": "Harris",
                                    "Genre": "Reggae",
                                    "Gastado": "1.98"
                                },
                                {
                                    "FirstName": "Frank",
                                    "LastName": "Harris",
                                    "Genre": "Heavy Metal",
                                    "Gastado": "2.97"
                                },
                                {
                                    "FirstName": "Jack",
                                    "LastName": "Smith",
                                    "Genre": "Rock",
                                    "Gastado": "7.92"
                                },
                                {
                                    "FirstName": "Jack",
                                    "LastName": "Smith",
                                    "Genre": "Jazz",
                                    "Gastado": "1.98"
                                },
                                {
                                    "FirstName": "Jack",
                                    "LastName": "Smith",
                                    "Genre": "Metal",
                                    "Gastado": "5.94"
                                },
                                {
                                    "FirstName": "Jack",
                                    "LastName": "Smith",
                                    "Genre": "Alternative & Punk",
                                    "Gastado": "6.93"
                                },
                                {
                                    "FirstName": "Jack",
                                    "LastName": "Smith",
                                    "Genre": "Latin",
                                    "Gastado": "6.93"
                                },
                                {
                                    "FirstName": "Jack",
                                    "LastName": "Smith",
                                    "Genre": "Soundtrack",
                                    "Gastado": "0.99"
                                },
                                {
                                    "FirstName": "Jack",
                                    "LastName": "Smith",
                                    "Genre": "Bossa Nova",
                                    "Gastado": "1.98"
                                },
                                {
                                    "FirstName": "Jack",
                                    "LastName": "Smith",
                                    "Genre": "Easy Listening",
                                    "Gastado": "2.97"
                                },
                                {
                                    "FirstName": "Jack",
                                    "LastName": "Smith",
                                    "Genre": "Science Fiction",
                                    "Gastado": "1.99"
                                },
                                {
                                    "FirstName": "Jack",
                                    "LastName": "Smith",
                                    "Genre": "TV Shows",
                                    "Gastado": "1.99"
                                },
                                {
                                    "FirstName": "Michelle",
                                    "LastName": "Brooks",
                                    "Genre": "Rock",
                                    "Gastado": "18.81"
                                },
                                {
                                    "FirstName": "Michelle",
                                    "LastName": "Brooks",
                                    "Genre": "Jazz",
                                    "Gastado": "2.97"
                                },
                                {
                                    "FirstName": "Michelle",
                                    "LastName": "Brooks",
                                    "Genre": "Metal",
                                    "Gastado": "1.98"
                                },
                                {
                                    "FirstName": "Michelle",
                                    "LastName": "Brooks",
                                    "Genre": "Blues",
                                    "Gastado": "5.94"
                                },
                                {
                                    "FirstName": "Michelle",
                                    "LastName": "Brooks",
                                    "Genre": "Latin",
                                    "Gastado": "6.93"
                                },
                                {
                                    "FirstName": "Michelle",
                                    "LastName": "Brooks",
                                    "Genre": "R&B/Soul",
                                    "Gastado": "0.99"
                                },
                                {
                                    "FirstName": "Tim",
                                    "LastName": "Goyer",
                                    "Genre": "Rock",
                                    "Gastado": "14.85"
                                },
                                {
                                    "FirstName": "Tim",
                                    "LastName": "Goyer",
                                    "Genre": "Jazz",
                                    "Gastado": "1.98"
                                },
                                {
                                    "FirstName": "Tim",
                                    "LastName": "Goyer",
                                    "Genre": "Metal",
                                    "Gastado": "2.97"
                                },
                                {
                                    "FirstName": "Tim",
                                    "LastName": "Goyer",
                                    "Genre": "Alternative & Punk",
                                    "Gastado": "3.96"
                                },
                                {
                                    "FirstName": "Tim",
                                    "LastName": "Goyer",
                                    "Genre": "Blues",
                                    "Gastado": "2.97"
                                },
                                {
                                    "FirstName": "Tim",
                                    "LastName": "Goyer",
                                    "Genre": "Latin",
                                    "Gastado": "4.95"
                                },
                                {
                                    "FirstName": "Tim",
                                    "LastName": "Goyer",
                                    "Genre": "Bossa Nova",
                                    "Gastado": "2.97"
                                },
                                {
                                    "FirstName": "Tim",
                                    "LastName": "Goyer",
                                    "Genre": "R&B/Soul",
                                    "Gastado": "1.98"
                                },
                                {
                                    "FirstName": "Tim",
                                    "LastName": "Goyer",
                                    "Genre": "TV Shows",
                                    "Gastado": "1.99"
                                },
                                {
                                    "FirstName": "Dan",
                                    "LastName": "Miller",
                                    "Genre": "Rock",
                                    "Gastado": "9.90"
                                },
                                {
                                    "FirstName": "Dan",
                                    "LastName": "Miller",
                                    "Genre": "Jazz",
                                    "Gastado": "3.96"
                                },
                                {
                                    "FirstName": "Dan",
                                    "LastName": "Miller",
                                    "Genre": "Metal",
                                    "Gastado": "1.98"
                                },
                                {
                                    "FirstName": "Dan",
                                    "LastName": "Miller",
                                    "Genre": "Alternative & Punk",
                                    "Gastado": "3.96"
                                },
                                {
                                    "FirstName": "Dan",
                                    "LastName": "Miller",
                                    "Genre": "Latin",
                                    "Gastado": "13.86"
                                },
                                {
                                    "FirstName": "Dan",
                                    "LastName": "Miller",
                                    "Genre": "Bossa Nova",
                                    "Gastado": "1.98"
                                },
                                {
                                    "FirstName": "Dan",
                                    "LastName": "Miller",
                                    "Genre": "TV Shows",
                                    "Gastado": "3.98"
                                },
                                {
                                    "FirstName": "Kathy",
                                    "LastName": "Chase",
                                    "Genre": "Rock",
                                    "Gastado": "8.91"
                                },
                                {
                                    "FirstName": "Kathy",
                                    "LastName": "Chase",
                                    "Genre": "Jazz",
                                    "Gastado": "2.97"
                                },
                                {
                                    "FirstName": "Kathy",
                                    "LastName": "Chase",
                                    "Genre": "Metal",
                                    "Gastado": "4.95"
                                },
                                {
                                    "FirstName": "Kathy",
                                    "LastName": "Chase",
                                    "Genre": "Alternative & Punk",
                                    "Gastado": "3.96"
                                },
                                {
                                    "FirstName": "Kathy",
                                    "LastName": "Chase",
                                    "Genre": "Latin",
                                    "Gastado": "6.93"
                                },
                                {
                                    "FirstName": "Kathy",
                                    "LastName": "Chase",
                                    "Genre": "Reggae",
                                    "Gastado": "3.96"
                                },
                                {
                                    "FirstName": "Kathy",
                                    "LastName": "Chase",
                                    "Genre": "Pop",
                                    "Gastado": "0.99"
                                },
                                {
                                    "FirstName": "Kathy",
                                    "LastName": "Chase",
                                    "Genre": "Soundtrack",
                                    "Gastado": "2.97"
                                },
                                {
                                    "FirstName": "Kathy",
                                    "LastName": "Chase",
                                    "Genre": "R&B/Soul",
                                    "Gastado": "1.98"
                                },
                                {
                                    "FirstName": "Heather",
                                    "LastName": "Leacock",
                                    "Genre": "Rock",
                                    "Gastado": "6.93"
                                },
                                {
                                    "FirstName": "Heather",
                                    "LastName": "Leacock",
                                    "Genre": "Jazz",
                                    "Gastado": "2.97"
                                },
                                {
                                    "FirstName": "Heather",
                                    "LastName": "Leacock",
                                    "Genre": "Metal",
                                    "Gastado": "11.88"
                                },
                                {
                                    "FirstName": "Heather",
                                    "LastName": "Leacock",
                                    "Genre": "Alternative & Punk",
                                    "Gastado": "5.94"
                                },
                                {
                                    "FirstName": "Heather",
                                    "LastName": "Leacock",
                                    "Genre": "Rock And Roll",
                                    "Gastado": "1.98"
                                },
                                {
                                    "FirstName": "Heather",
                                    "LastName": "Leacock",
                                    "Genre": "Blues",
                                    "Gastado": "0.99"
                                },
                                {
                                    "FirstName": "Heather",
                                    "LastName": "Leacock",
                                    "Genre": "Latin",
                                    "Gastado": "4.95"
                                },
                                {
                                    "FirstName": "Heather",
                                    "LastName": "Leacock",
                                    "Genre": "TV Shows",
                                    "Gastado": "3.98"
                                },
                                {
                                    "FirstName": "John",
                                    "LastName": "Gordon",
                                    "Genre": "Rock",
                                    "Gastado": "4.95"
                                },
                                {
                                    "FirstName": "John",
                                    "LastName": "Gordon",
                                    "Genre": "Jazz",
                                    "Gastado": "2.97"
                                },
                                {
                                    "FirstName": "John",
                                    "LastName": "Gordon",
                                    "Genre": "Metal",
                                    "Gastado": "6.93"
                                },
                                {
                                    "FirstName": "John",
                                    "LastName": "Gordon",
                                    "Genre": "Alternative & Punk",
                                    "Gastado": "4.95"
                                },
                                {
                                    "FirstName": "John",
                                    "LastName": "Gordon",
                                    "Genre": "Rock And Roll",
                                    "Gastado": "0.99"
                                },
                                {
                                    "FirstName": "John",
                                    "LastName": "Gordon",
                                    "Genre": "Blues",
                                    "Gastado": "0.99"
                                },
                                {
                                    "FirstName": "John",
                                    "LastName": "Gordon",
                                    "Genre": "Latin",
                                    "Gastado": "11.88"
                                },
                                {
                                    "FirstName": "John",
                                    "LastName": "Gordon",
                                    "Genre": "Pop",
                                    "Gastado": "1.98"
                                },
                                {
                                    "FirstName": "John",
                                    "LastName": "Gordon",
                                    "Genre": "R&B/Soul",
                                    "Gastado": "1.98"
                                },
                                {
                                    "FirstName": "Frank",
                                    "LastName": "Ralston",
                                    "Genre": "Rock",
                                    "Gastado": "11.88"
                                },
                                {
                                    "FirstName": "Frank",
                                    "LastName": "Ralston",
                                    "Genre": "Metal",
                                    "Gastado": "1.98"
                                },
                                {
                                    "FirstName": "Frank",
                                    "LastName": "Ralston",
                                    "Genre": "Alternative & Punk",
                                    "Gastado": "0.99"
                                },
                                {
                                    "FirstName": "Frank",
                                    "LastName": "Ralston",
                                    "Genre": "Latin",
                                    "Gastado": "4.95"
                                },
                                {
                                    "FirstName": "Frank",
                                    "LastName": "Ralston",
                                    "Genre": "R&B/Soul",
                                    "Gastado": "1.98"
                                },
                                {
                                    "FirstName": "Frank",
                                    "LastName": "Ralston",
                                    "Genre": "Hip Hop/Rap",
                                    "Gastado": "0.99"
                                },
                                {
                                    "FirstName": "Frank",
                                    "LastName": "Ralston",
                                    "Genre": "TV Shows",
                                    "Gastado": "1.99"
                                },
                                {
                                    "FirstName": "Frank",
                                    "LastName": "Ralston",
                                    "Genre": "Comedy",
                                    "Gastado": "9.95"
                                },
                                {
                                    "FirstName": "Frank",
                                    "LastName": "Ralston",
                                    "Genre": "Alternative",
                                    "Gastado": "4.95"
                                },
                                {
                                    "FirstName": "Frank",
                                    "LastName": "Ralston",
                                    "Genre": "Classical",
                                    "Gastado": "3.96"
                                },
                                {
                                    "FirstName": "Victor",
                                    "LastName": "Stevens",
                                    "Genre": "Rock",
                                    "Gastado": "13.86"
                                },
                                {
                                    "FirstName": "Victor",
                                    "LastName": "Stevens",
                                    "Genre": "Metal",
                                    "Gastado": "2.97"
                                },
                                {
                                    "FirstName": "Victor",
                                    "LastName": "Stevens",
                                    "Genre": "Alternative & Punk",
                                    "Gastado": "3.96"
                                },
                                {
                                    "FirstName": "Victor",
                                    "LastName": "Stevens",
                                    "Genre": "Latin",
                                    "Gastado": "6.93"
                                },
                                {
                                    "FirstName": "Victor",
                                    "LastName": "Stevens",
                                    "Genre": "R&B/Soul",
                                    "Gastado": "2.97"
                                },
                                {
                                    "FirstName": "Victor",
                                    "LastName": "Stevens",
                                    "Genre": "Hip Hop/Rap",
                                    "Gastado": "1.98"
                                },
                                {
                                    "FirstName": "Victor",
                                    "LastName": "Stevens",
                                    "Genre": "TV Shows",
                                    "Gastado": "7.96"
                                },
                                {
                                    "FirstName": "Victor",
                                    "LastName": "Stevens",
                                    "Genre": "Comedy",
                                    "Gastado": "1.99"
                                },
                                {
                                    "FirstName": "Richard",
                                    "LastName": "Cunningham",
                                    "Genre": "Rock",
                                    "Gastado": "13.86"
                                },
                                {
                                    "FirstName": "Richard",
                                    "LastName": "Cunningham",
                                    "Genre": "Metal",
                                    "Gastado": "1.98"
                                },
                                {
                                    "FirstName": "Richard",
                                    "LastName": "Cunningham",
                                    "Genre": "Alternative & Punk",
                                    "Gastado": "4.95"
                                },
                                {
                                    "FirstName": "Richard",
                                    "LastName": "Cunningham",
                                    "Genre": "Latin",
                                    "Gastado": "6.93"
                                },
                                {
                                    "FirstName": "Richard",
                                    "LastName": "Cunningham",
                                    "Genre": "TV Shows",
                                    "Gastado": "5.97"
                                },
                                {
                                    "FirstName": "Richard",
                                    "LastName": "Cunningham",
                                    "Genre": "Sci Fi & Fantasy",
                                    "Gastado": "1.99"
                                },
                                {
                                    "FirstName": "Richard",
                                    "LastName": "Cunningham",
                                    "Genre": "Drama",
                                    "Gastado": "11.94"
                                },
                                {
                                    "FirstName": "Patrick",
                                    "LastName": "Gray",
                                    "Genre": "Rock",
                                    "Gastado": "15.84"
                                },
                                {
                                    "FirstName": "Patrick",
                                    "LastName": "Gray",
                                    "Genre": "Metal",
                                    "Gastado": "4.95"
                                },
                                {
                                    "FirstName": "Patrick",
                                    "LastName": "Gray",
                                    "Genre": "Alternative & Punk",
                                    "Gastado": "1.98"
                                },
                                {
                                    "FirstName": "Patrick",
                                    "LastName": "Gray",
                                    "Genre": "Blues",
                                    "Gastado": "0.99"
                                },
                                {
                                    "FirstName": "Patrick",
                                    "LastName": "Gray",
                                    "Genre": "Latin",
                                    "Gastado": "5.94"
                                },
                                {
                                    "FirstName": "Patrick",
                                    "LastName": "Gray",
                                    "Genre": "Pop",
                                    "Gastado": "1.98"
                                },
                                {
                                    "FirstName": "Patrick",
                                    "LastName": "Gray",
                                    "Genre": "Heavy Metal",
                                    "Gastado": "0.99"
                                },
                                {
                                    "FirstName": "Patrick",
                                    "LastName": "Gray",
                                    "Genre": "Hip Hop/Rap",
                                    "Gastado": "0.99"
                                },
                                {
                                    "FirstName": "Patrick",
                                    "LastName": "Gray",
                                    "Genre": "Classical",
                                    "Gastado": "3.96"
                                },
                                {
                                    "FirstName": "Julia",
                                    "LastName": "Barnett",
                                    "Genre": "Rock",
                                    "Gastado": "16.83"
                                },
                                {
                                    "FirstName": "Julia",
                                    "LastName": "Barnett",
                                    "Genre": "Metal",
                                    "Gastado": "2.97"
                                },
                                {
                                    "FirstName": "Julia",
                                    "LastName": "Barnett",
                                    "Genre": "Alternative & Punk",
                                    "Gastado": "7.92"
                                },
                                {
                                    "FirstName": "Julia",
                                    "LastName": "Barnett",
                                    "Genre": "Latin",
                                    "Gastado": "3.96"
                                },
                                {
                                    "FirstName": "Julia",
                                    "LastName": "Barnett",
                                    "Genre": "Sci Fi & Fantasy",
                                    "Gastado": "7.96"
                                },
                                {
                                    "FirstName": "Julia",
                                    "LastName": "Barnett",
                                    "Genre": "Comedy",
                                    "Gastado": "3.98"
                                },
                                {
                                    "FirstName": "Robert",
                                    "LastName": "Brown",
                                    "Genre": "Rock",
                                    "Gastado": "24.75"
                                },
                                {
                                    "FirstName": "Robert",
                                    "LastName": "Brown",
                                    "Genre": "Metal",
                                    "Gastado": "1.98"
                                },
                                {
                                    "FirstName": "Robert",
                                    "LastName": "Brown",
                                    "Genre": "Alternative & Punk",
                                    "Gastado": "3.96"
                                },
                                {
                                    "FirstName": "Robert",
                                    "LastName": "Brown",
                                    "Genre": "Latin",
                                    "Gastado": "6.93"
                                },
                                {
                                    "FirstName": "Edward",
                                    "LastName": "Francis",
                                    "Genre": "Rock",
                                    "Gastado": "18.81"
                                },
                                {
                                    "FirstName": "Edward",
                                    "LastName": "Francis",
                                    "Genre": "Jazz",
                                    "Gastado": "1.98"
                                },
                                {
                                    "FirstName": "Edward",
                                    "LastName": "Francis",
                                    "Genre": "Metal",
                                    "Gastado": "1.98"
                                },
                                {
                                    "FirstName": "Edward",
                                    "LastName": "Francis",
                                    "Genre": "Alternative & Punk",
                                    "Gastado": "8.91"
                                },
                                {
                                    "FirstName": "Edward",
                                    "LastName": "Francis",
                                    "Genre": "Reggae",
                                    "Gastado": "3.96"
                                },
                                {
                                    "FirstName": "Edward",
                                    "LastName": "Francis",
                                    "Genre": "Hip Hop/Rap",
                                    "Gastado": "1.98"
                                },
                                {
                                    "FirstName": "Martha",
                                    "LastName": "Silk",
                                    "Genre": "Rock",
                                    "Gastado": "5.94"
                                },
                                {
                                    "FirstName": "Martha",
                                    "LastName": "Silk",
                                    "Genre": "Jazz",
                                    "Gastado": "1.98"
                                },
                                {
                                    "FirstName": "Martha",
                                    "LastName": "Silk",
                                    "Genre": "Metal",
                                    "Gastado": "6.93"
                                },
                                {
                                    "FirstName": "Martha",
                                    "LastName": "Silk",
                                    "Genre": "Alternative & Punk",
                                    "Gastado": "7.92"
                                },
                                {
                                    "FirstName": "Martha",
                                    "LastName": "Silk",
                                    "Genre": "Latin",
                                    "Gastado": "12.87"
                                },
                                {
                                    "FirstName": "Martha",
                                    "LastName": "Silk",
                                    "Genre": "World",
                                    "Gastado": "1.98"
                                },
                                {
                                    "FirstName": "Aaron",
                                    "LastName": "Mitchell",
                                    "Genre": "Rock",
                                    "Gastado": "8.91"
                                },
                                {
                                    "FirstName": "Aaron",
                                    "LastName": "Mitchell",
                                    "Genre": "Jazz",
                                    "Gastado": "1.98"
                                },
                                {
                                    "FirstName": "Aaron",
                                    "LastName": "Mitchell",
                                    "Genre": "Metal",
                                    "Gastado": "6.93"
                                },
                                {
                                    "FirstName": "Aaron",
                                    "LastName": "Mitchell",
                                    "Genre": "Blues",
                                    "Gastado": "1.98"
                                },
                                {
                                    "FirstName": "Aaron",
                                    "LastName": "Mitchell",
                                    "Genre": "Latin",
                                    "Gastado": "13.86"
                                },
                                {
                                    "FirstName": "Aaron",
                                    "LastName": "Mitchell",
                                    "Genre": "Reggae",
                                    "Gastado": "2.97"
                                },
                                {
                                    "FirstName": "Aaron",
                                    "LastName": "Mitchell",
                                    "Genre": "World",
                                    "Gastado": "0.99"
                                },
                                {
                                    "FirstName": "Ellie",
                                    "LastName": "Sullivan",
                                    "Genre": "Rock",
                                    "Gastado": "18.81"
                                },
                                {
                                    "FirstName": "Ellie",
                                    "LastName": "Sullivan",
                                    "Genre": "Metal",
                                    "Gastado": "4.95"
                                },
                                {
                                    "FirstName": "Ellie",
                                    "LastName": "Sullivan",
                                    "Genre": "Alternative & Punk",
                                    "Gastado": "2.97"
                                },
                                {
                                    "FirstName": "Ellie",
                                    "LastName": "Sullivan",
                                    "Genre": "Latin",
                                    "Gastado": "7.92"
                                },
                                {
                                    "FirstName": "Ellie",
                                    "LastName": "Sullivan",
                                    "Genre": "R&B/Soul",
                                    "Gastado": "1.98"
                                },
                                {
                                    "FirstName": "Ellie",
                                    "LastName": "Sullivan",
                                    "Genre": "Classical",
                                    "Gastado": "0.99"
                                },
                                {
                                    "FirstName": "João",
                                    "LastName": "Fernandes",
                                    "Genre": "Rock",
                                    "Gastado": "14.85"
                                },
                                {
                                    "FirstName": "João",
                                    "LastName": "Fernandes",
                                    "Genre": "Metal",
                                    "Gastado": "0.99"
                                },
                                {
                                    "FirstName": "João",
                                    "LastName": "Fernandes",
                                    "Genre": "Alternative & Punk",
                                    "Gastado": "4.95"
                                },
                                {
                                    "FirstName": "João",
                                    "LastName": "Fernandes",
                                    "Genre": "Latin",
                                    "Gastado": "5.94"
                                },
                                {
                                    "FirstName": "João",
                                    "LastName": "Fernandes",
                                    "Genre": "Pop",
                                    "Gastado": "3.96"
                                },
                                {
                                    "FirstName": "João",
                                    "LastName": "Fernandes",
                                    "Genre": "R&B/Soul",
                                    "Gastado": "1.98"
                                },
                                {
                                    "FirstName": "João",
                                    "LastName": "Fernandes",
                                    "Genre": "Electronica/Dance",
                                    "Gastado": "0.99"
                                },
                                {
                                    "FirstName": "João",
                                    "LastName": "Fernandes",
                                    "Genre": "World",
                                    "Gastado": "1.98"
                                },
                                {
                                    "FirstName": "João",
                                    "LastName": "Fernandes",
                                    "Genre": "TV Shows",
                                    "Gastado": "1.99"
                                },
                                {
                                    "FirstName": "João",
                                    "LastName": "Fernandes",
                                    "Genre": "Sci Fi & Fantasy",
                                    "Gastado": "1.99"
                                },
                                {
                                    "FirstName": "Madalena",
                                    "LastName": "Sampaio",
                                    "Genre": "Rock",
                                    "Gastado": "15.84"
                                },
                                {
                                    "FirstName": "Madalena",
                                    "LastName": "Sampaio",
                                    "Genre": "Jazz",
                                    "Gastado": "1.98"
                                },
                                {
                                    "FirstName": "Madalena",
                                    "LastName": "Sampaio",
                                    "Genre": "Metal",
                                    "Gastado": "9.90"
                                },
                                {
                                    "FirstName": "Madalena",
                                    "LastName": "Sampaio",
                                    "Genre": "Blues",
                                    "Gastado": "0.99"
                                },
                                {
                                    "FirstName": "Madalena",
                                    "LastName": "Sampaio",
                                    "Genre": "Latin",
                                    "Gastado": "6.93"
                                },
                                {
                                    "FirstName": "Madalena",
                                    "LastName": "Sampaio",
                                    "Genre": "Heavy Metal",
                                    "Gastado": "1.98"
                                },
                                {
                                    "FirstName": "Hannah",
                                    "LastName": "Schneider",
                                    "Genre": "Rock",
                                    "Gastado": "12.87"
                                },
                                {
                                    "FirstName": "Hannah",
                                    "LastName": "Schneider",
                                    "Genre": "Metal",
                                    "Gastado": "17.82"
                                },
                                {
                                    "FirstName": "Hannah",
                                    "LastName": "Schneider",
                                    "Genre": "Alternative & Punk",
                                    "Gastado": "1.98"
                                },
                                {
                                    "FirstName": "Hannah",
                                    "LastName": "Schneider",
                                    "Genre": "Blues",
                                    "Gastado": "0.99"
                                },
                                {
                                    "FirstName": "Hannah",
                                    "LastName": "Schneider",
                                    "Genre": "Latin",
                                    "Gastado": "0.99"
                                },
                                {
                                    "FirstName": "Hannah",
                                    "LastName": "Schneider",
                                    "Genre": "Heavy Metal",
                                    "Gastado": "2.97"
                                },
                                {
                                    "FirstName": "Fynn",
                                    "LastName": "Zimmermann",
                                    "Genre": "Rock",
                                    "Gastado": "10.89"
                                },
                                {
                                    "FirstName": "Fynn",
                                    "LastName": "Zimmermann",
                                    "Genre": "Jazz",
                                    "Gastado": "0.99"
                                },
                                {
                                    "FirstName": "Fynn",
                                    "LastName": "Zimmermann",
                                    "Genre": "Metal",
                                    "Gastado": "2.97"
                                },
                                {
                                    "FirstName": "Fynn",
                                    "LastName": "Zimmermann",
                                    "Genre": "Alternative & Punk",
                                    "Gastado": "3.96"
                                },
                                {
                                    "FirstName": "Fynn",
                                    "LastName": "Zimmermann",
                                    "Genre": "Latin",
                                    "Gastado": "8.91"
                                },
                                {
                                    "FirstName": "Fynn",
                                    "LastName": "Zimmermann",
                                    "Genre": "Soundtrack",
                                    "Gastado": "1.98"
                                },
                                {
                                    "FirstName": "Fynn",
                                    "LastName": "Zimmermann",
                                    "Genre": "Easy Listening",
                                    "Gastado": "1.98"
                                },
                                {
                                    "FirstName": "Fynn",
                                    "LastName": "Zimmermann",
                                    "Genre": "Science Fiction",
                                    "Gastado": "3.98"
                                },
                                {
                                    "FirstName": "Fynn",
                                    "LastName": "Zimmermann",
                                    "Genre": "TV Shows",
                                    "Gastado": "5.97"
                                },
                                {
                                    "FirstName": "Fynn",
                                    "LastName": "Zimmermann",
                                    "Genre": "Drama",
                                    "Gastado": "1.99"
                                },
                                {
                                    "FirstName": "Niklas",
                                    "LastName": "Schröder",
                                    "Genre": "Rock",
                                    "Gastado": "20.79"
                                },
                                {
                                    "FirstName": "Niklas",
                                    "LastName": "Schröder",
                                    "Genre": "Jazz",
                                    "Gastado": "0.99"
                                },
                                {
                                    "FirstName": "Niklas",
                                    "LastName": "Schröder",
                                    "Genre": "Metal",
                                    "Gastado": "1.98"
                                },
                                {
                                    "FirstName": "Niklas",
                                    "LastName": "Schröder",
                                    "Genre": "Alternative & Punk",
                                    "Gastado": "4.95"
                                },
                                {
                                    "FirstName": "Niklas",
                                    "LastName": "Schröder",
                                    "Genre": "Blues",
                                    "Gastado": "3.96"
                                },
                                {
                                    "FirstName": "Niklas",
                                    "LastName": "Schröder",
                                    "Genre": "Latin",
                                    "Gastado": "3.96"
                                },
                                {
                                    "FirstName": "Niklas",
                                    "LastName": "Schröder",
                                    "Genre": "Alternative",
                                    "Gastado": "0.99"
                                },
                                {
                                    "FirstName": "Camille",
                                    "LastName": "Bernard",
                                    "Genre": "Rock",
                                    "Gastado": "12.87"
                                },
                                {
                                    "FirstName": "Camille",
                                    "LastName": "Bernard",
                                    "Genre": "Jazz",
                                    "Gastado": "1.98"
                                },
                                {
                                    "FirstName": "Camille",
                                    "LastName": "Bernard",
                                    "Genre": "Metal",
                                    "Gastado": "2.97"
                                },
                                {
                                    "FirstName": "Camille",
                                    "LastName": "Bernard",
                                    "Genre": "Alternative & Punk",
                                    "Gastado": "9.90"
                                },
                                {
                                    "FirstName": "Camille",
                                    "LastName": "Bernard",
                                    "Genre": "Latin",
                                    "Gastado": "6.93"
                                },
                                {
                                    "FirstName": "Camille",
                                    "LastName": "Bernard",
                                    "Genre": "Drama",
                                    "Gastado": "1.99"
                                },
                                {
                                    "FirstName": "Camille",
                                    "LastName": "Bernard",
                                    "Genre": "Classical",
                                    "Gastado": "1.98"
                                },
                                {
                                    "FirstName": "Dominique",
                                    "LastName": "Lefebvre",
                                    "Genre": "Rock",
                                    "Gastado": "16.83"
                                },
                                {
                                    "FirstName": "Dominique",
                                    "LastName": "Lefebvre",
                                    "Genre": "Jazz",
                                    "Gastado": "5.94"
                                },
                                {
                                    "FirstName": "Dominique",
                                    "LastName": "Lefebvre",
                                    "Genre": "Metal",
                                    "Gastado": "0.99"
                                },
                                {
                                    "FirstName": "Dominique",
                                    "LastName": "Lefebvre",
                                    "Genre": "Alternative & Punk",
                                    "Gastado": "5.94"
                                },
                                {
                                    "FirstName": "Dominique",
                                    "LastName": "Lefebvre",
                                    "Genre": "Latin",
                                    "Gastado": "5.94"
                                },
                                {
                                    "FirstName": "Dominique",
                                    "LastName": "Lefebvre",
                                    "Genre": "Bossa Nova",
                                    "Gastado": "0.99"
                                },
                                {
                                    "FirstName": "Dominique",
                                    "LastName": "Lefebvre",
                                    "Genre": "Drama",
                                    "Gastado": "1.99"
                                },
                                {
                                    "FirstName": "Marc",
                                    "LastName": "Dubois",
                                    "Genre": "Rock",
                                    "Gastado": "9.90"
                                },
                                {
                                    "FirstName": "Marc",
                                    "LastName": "Dubois",
                                    "Genre": "Metal",
                                    "Gastado": "1.98"
                                },
                                {
                                    "FirstName": "Marc",
                                    "LastName": "Dubois",
                                    "Genre": "Alternative & Punk",
                                    "Gastado": "4.95"
                                },
                                {
                                    "FirstName": "Marc",
                                    "LastName": "Dubois",
                                    "Genre": "Blues",
                                    "Gastado": "1.98"
                                },
                                {
                                    "FirstName": "Marc",
                                    "LastName": "Dubois",
                                    "Genre": "Latin",
                                    "Gastado": "8.91"
                                },
                                {
                                    "FirstName": "Marc",
                                    "LastName": "Dubois",
                                    "Genre": "Reggae",
                                    "Gastado": "0.99"
                                },
                                {
                                    "FirstName": "Marc",
                                    "LastName": "Dubois",
                                    "Genre": "Pop",
                                    "Gastado": "1.98"
                                },
                                {
                                    "FirstName": "Marc",
                                    "LastName": "Dubois",
                                    "Genre": "Soundtrack",
                                    "Gastado": "4.95"
                                },
                                {
                                    "FirstName": "Marc",
                                    "LastName": "Dubois",
                                    "Genre": "Classical",
                                    "Gastado": "1.98"
                                },
                                {
                                    "FirstName": "Wyatt",
                                    "LastName": "Girard",
                                    "Genre": "Rock",
                                    "Gastado": "6.93"
                                },
                                {
                                    "FirstName": "Wyatt",
                                    "LastName": "Girard",
                                    "Genre": "Jazz",
                                    "Gastado": "1.98"
                                },
                                {
                                    "FirstName": "Wyatt",
                                    "LastName": "Girard",
                                    "Genre": "Metal",
                                    "Gastado": "13.86"
                                },
                                {
                                    "FirstName": "Wyatt",
                                    "LastName": "Girard",
                                    "Genre": "Alternative & Punk",
                                    "Gastado": "7.92"
                                },
                                {
                                    "FirstName": "Wyatt",
                                    "LastName": "Girard",
                                    "Genre": "Rock And Roll",
                                    "Gastado": "0.99"
                                },
                                {
                                    "FirstName": "Wyatt",
                                    "LastName": "Girard",
                                    "Genre": "Latin",
                                    "Gastado": "3.96"
                                },
                                {
                                    "FirstName": "Wyatt",
                                    "LastName": "Girard",
                                    "Genre": "Sci Fi & Fantasy",
                                    "Gastado": "3.98"
                                },
                                {
                                    "FirstName": "Isabelle",
                                    "LastName": "Mercier",
                                    "Genre": "Rock",
                                    "Gastado": "17.82"
                                },
                                {
                                    "FirstName": "Isabelle",
                                    "LastName": "Mercier",
                                    "Genre": "Jazz",
                                    "Gastado": "0.99"
                                },
                                {
                                    "FirstName": "Isabelle",
                                    "LastName": "Mercier",
                                    "Genre": "Alternative & Punk",
                                    "Gastado": "1.98"
                                },
                                {
                                    "FirstName": "Isabelle",
                                    "LastName": "Mercier",
                                    "Genre": "Electronica/Dance",
                                    "Gastado": "1.98"
                                },
                                {
                                    "FirstName": "Isabelle",
                                    "LastName": "Mercier",
                                    "Genre": "Hip Hop/Rap",
                                    "Gastado": "1.98"
                                },
                                {
                                    "FirstName": "Isabelle",
                                    "LastName": "Mercier",
                                    "Genre": "TV Shows",
                                    "Gastado": "1.99"
                                },
                                {
                                    "FirstName": "Isabelle",
                                    "LastName": "Mercier",
                                    "Genre": "Drama",
                                    "Gastado": "3.98"
                                },
                                {
                                    "FirstName": "Isabelle",
                                    "LastName": "Mercier",
                                    "Genre": "Alternative",
                                    "Gastado": "3.96"
                                },
                                {
                                    "FirstName": "Isabelle",
                                    "LastName": "Mercier",
                                    "Genre": "Classical",
                                    "Gastado": "5.94"
                                },
                                {
                                    "FirstName": "Terhi",
                                    "LastName": "Hämäläinen",
                                    "Genre": "Rock",
                                    "Gastado": "17.82"
                                },
                                {
                                    "FirstName": "Terhi",
                                    "LastName": "Hämäläinen",
                                    "Genre": "Jazz",
                                    "Gastado": "1.98"
                                },
                                {
                                    "FirstName": "Terhi",
                                    "LastName": "Hämäläinen",
                                    "Genre": "Metal",
                                    "Gastado": "1.98"
                                },
                                {
                                    "FirstName": "Terhi",
                                    "LastName": "Hämäläinen",
                                    "Genre": "Alternative & Punk",
                                    "Gastado": "1.98"
                                },
                                {
                                    "FirstName": "Terhi",
                                    "LastName": "Hämäläinen",
                                    "Genre": "Latin",
                                    "Gastado": "8.91"
                                },
                                {
                                    "FirstName": "Terhi",
                                    "LastName": "Hämäläinen",
                                    "Genre": "Reggae",
                                    "Gastado": "0.99"
                                },
                                {
                                    "FirstName": "Terhi",
                                    "LastName": "Hämäläinen",
                                    "Genre": "Sci Fi & Fantasy",
                                    "Gastado": "7.96"
                                },
                                {
                                    "FirstName": "Ladislav",
                                    "LastName": "Kovács",
                                    "Genre": "Rock",
                                    "Gastado": "10.89"
                                },
                                {
                                    "FirstName": "Ladislav",
                                    "LastName": "Kovács",
                                    "Genre": "Metal",
                                    "Gastado": "4.95"
                                },
                                {
                                    "FirstName": "Ladislav",
                                    "LastName": "Kovács",
                                    "Genre": "Alternative & Punk",
                                    "Gastado": "2.97"
                                },
                                {
                                    "FirstName": "Ladislav",
                                    "LastName": "Kovács",
                                    "Genre": "Blues",
                                    "Gastado": "1.98"
                                },
                                {
                                    "FirstName": "Ladislav",
                                    "LastName": "Kovács",
                                    "Genre": "Latin",
                                    "Gastado": "2.97"
                                },
                                {
                                    "FirstName": "Ladislav",
                                    "LastName": "Kovács",
                                    "Genre": "R&B/Soul",
                                    "Gastado": "4.95"
                                },
                                {
                                    "FirstName": "Ladislav",
                                    "LastName": "Kovács",
                                    "Genre": "Electronica/Dance",
                                    "Gastado": "0.99"
                                },
                                {
                                    "FirstName": "Ladislav",
                                    "LastName": "Kovács",
                                    "Genre": "TV Shows",
                                    "Gastado": "7.96"
                                },
                                {
                                    "FirstName": "Ladislav",
                                    "LastName": "Kovács",
                                    "Genre": "Sci Fi & Fantasy",
                                    "Gastado": "1.99"
                                },
                                {
                                    "FirstName": "Ladislav",
                                    "LastName": "Kovács",
                                    "Genre": "Drama",
                                    "Gastado": "3.98"
                                },
                                {
                                    "FirstName": "Ladislav",
                                    "LastName": "Kovács",
                                    "Genre": "Comedy",
                                    "Gastado": "1.99"
                                },
                                {
                                    "FirstName": "Hugh",
                                    "LastName": "O'Reilly",
                                    "Genre": "Rock",
                                    "Gastado": "11.88"
                                },
                                {
                                    "FirstName": "Hugh",
                                    "LastName": "O'Reilly",
                                    "Genre": "Jazz",
                                    "Gastado": "2.97"
                                },
                                {
                                    "FirstName": "Hugh",
                                    "LastName": "O'Reilly",
                                    "Genre": "Metal",
                                    "Gastado": "2.97"
                                },
                                {
                                    "FirstName": "Hugh",
                                    "LastName": "O'Reilly",
                                    "Genre": "Alternative & Punk",
                                    "Gastado": "3.96"
                                },
                                {
                                    "FirstName": "Hugh",
                                    "LastName": "O'Reilly",
                                    "Genre": "Blues",
                                    "Gastado": "0.99"
                                },
                                {
                                    "FirstName": "Hugh",
                                    "LastName": "O'Reilly",
                                    "Genre": "Latin",
                                    "Gastado": "6.93"
                                },
                                {
                                    "FirstName": "Hugh",
                                    "LastName": "O'Reilly",
                                    "Genre": "TV Shows",
                                    "Gastado": "13.93"
                                },
                                {
                                    "FirstName": "Hugh",
                                    "LastName": "O'Reilly",
                                    "Genre": "Drama",
                                    "Gastado": "1.99"
                                },
                                {
                                    "FirstName": "Lucas",
                                    "LastName": "Mancini",
                                    "Genre": "Rock",
                                    "Gastado": "17.82"
                                },
                                {
                                    "FirstName": "Lucas",
                                    "LastName": "Mancini",
                                    "Genre": "Metal",
                                    "Gastado": "0.99"
                                },
                                {
                                    "FirstName": "Lucas",
                                    "LastName": "Mancini",
                                    "Genre": "Alternative & Punk",
                                    "Gastado": "10.89"
                                },
                                {
                                    "FirstName": "Lucas",
                                    "LastName": "Mancini",
                                    "Genre": "Blues",
                                    "Gastado": "3.96"
                                },
                                {
                                    "FirstName": "Lucas",
                                    "LastName": "Mancini",
                                    "Genre": "Latin",
                                    "Gastado": "1.98"
                                },
                                {
                                    "FirstName": "Lucas",
                                    "LastName": "Mancini",
                                    "Genre": "Classical",
                                    "Gastado": "1.98"
                                },
                                {
                                    "FirstName": "Johannes",
                                    "LastName": "Van der Berg",
                                    "Genre": "Rock",
                                    "Gastado": "17.82"
                                },
                                {
                                    "FirstName": "Johannes",
                                    "LastName": "Van der Berg",
                                    "Genre": "Metal",
                                    "Gastado": "1.98"
                                },
                                {
                                    "FirstName": "Johannes",
                                    "LastName": "Van der Berg",
                                    "Genre": "Alternative & Punk",
                                    "Gastado": "4.95"
                                },
                                {
                                    "FirstName": "Johannes",
                                    "LastName": "Van der Berg",
                                    "Genre": "Blues",
                                    "Gastado": "3.96"
                                },
                                {
                                    "FirstName": "Johannes",
                                    "LastName": "Van der Berg",
                                    "Genre": "Latin",
                                    "Gastado": "2.97"
                                },
                                {
                                    "FirstName": "Johannes",
                                    "LastName": "Van der Berg",
                                    "Genre": "Pop",
                                    "Gastado": "2.97"
                                },
                                {
                                    "FirstName": "Johannes",
                                    "LastName": "Van der Berg",
                                    "Genre": "Sci Fi & Fantasy",
                                    "Gastado": "5.97"
                                },
                                {
                                    "FirstName": "Stanisław",
                                    "LastName": "Wójcik",
                                    "Genre": "Rock",
                                    "Gastado": "21.78"
                                },
                                {
                                    "FirstName": "Stanisław",
                                    "LastName": "Wójcik",
                                    "Genre": "Jazz",
                                    "Gastado": "0.99"
                                },
                                {
                                    "FirstName": "Stanisław",
                                    "LastName": "Wójcik",
                                    "Genre": "Alternative & Punk",
                                    "Gastado": "6.93"
                                },
                                {
                                    "FirstName": "Stanisław",
                                    "LastName": "Wójcik",
                                    "Genre": "Blues",
                                    "Gastado": "0.99"
                                },
                                {
                                    "FirstName": "Stanisław",
                                    "LastName": "Wójcik",
                                    "Genre": "Latin",
                                    "Gastado": "6.93"
                                },
                                {
                                    "FirstName": "Enrique",
                                    "LastName": "Muñoz",
                                    "Genre": "Rock",
                                    "Gastado": "21.78"
                                },
                                {
                                    "FirstName": "Enrique",
                                    "LastName": "Muñoz",
                                    "Genre": "Jazz",
                                    "Gastado": "1.98"
                                },
                                {
                                    "FirstName": "Enrique",
                                    "LastName": "Muñoz",
                                    "Genre": "Metal",
                                    "Gastado": "2.97"
                                },
                                {
                                    "FirstName": "Enrique",
                                    "LastName": "Muñoz",
                                    "Genre": "Alternative & Punk",
                                    "Gastado": "3.96"
                                },
                                {
                                    "FirstName": "Enrique",
                                    "LastName": "Muñoz",
                                    "Genre": "Latin",
                                    "Gastado": "3.96"
                                },
                                {
                                    "FirstName": "Enrique",
                                    "LastName": "Muñoz",
                                    "Genre": "Reggae",
                                    "Gastado": "1.98"
                                },
                                {
                                    "FirstName": "Enrique",
                                    "LastName": "Muñoz",
                                    "Genre": "Hip Hop/Rap",
                                    "Gastado": "0.99"
                                },
                                {
                                    "FirstName": "Joakim",
                                    "LastName": "Johansson",
                                    "Genre": "Rock",
                                    "Gastado": "9.90"
                                },
                                {
                                    "FirstName": "Joakim",
                                    "LastName": "Johansson",
                                    "Genre": "Jazz",
                                    "Gastado": "0.99"
                                },
                                {
                                    "FirstName": "Joakim",
                                    "LastName": "Johansson",
                                    "Genre": "Metal",
                                    "Gastado": "6.93"
                                },
                                {
                                    "FirstName": "Joakim",
                                    "LastName": "Johansson",
                                    "Genre": "Alternative & Punk",
                                    "Gastado": "5.94"
                                },
                                {
                                    "FirstName": "Joakim",
                                    "LastName": "Johansson",
                                    "Genre": "Latin",
                                    "Gastado": "11.88"
                                },
                                {
                                    "FirstName": "Joakim",
                                    "LastName": "Johansson",
                                    "Genre": "World",
                                    "Gastado": "0.99"
                                },
                                {
                                    "FirstName": "Joakim",
                                    "LastName": "Johansson",
                                    "Genre": "TV Shows",
                                    "Gastado": "1.99"
                                },
                                {
                                    "FirstName": "Emma",
                                    "LastName": "Jones",
                                    "Genre": "Rock",
                                    "Gastado": "7.92"
                                },
                                {
                                    "FirstName": "Emma",
                                    "LastName": "Jones",
                                    "Genre": "Metal",
                                    "Gastado": "7.92"
                                },
                                {
                                    "FirstName": "Emma",
                                    "LastName": "Jones",
                                    "Genre": "Alternative & Punk",
                                    "Gastado": "1.98"
                                },
                                {
                                    "FirstName": "Emma",
                                    "LastName": "Jones",
                                    "Genre": "Latin",
                                    "Gastado": "14.85"
                                },
                                {
                                    "FirstName": "Emma",
                                    "LastName": "Jones",
                                    "Genre": "Reggae",
                                    "Gastado": "4.95"
                                },
                                {
                                    "FirstName": "Phil",
                                    "LastName": "Hughes",
                                    "Genre": "Rock",
                                    "Gastado": "17.82"
                                },
                                {
                                    "FirstName": "Phil",
                                    "LastName": "Hughes",
                                    "Genre": "Jazz",
                                    "Gastado": "1.98"
                                },
                                {
                                    "FirstName": "Phil",
                                    "LastName": "Hughes",
                                    "Genre": "Metal",
                                    "Gastado": "5.94"
                                },
                                {
                                    "FirstName": "Phil",
                                    "LastName": "Hughes",
                                    "Genre": "Alternative & Punk",
                                    "Gastado": "2.97"
                                },
                                {
                                    "FirstName": "Phil",
                                    "LastName": "Hughes",
                                    "Genre": "Latin",
                                    "Gastado": "6.93"
                                },
                                {
                                    "FirstName": "Phil",
                                    "LastName": "Hughes",
                                    "Genre": "R&B/Soul",
                                    "Gastado": "1.98"
                                },
                                {
                                    "FirstName": "Steve",
                                    "LastName": "Murray",
                                    "Genre": "Rock",
                                    "Gastado": "10.89"
                                },
                                {
                                    "FirstName": "Steve",
                                    "LastName": "Murray",
                                    "Genre": "Jazz",
                                    "Gastado": "1.98"
                                },
                                {
                                    "FirstName": "Steve",
                                    "LastName": "Murray",
                                    "Genre": "Metal",
                                    "Gastado": "5.94"
                                },
                                {
                                    "FirstName": "Steve",
                                    "LastName": "Murray",
                                    "Genre": "Alternative & Punk",
                                    "Gastado": "3.96"
                                },
                                {
                                    "FirstName": "Steve",
                                    "LastName": "Murray",
                                    "Genre": "Latin",
                                    "Gastado": "8.91"
                                },
                                {
                                    "FirstName": "Steve",
                                    "LastName": "Murray",
                                    "Genre": "Pop",
                                    "Gastado": "1.98"
                                },
                                {
                                    "FirstName": "Steve",
                                    "LastName": "Murray",
                                    "Genre": "World",
                                    "Gastado": "0.99"
                                },
                                {
                                    "FirstName": "Steve",
                                    "LastName": "Murray",
                                    "Genre": "Hip Hop/Rap",
                                    "Gastado": "2.97"
                                },
                                {
                                    "FirstName": "Mark",
                                    "LastName": "Taylor",
                                    "Genre": "Rock",
                                    "Gastado": "21.78"
                                },
                                {
                                    "FirstName": "Mark",
                                    "LastName": "Taylor",
                                    "Genre": "Metal",
                                    "Gastado": "7.92"
                                },
                                {
                                    "FirstName": "Mark",
                                    "LastName": "Taylor",
                                    "Genre": "Blues",
                                    "Gastado": "0.99"
                                },
                                {
                                    "FirstName": "Mark",
                                    "LastName": "Taylor",
                                    "Genre": "Latin",
                                    "Gastado": "1.98"
                                },
                                {
                                    "FirstName": "Mark",
                                    "LastName": "Taylor",
                                    "Genre": "Reggae",
                                    "Gastado": "1.98"
                                },
                                {
                                    "FirstName": "Mark",
                                    "LastName": "Taylor",
                                    "Genre": "Heavy Metal",
                                    "Gastado": "2.97"
                                },
                                {
                                    "FirstName": "Diego",
                                    "LastName": "Gutiérrez",
                                    "Genre": "Rock",
                                    "Gastado": "8.91"
                                },
                                {
                                    "FirstName": "Diego",
                                    "LastName": "Gutiérrez",
                                    "Genre": "Jazz",
                                    "Gastado": "1.98"
                                },
                                {
                                    "FirstName": "Diego",
                                    "LastName": "Gutiérrez",
                                    "Genre": "Metal",
                                    "Gastado": "6.93"
                                },
                                {
                                    "FirstName": "Diego",
                                    "LastName": "Gutiérrez",
                                    "Genre": "Alternative & Punk",
                                    "Gastado": "8.91"
                                },
                                {
                                    "FirstName": "Diego",
                                    "LastName": "Gutiérrez",
                                    "Genre": "Latin",
                                    "Gastado": "7.92"
                                },
                                {
                                    "FirstName": "Diego",
                                    "LastName": "Gutiérrez",
                                    "Genre": "Soundtrack",
                                    "Gastado": "0.99"
                                },
                                {
                                    "FirstName": "Diego",
                                    "LastName": "Gutiérrez",
                                    "Genre": "Easy Listening",
                                    "Gastado": "1.98"
                                },
                                {
                                    "FirstName": "Luis",
                                    "LastName": "Rojas",
                                    "Genre": "Rock",
                                    "Gastado": "8.91"
                                },
                                {
                                    "FirstName": "Luis",
                                    "LastName": "Rojas",
                                    "Genre": "Metal",
                                    "Gastado": "2.97"
                                },
                                {
                                    "FirstName": "Luis",
                                    "LastName": "Rojas",
                                    "Genre": "Alternative & Punk",
                                    "Gastado": "1.98"
                                },
                                {
                                    "FirstName": "Luis",
                                    "LastName": "Rojas",
                                    "Genre": "Blues",
                                    "Gastado": "1.98"
                                },
                                {
                                    "FirstName": "Luis",
                                    "LastName": "Rojas",
                                    "Genre": "Latin",
                                    "Gastado": "7.92"
                                },
                                {
                                    "FirstName": "Luis",
                                    "LastName": "Rojas",
                                    "Genre": "Soundtrack",
                                    "Gastado": "0.99"
                                },
                                {
                                    "FirstName": "Luis",
                                    "LastName": "Rojas",
                                    "Genre": "Easy Listening",
                                    "Gastado": "2.97"
                                },
                                {
                                    "FirstName": "Luis",
                                    "LastName": "Rojas",
                                    "Genre": "Science Fiction",
                                    "Gastado": "3.98"
                                },
                                {
                                    "FirstName": "Luis",
                                    "LastName": "Rojas",
                                    "Genre": "TV Shows",
                                    "Gastado": "3.98"
                                },
                                {
                                    "FirstName": "Luis",
                                    "LastName": "Rojas",
                                    "Genre": "Sci Fi & Fantasy",
                                    "Gastado": "1.99"
                                },
                                {
                                    "FirstName": "Luis",
                                    "LastName": "Rojas",
                                    "Genre": "Drama",
                                    "Gastado": "7.96"
                                },
                                {
                                    "FirstName": "Luis",
                                    "LastName": "Rojas",
                                    "Genre": "Classical",
                                    "Gastado": "0.99"
                                },
                                {
                                    "FirstName": "Manoj",
                                    "LastName": "Pareek",
                                    "Genre": "Rock",
                                    "Gastado": "12.87"
                                },
                                {
                                    "FirstName": "Manoj",
                                    "LastName": "Pareek",
                                    "Genre": "Jazz",
                                    "Gastado": "4.95"
                                },
                                {
                                    "FirstName": "Manoj",
                                    "LastName": "Pareek",
                                    "Genre": "Metal",
                                    "Gastado": "5.94"
                                },
                                {
                                    "FirstName": "Manoj",
                                    "LastName": "Pareek",
                                    "Genre": "Alternative & Punk",
                                    "Gastado": "2.97"
                                },
                                {
                                    "FirstName": "Manoj",
                                    "LastName": "Pareek",
                                    "Genre": "Blues",
                                    "Gastado": "2.97"
                                },
                                {
                                    "FirstName": "Manoj",
                                    "LastName": "Pareek",
                                    "Genre": "Latin",
                                    "Gastado": "4.95"
                                },
                                {
                                    "FirstName": "Manoj",
                                    "LastName": "Pareek",
                                    "Genre": "TV Shows",
                                    "Gastado": "1.99"
                                },
                                {
                                    "FirstName": "Manoj",
                                    "LastName": "Pareek",
                                    "Genre": "Classical",
                                    "Gastado": "1.98"
                                },
                                {
                                    "FirstName": "Puja",
                                    "LastName": "Srivastava",
                                    "Genre": "Rock",
                                    "Gastado": "11.88"
                                },
                                {
                                    "FirstName": "Puja",
                                    "LastName": "Srivastava",
                                    "Genre": "Jazz",
                                    "Gastado": "4.95"
                                },
                                {
                                    "FirstName": "Puja",
                                    "LastName": "Srivastava",
                                    "Genre": "Metal",
                                    "Gastado": "1.98"
                                },
                                {
                                    "FirstName": "Puja",
                                    "LastName": "Srivastava",
                                    "Genre": "Alternative & Punk",
                                    "Gastado": "7.92"
                                },
                                {
                                    "FirstName": "Puja",
                                    "LastName": "Srivastava",
                                    "Genre": "Latin",
                                    "Gastado": "3.96"
                                },
                                {
                                    "FirstName": "Puja",
                                    "LastName": "Srivastava",
                                    "Genre": "R&B/Soul",
                                    "Gastado": "3.96"
                                },
                                {
                                    "FirstName": "Puja",
                                    "LastName": "Srivastava",
                                    "Genre": "Sci Fi & Fantasy",
                                    "Gastado": "1.99"
                                }
                            ]
                        },
                        "text/html": [
                            "<table>",
                            "<tr><th>FirstName</th><th>LastName</th><th>Genre</th><th>Gastado</th></tr>",
                            "<tr><td>Luís</td><td>Gonçalves</td><td>Rock</td><td>13.86</td></tr>",
                            "<tr><td>Luís</td><td>Gonçalves</td><td>Metal</td><td>1.98</td></tr>",
                            "<tr><td>Luís</td><td>Gonçalves</td><td>Latin</td><td>10.89</td></tr>",
                            "<tr><td>Luís</td><td>Gonçalves</td><td>Reggae</td><td>2.97</td></tr>",
                            "<tr><td>Luís</td><td>Gonçalves</td><td>Pop</td><td>1.98</td></tr>",
                            "<tr><td>Luís</td><td>Gonçalves</td><td>Soundtrack</td><td>1.98</td></tr>",
                            "<tr><td>Luís</td><td>Gonçalves</td><td>Sci Fi &amp; Fantasy</td><td>3.98</td></tr>",
                            "<tr><td>Luís</td><td>Gonçalves</td><td>Classical</td><td>1.98</td></tr>",
                            "<tr><td>Leonie</td><td>Köhler</td><td>Rock</td><td>16.83</td></tr>",
                            "<tr><td>Leonie</td><td>Köhler</td><td>Metal</td><td>1.98</td></tr>",
                            "<tr><td>Leonie</td><td>Köhler</td><td>Alternative &amp; Punk</td><td>1.98</td></tr>",
                            "<tr><td>Leonie</td><td>Köhler</td><td>Blues</td><td>8.91</td></tr>",
                            "<tr><td>Leonie</td><td>Köhler</td><td>Latin</td><td>3.96</td></tr>",
                            "<tr><td>Leonie</td><td>Köhler</td><td>Pop</td><td>0.99</td></tr>",
                            "<tr><td>Leonie</td><td>Köhler</td><td>Soundtrack</td><td>2.97</td></tr>",
                            "<tr><td>François</td><td>Tremblay</td><td>Rock</td><td>3.96</td></tr>",
                            "<tr><td>François</td><td>Tremblay</td><td>Jazz</td><td>4.95</td></tr>",
                            "<tr><td>François</td><td>Tremblay</td><td>Metal</td><td>9.90</td></tr>",
                            "<tr><td>François</td><td>Tremblay</td><td>Alternative &amp; Punk</td><td>3.96</td></tr>",
                            "<tr><td>François</td><td>Tremblay</td><td>Rock And Roll</td><td>1.98</td></tr>",
                            "<tr><td>François</td><td>Tremblay</td><td>Latin</td><td>2.97</td></tr>",
                            "<tr><td>François</td><td>Tremblay</td><td>Bossa Nova</td><td>3.96</td></tr>",
                            "<tr><td>François</td><td>Tremblay</td><td>TV Shows</td><td>1.99</td></tr>",
                            "<tr><td>François</td><td>Tremblay</td><td>Drama</td><td>1.99</td></tr>",
                            "<tr><td>François</td><td>Tremblay</td><td>Classical</td><td>3.96</td></tr>",
                            "<tr><td>Bjørn</td><td>Hansen</td><td>Rock</td><td>16.83</td></tr>",
                            "<tr><td>Bjørn</td><td>Hansen</td><td>Alternative &amp; Punk</td><td>1.98</td></tr>",
                            "<tr><td>Bjørn</td><td>Hansen</td><td>Latin</td><td>4.95</td></tr>",
                            "<tr><td>Bjørn</td><td>Hansen</td><td>Electronica/Dance</td><td>1.98</td></tr>",
                            "<tr><td>Bjørn</td><td>Hansen</td><td>World</td><td>0.99</td></tr>",
                            "<tr><td>Bjørn</td><td>Hansen</td><td>Drama</td><td>3.98</td></tr>",
                            "<tr><td>Bjørn</td><td>Hansen</td><td>Alternative</td><td>3.96</td></tr>",
                            "<tr><td>Bjørn</td><td>Hansen</td><td>Classical</td><td>4.95</td></tr>",
                            "<tr><td>František</td><td>Wichterlová</td><td>Rock</td><td>14.85</td></tr>",
                            "<tr><td>František</td><td>Wichterlová</td><td>Jazz</td><td>2.97</td></tr>",
                            "<tr><td>František</td><td>Wichterlová</td><td>Metal</td><td>5.94</td></tr>",
                            "<tr><td>František</td><td>Wichterlová</td><td>Alternative &amp; Punk</td><td>3.96</td></tr>",
                            "<tr><td>František</td><td>Wichterlová</td><td>Latin</td><td>2.97</td></tr>",
                            "<tr><td>František</td><td>Wichterlová</td><td>Pop</td><td>3.96</td></tr>",
                            "<tr><td>František</td><td>Wichterlová</td><td>TV Shows</td><td>3.98</td></tr>",
                            "<tr><td>František</td><td>Wichterlová</td><td>Drama</td><td>1.99</td></tr>",
                            "<tr><td>Helena</td><td>Holý</td><td>Rock</td><td>9.90</td></tr>",
                            "<tr><td>Helena</td><td>Holý</td><td>Alternative &amp; Punk</td><td>4.95</td></tr>",
                            "<tr><td>Helena</td><td>Holý</td><td>Blues</td><td>0.99</td></tr>",
                            "<tr><td>Helena</td><td>Holý</td><td>Latin</td><td>5.94</td></tr>",
                            "<tr><td>Helena</td><td>Holý</td><td>R&amp;B/Soul</td><td>1.98</td></tr>",
                            "<tr><td>Helena</td><td>Holý</td><td>Electronica/Dance</td><td>1.98</td></tr>",
                            "<tr><td>Helena</td><td>Holý</td><td>Science Fiction</td><td>1.99</td></tr>",
                            "<tr><td>Helena</td><td>Holý</td><td>TV Shows</td><td>11.94</td></tr>",
                            "<tr><td>Helena</td><td>Holý</td><td>Drama</td><td>9.95</td></tr>",
                            "<tr><td>Astrid</td><td>Gruber</td><td>Rock</td><td>14.85</td></tr>",
                            "<tr><td>Astrid</td><td>Gruber</td><td>Jazz</td><td>1.98</td></tr>",
                            "<tr><td>Astrid</td><td>Gruber</td><td>Metal</td><td>6.93</td></tr>",
                            "<tr><td>Astrid</td><td>Gruber</td><td>Latin</td><td>1.98</td></tr>",
                            "<tr><td>Astrid</td><td>Gruber</td><td>Pop</td><td>0.99</td></tr>",
                            "<tr><td>Astrid</td><td>Gruber</td><td>R&amp;B/Soul</td><td>3.96</td></tr>",
                            "<tr><td>Astrid</td><td>Gruber</td><td>TV Shows</td><td>7.96</td></tr>",
                            "<tr><td>Astrid</td><td>Gruber</td><td>Drama</td><td>1.99</td></tr>",
                            "<tr><td>Astrid</td><td>Gruber</td><td>Classical</td><td>1.98</td></tr>",
                            "<tr><td>Daan</td><td>Peeters</td><td>Rock</td><td>20.79</td></tr>",
                            "<tr><td>Daan</td><td>Peeters</td><td>Metal</td><td>0.99</td></tr>",
                            "<tr><td>Daan</td><td>Peeters</td><td>Alternative &amp; Punk</td><td>13.86</td></tr>",
                            "<tr><td>Daan</td><td>Peeters</td><td>R&amp;B/Soul</td><td>1.98</td></tr>",
                            "<tr><td>Kara</td><td>Nielsen</td><td>Rock</td><td>20.79</td></tr>",
                            "<tr><td>Kara</td><td>Nielsen</td><td>Metal</td><td>5.94</td></tr>",
                            "<tr><td>Kara</td><td>Nielsen</td><td>Alternative &amp; Punk</td><td>3.96</td></tr>",
                            "<tr><td>Kara</td><td>Nielsen</td><td>Latin</td><td>3.96</td></tr>",
                            "<tr><td>Kara</td><td>Nielsen</td><td>Pop</td><td>2.97</td></tr>",
                            "<tr><td>Eduardo</td><td>Martins</td><td>Rock</td><td>28.71</td></tr>",
                            "<tr><td>Eduardo</td><td>Martins</td><td>Metal</td><td>0.99</td></tr>",
                            "<tr><td>Eduardo</td><td>Martins</td><td>Alternative &amp; Punk</td><td>0.99</td></tr>",
                            "<tr><td>Eduardo</td><td>Martins</td><td>Latin</td><td>1.98</td></tr>",
                            "<tr><td>Eduardo</td><td>Martins</td><td>Reggae</td><td>1.98</td></tr>",
                            "<tr><td>Eduardo</td><td>Martins</td><td>Soundtrack</td><td>1.98</td></tr>",
                            "<tr><td>Eduardo</td><td>Martins</td><td>R&amp;B/Soul</td><td>0.99</td></tr>",
                            "<tr><td>Alexandre</td><td>Rocha</td><td>Rock</td><td>10.89</td></tr>",
                            "<tr><td>Alexandre</td><td>Rocha</td><td>Metal</td><td>3.96</td></tr>",
                            "<tr><td>Alexandre</td><td>Rocha</td><td>Alternative &amp; Punk</td><td>3.96</td></tr>",
                            "<tr><td>Alexandre</td><td>Rocha</td><td>Latin</td><td>15.84</td></tr>",
                            "<tr><td>Alexandre</td><td>Rocha</td><td>Reggae</td><td>0.99</td></tr>",
                            "<tr><td>Alexandre</td><td>Rocha</td><td>Hip Hop/Rap</td><td>1.98</td></tr>",
                            "<tr><td>Roberto</td><td>Almeida</td><td>Rock</td><td>15.84</td></tr>",
                            "<tr><td>Roberto</td><td>Almeida</td><td>Metal</td><td>1.98</td></tr>",
                            "<tr><td>Roberto</td><td>Almeida</td><td>Alternative &amp; Punk</td><td>1.98</td></tr>",
                            "<tr><td>Roberto</td><td>Almeida</td><td>Latin</td><td>15.84</td></tr>",
                            "<tr><td>Roberto</td><td>Almeida</td><td>World</td><td>1.98</td></tr>",
                            "<tr><td>Fernanda</td><td>Ramos</td><td>Rock</td><td>10.89</td></tr>",
                            "<tr><td>Fernanda</td><td>Ramos</td><td>Metal</td><td>5.94</td></tr>",
                            "<tr><td>Fernanda</td><td>Ramos</td><td>Blues</td><td>5.94</td></tr>",
                            "<tr><td>Fernanda</td><td>Ramos</td><td>Latin</td><td>7.92</td></tr>",
                            "<tr><td>Fernanda</td><td>Ramos</td><td>Pop</td><td>0.99</td></tr>",
                            "<tr><td>Fernanda</td><td>Ramos</td><td>R&amp;B/Soul</td><td>1.98</td></tr>",
                            "<tr><td>Fernanda</td><td>Ramos</td><td>Classical</td><td>3.96</td></tr>",
                            "<tr><td>Mark</td><td>Philips</td><td>Rock</td><td>12.87</td></tr>",
                            "<tr><td>Mark</td><td>Philips</td><td>Jazz</td><td>1.98</td></tr>",
                            "<tr><td>Mark</td><td>Philips</td><td>Metal</td><td>1.98</td></tr>",
                            "<tr><td>Mark</td><td>Philips</td><td>Alternative &amp; Punk</td><td>7.92</td></tr>",
                            "<tr><td>Mark</td><td>Philips</td><td>Blues</td><td>1.98</td></tr>",
                            "<tr><td>Mark</td><td>Philips</td><td>Latin</td><td>4.95</td></tr>",
                            "<tr><td>Mark</td><td>Philips</td><td>Bossa Nova</td><td>0.99</td></tr>",
                            "<tr><td>Mark</td><td>Philips</td><td>R&amp;B/Soul</td><td>2.97</td></tr>",
                            "<tr><td>Mark</td><td>Philips</td><td>Electronica/Dance</td><td>0.99</td></tr>",
                            "<tr><td>Mark</td><td>Philips</td><td>World</td><td>0.99</td></tr>",
                            "<tr><td>Jennifer</td><td>Peterson</td><td>Rock</td><td>11.88</td></tr>",
                            "<tr><td>Jennifer</td><td>Peterson</td><td>Metal</td><td>4.95</td></tr>",
                            "<tr><td>Jennifer</td><td>Peterson</td><td>Latin</td><td>9.90</td></tr>",
                            "<tr><td>Jennifer</td><td>Peterson</td><td>Bossa Nova</td><td>1.98</td></tr>",
                            "<tr><td>Jennifer</td><td>Peterson</td><td>Electronica/Dance</td><td>2.97</td></tr>",
                            "<tr><td>Jennifer</td><td>Peterson</td><td>World</td><td>1.98</td></tr>",
                            "<tr><td>Jennifer</td><td>Peterson</td><td>Hip Hop/Rap</td><td>2.97</td></tr>",
                            "<tr><td>Jennifer</td><td>Peterson</td><td>Drama</td><td>1.99</td></tr>",
                            "<tr><td>Frank</td><td>Harris</td><td>Rock</td><td>10.89</td></tr>",
                            "<tr><td>Frank</td><td>Harris</td><td>Jazz</td><td>1.98</td></tr>",
                            "<tr><td>Frank</td><td>Harris</td><td>Metal</td><td>11.88</td></tr>",
                            "<tr><td>Frank</td><td>Harris</td><td>Blues</td><td>2.97</td></tr>",
                            "<tr><td>Frank</td><td>Harris</td><td>Latin</td><td>4.95</td></tr>",
                            "<tr><td>Frank</td><td>Harris</td><td>Reggae</td><td>1.98</td></tr>",
                            "<tr><td>Frank</td><td>Harris</td><td>Heavy Metal</td><td>2.97</td></tr>",
                            "<tr><td>Jack</td><td>Smith</td><td>Rock</td><td>7.92</td></tr>",
                            "<tr><td>Jack</td><td>Smith</td><td>Jazz</td><td>1.98</td></tr>",
                            "<tr><td>Jack</td><td>Smith</td><td>Metal</td><td>5.94</td></tr>",
                            "<tr><td>Jack</td><td>Smith</td><td>Alternative &amp; Punk</td><td>6.93</td></tr>",
                            "<tr><td>Jack</td><td>Smith</td><td>Latin</td><td>6.93</td></tr>",
                            "<tr><td>Jack</td><td>Smith</td><td>Soundtrack</td><td>0.99</td></tr>",
                            "<tr><td>Jack</td><td>Smith</td><td>Bossa Nova</td><td>1.98</td></tr>",
                            "<tr><td>Jack</td><td>Smith</td><td>Easy Listening</td><td>2.97</td></tr>",
                            "<tr><td>Jack</td><td>Smith</td><td>Science Fiction</td><td>1.99</td></tr>",
                            "<tr><td>Jack</td><td>Smith</td><td>TV Shows</td><td>1.99</td></tr>",
                            "<tr><td>Michelle</td><td>Brooks</td><td>Rock</td><td>18.81</td></tr>",
                            "<tr><td>Michelle</td><td>Brooks</td><td>Jazz</td><td>2.97</td></tr>",
                            "<tr><td>Michelle</td><td>Brooks</td><td>Metal</td><td>1.98</td></tr>",
                            "<tr><td>Michelle</td><td>Brooks</td><td>Blues</td><td>5.94</td></tr>",
                            "<tr><td>Michelle</td><td>Brooks</td><td>Latin</td><td>6.93</td></tr>",
                            "<tr><td>Michelle</td><td>Brooks</td><td>R&amp;B/Soul</td><td>0.99</td></tr>",
                            "<tr><td>Tim</td><td>Goyer</td><td>Rock</td><td>14.85</td></tr>",
                            "<tr><td>Tim</td><td>Goyer</td><td>Jazz</td><td>1.98</td></tr>",
                            "<tr><td>Tim</td><td>Goyer</td><td>Metal</td><td>2.97</td></tr>",
                            "<tr><td>Tim</td><td>Goyer</td><td>Alternative &amp; Punk</td><td>3.96</td></tr>",
                            "<tr><td>Tim</td><td>Goyer</td><td>Blues</td><td>2.97</td></tr>",
                            "<tr><td>Tim</td><td>Goyer</td><td>Latin</td><td>4.95</td></tr>",
                            "<tr><td>Tim</td><td>Goyer</td><td>Bossa Nova</td><td>2.97</td></tr>",
                            "<tr><td>Tim</td><td>Goyer</td><td>R&amp;B/Soul</td><td>1.98</td></tr>",
                            "<tr><td>Tim</td><td>Goyer</td><td>TV Shows</td><td>1.99</td></tr>",
                            "<tr><td>Dan</td><td>Miller</td><td>Rock</td><td>9.90</td></tr>",
                            "<tr><td>Dan</td><td>Miller</td><td>Jazz</td><td>3.96</td></tr>",
                            "<tr><td>Dan</td><td>Miller</td><td>Metal</td><td>1.98</td></tr>",
                            "<tr><td>Dan</td><td>Miller</td><td>Alternative &amp; Punk</td><td>3.96</td></tr>",
                            "<tr><td>Dan</td><td>Miller</td><td>Latin</td><td>13.86</td></tr>",
                            "<tr><td>Dan</td><td>Miller</td><td>Bossa Nova</td><td>1.98</td></tr>",
                            "<tr><td>Dan</td><td>Miller</td><td>TV Shows</td><td>3.98</td></tr>",
                            "<tr><td>Kathy</td><td>Chase</td><td>Rock</td><td>8.91</td></tr>",
                            "<tr><td>Kathy</td><td>Chase</td><td>Jazz</td><td>2.97</td></tr>",
                            "<tr><td>Kathy</td><td>Chase</td><td>Metal</td><td>4.95</td></tr>",
                            "<tr><td>Kathy</td><td>Chase</td><td>Alternative &amp; Punk</td><td>3.96</td></tr>",
                            "<tr><td>Kathy</td><td>Chase</td><td>Latin</td><td>6.93</td></tr>",
                            "<tr><td>Kathy</td><td>Chase</td><td>Reggae</td><td>3.96</td></tr>",
                            "<tr><td>Kathy</td><td>Chase</td><td>Pop</td><td>0.99</td></tr>",
                            "<tr><td>Kathy</td><td>Chase</td><td>Soundtrack</td><td>2.97</td></tr>",
                            "<tr><td>Kathy</td><td>Chase</td><td>R&amp;B/Soul</td><td>1.98</td></tr>",
                            "<tr><td>Heather</td><td>Leacock</td><td>Rock</td><td>6.93</td></tr>",
                            "<tr><td>Heather</td><td>Leacock</td><td>Jazz</td><td>2.97</td></tr>",
                            "<tr><td>Heather</td><td>Leacock</td><td>Metal</td><td>11.88</td></tr>",
                            "<tr><td>Heather</td><td>Leacock</td><td>Alternative &amp; Punk</td><td>5.94</td></tr>",
                            "<tr><td>Heather</td><td>Leacock</td><td>Rock And Roll</td><td>1.98</td></tr>",
                            "<tr><td>Heather</td><td>Leacock</td><td>Blues</td><td>0.99</td></tr>",
                            "<tr><td>Heather</td><td>Leacock</td><td>Latin</td><td>4.95</td></tr>",
                            "<tr><td>Heather</td><td>Leacock</td><td>TV Shows</td><td>3.98</td></tr>",
                            "<tr><td>John</td><td>Gordon</td><td>Rock</td><td>4.95</td></tr>",
                            "<tr><td>John</td><td>Gordon</td><td>Jazz</td><td>2.97</td></tr>",
                            "<tr><td>John</td><td>Gordon</td><td>Metal</td><td>6.93</td></tr>",
                            "<tr><td>John</td><td>Gordon</td><td>Alternative &amp; Punk</td><td>4.95</td></tr>",
                            "<tr><td>John</td><td>Gordon</td><td>Rock And Roll</td><td>0.99</td></tr>",
                            "<tr><td>John</td><td>Gordon</td><td>Blues</td><td>0.99</td></tr>",
                            "<tr><td>John</td><td>Gordon</td><td>Latin</td><td>11.88</td></tr>",
                            "<tr><td>John</td><td>Gordon</td><td>Pop</td><td>1.98</td></tr>",
                            "<tr><td>John</td><td>Gordon</td><td>R&amp;B/Soul</td><td>1.98</td></tr>",
                            "<tr><td>Frank</td><td>Ralston</td><td>Rock</td><td>11.88</td></tr>",
                            "<tr><td>Frank</td><td>Ralston</td><td>Metal</td><td>1.98</td></tr>",
                            "<tr><td>Frank</td><td>Ralston</td><td>Alternative &amp; Punk</td><td>0.99</td></tr>",
                            "<tr><td>Frank</td><td>Ralston</td><td>Latin</td><td>4.95</td></tr>",
                            "<tr><td>Frank</td><td>Ralston</td><td>R&amp;B/Soul</td><td>1.98</td></tr>",
                            "<tr><td>Frank</td><td>Ralston</td><td>Hip Hop/Rap</td><td>0.99</td></tr>",
                            "<tr><td>Frank</td><td>Ralston</td><td>TV Shows</td><td>1.99</td></tr>",
                            "<tr><td>Frank</td><td>Ralston</td><td>Comedy</td><td>9.95</td></tr>",
                            "<tr><td>Frank</td><td>Ralston</td><td>Alternative</td><td>4.95</td></tr>",
                            "<tr><td>Frank</td><td>Ralston</td><td>Classical</td><td>3.96</td></tr>",
                            "<tr><td>Victor</td><td>Stevens</td><td>Rock</td><td>13.86</td></tr>",
                            "<tr><td>Victor</td><td>Stevens</td><td>Metal</td><td>2.97</td></tr>",
                            "<tr><td>Victor</td><td>Stevens</td><td>Alternative &amp; Punk</td><td>3.96</td></tr>",
                            "<tr><td>Victor</td><td>Stevens</td><td>Latin</td><td>6.93</td></tr>",
                            "<tr><td>Victor</td><td>Stevens</td><td>R&amp;B/Soul</td><td>2.97</td></tr>",
                            "<tr><td>Victor</td><td>Stevens</td><td>Hip Hop/Rap</td><td>1.98</td></tr>",
                            "<tr><td>Victor</td><td>Stevens</td><td>TV Shows</td><td>7.96</td></tr>",
                            "<tr><td>Victor</td><td>Stevens</td><td>Comedy</td><td>1.99</td></tr>",
                            "<tr><td>Richard</td><td>Cunningham</td><td>Rock</td><td>13.86</td></tr>",
                            "<tr><td>Richard</td><td>Cunningham</td><td>Metal</td><td>1.98</td></tr>",
                            "<tr><td>Richard</td><td>Cunningham</td><td>Alternative &amp; Punk</td><td>4.95</td></tr>",
                            "<tr><td>Richard</td><td>Cunningham</td><td>Latin</td><td>6.93</td></tr>",
                            "<tr><td>Richard</td><td>Cunningham</td><td>TV Shows</td><td>5.97</td></tr>",
                            "<tr><td>Richard</td><td>Cunningham</td><td>Sci Fi &amp; Fantasy</td><td>1.99</td></tr>",
                            "<tr><td>Richard</td><td>Cunningham</td><td>Drama</td><td>11.94</td></tr>",
                            "<tr><td>Patrick</td><td>Gray</td><td>Rock</td><td>15.84</td></tr>",
                            "<tr><td>Patrick</td><td>Gray</td><td>Metal</td><td>4.95</td></tr>",
                            "<tr><td>Patrick</td><td>Gray</td><td>Alternative &amp; Punk</td><td>1.98</td></tr>",
                            "<tr><td>Patrick</td><td>Gray</td><td>Blues</td><td>0.99</td></tr>",
                            "<tr><td>Patrick</td><td>Gray</td><td>Latin</td><td>5.94</td></tr>",
                            "<tr><td>Patrick</td><td>Gray</td><td>Pop</td><td>1.98</td></tr>",
                            "<tr><td>Patrick</td><td>Gray</td><td>Heavy Metal</td><td>0.99</td></tr>",
                            "<tr><td>Patrick</td><td>Gray</td><td>Hip Hop/Rap</td><td>0.99</td></tr>",
                            "<tr><td>Patrick</td><td>Gray</td><td>Classical</td><td>3.96</td></tr>",
                            "<tr><td>Julia</td><td>Barnett</td><td>Rock</td><td>16.83</td></tr>",
                            "<tr><td>Julia</td><td>Barnett</td><td>Metal</td><td>2.97</td></tr>",
                            "<tr><td>Julia</td><td>Barnett</td><td>Alternative &amp; Punk</td><td>7.92</td></tr>",
                            "<tr><td>Julia</td><td>Barnett</td><td>Latin</td><td>3.96</td></tr>",
                            "<tr><td>Julia</td><td>Barnett</td><td>Sci Fi &amp; Fantasy</td><td>7.96</td></tr>",
                            "<tr><td>Julia</td><td>Barnett</td><td>Comedy</td><td>3.98</td></tr>",
                            "<tr><td>Robert</td><td>Brown</td><td>Rock</td><td>24.75</td></tr>",
                            "<tr><td>Robert</td><td>Brown</td><td>Metal</td><td>1.98</td></tr>",
                            "<tr><td>Robert</td><td>Brown</td><td>Alternative &amp; Punk</td><td>3.96</td></tr>",
                            "<tr><td>Robert</td><td>Brown</td><td>Latin</td><td>6.93</td></tr>",
                            "<tr><td>Edward</td><td>Francis</td><td>Rock</td><td>18.81</td></tr>",
                            "<tr><td>Edward</td><td>Francis</td><td>Jazz</td><td>1.98</td></tr>",
                            "<tr><td>Edward</td><td>Francis</td><td>Metal</td><td>1.98</td></tr>",
                            "<tr><td>Edward</td><td>Francis</td><td>Alternative &amp; Punk</td><td>8.91</td></tr>",
                            "<tr><td>Edward</td><td>Francis</td><td>Reggae</td><td>3.96</td></tr>",
                            "<tr><td>Edward</td><td>Francis</td><td>Hip Hop/Rap</td><td>1.98</td></tr>",
                            "<tr><td>Martha</td><td>Silk</td><td>Rock</td><td>5.94</td></tr>",
                            "<tr><td>Martha</td><td>Silk</td><td>Jazz</td><td>1.98</td></tr>",
                            "<tr><td>Martha</td><td>Silk</td><td>Metal</td><td>6.93</td></tr>",
                            "<tr><td>Martha</td><td>Silk</td><td>Alternative &amp; Punk</td><td>7.92</td></tr>",
                            "<tr><td>Martha</td><td>Silk</td><td>Latin</td><td>12.87</td></tr>",
                            "<tr><td>Martha</td><td>Silk</td><td>World</td><td>1.98</td></tr>",
                            "<tr><td>Aaron</td><td>Mitchell</td><td>Rock</td><td>8.91</td></tr>",
                            "<tr><td>Aaron</td><td>Mitchell</td><td>Jazz</td><td>1.98</td></tr>",
                            "<tr><td>Aaron</td><td>Mitchell</td><td>Metal</td><td>6.93</td></tr>",
                            "<tr><td>Aaron</td><td>Mitchell</td><td>Blues</td><td>1.98</td></tr>",
                            "<tr><td>Aaron</td><td>Mitchell</td><td>Latin</td><td>13.86</td></tr>",
                            "<tr><td>Aaron</td><td>Mitchell</td><td>Reggae</td><td>2.97</td></tr>",
                            "<tr><td>Aaron</td><td>Mitchell</td><td>World</td><td>0.99</td></tr>",
                            "<tr><td>Ellie</td><td>Sullivan</td><td>Rock</td><td>18.81</td></tr>",
                            "<tr><td>Ellie</td><td>Sullivan</td><td>Metal</td><td>4.95</td></tr>",
                            "<tr><td>Ellie</td><td>Sullivan</td><td>Alternative &amp; Punk</td><td>2.97</td></tr>",
                            "<tr><td>Ellie</td><td>Sullivan</td><td>Latin</td><td>7.92</td></tr>",
                            "<tr><td>Ellie</td><td>Sullivan</td><td>R&amp;B/Soul</td><td>1.98</td></tr>",
                            "<tr><td>Ellie</td><td>Sullivan</td><td>Classical</td><td>0.99</td></tr>",
                            "<tr><td>João</td><td>Fernandes</td><td>Rock</td><td>14.85</td></tr>",
                            "<tr><td>João</td><td>Fernandes</td><td>Metal</td><td>0.99</td></tr>",
                            "<tr><td>João</td><td>Fernandes</td><td>Alternative &amp; Punk</td><td>4.95</td></tr>",
                            "<tr><td>João</td><td>Fernandes</td><td>Latin</td><td>5.94</td></tr>",
                            "<tr><td>João</td><td>Fernandes</td><td>Pop</td><td>3.96</td></tr>",
                            "<tr><td>João</td><td>Fernandes</td><td>R&amp;B/Soul</td><td>1.98</td></tr>",
                            "<tr><td>João</td><td>Fernandes</td><td>Electronica/Dance</td><td>0.99</td></tr>",
                            "<tr><td>João</td><td>Fernandes</td><td>World</td><td>1.98</td></tr>",
                            "<tr><td>João</td><td>Fernandes</td><td>TV Shows</td><td>1.99</td></tr>",
                            "<tr><td>João</td><td>Fernandes</td><td>Sci Fi &amp; Fantasy</td><td>1.99</td></tr>",
                            "<tr><td>Madalena</td><td>Sampaio</td><td>Rock</td><td>15.84</td></tr>",
                            "<tr><td>Madalena</td><td>Sampaio</td><td>Jazz</td><td>1.98</td></tr>",
                            "<tr><td>Madalena</td><td>Sampaio</td><td>Metal</td><td>9.90</td></tr>",
                            "<tr><td>Madalena</td><td>Sampaio</td><td>Blues</td><td>0.99</td></tr>",
                            "<tr><td>Madalena</td><td>Sampaio</td><td>Latin</td><td>6.93</td></tr>",
                            "<tr><td>Madalena</td><td>Sampaio</td><td>Heavy Metal</td><td>1.98</td></tr>",
                            "<tr><td>Hannah</td><td>Schneider</td><td>Rock</td><td>12.87</td></tr>",
                            "<tr><td>Hannah</td><td>Schneider</td><td>Metal</td><td>17.82</td></tr>",
                            "<tr><td>Hannah</td><td>Schneider</td><td>Alternative &amp; Punk</td><td>1.98</td></tr>",
                            "<tr><td>Hannah</td><td>Schneider</td><td>Blues</td><td>0.99</td></tr>",
                            "<tr><td>Hannah</td><td>Schneider</td><td>Latin</td><td>0.99</td></tr>",
                            "<tr><td>Hannah</td><td>Schneider</td><td>Heavy Metal</td><td>2.97</td></tr>",
                            "<tr><td>Fynn</td><td>Zimmermann</td><td>Rock</td><td>10.89</td></tr>",
                            "<tr><td>Fynn</td><td>Zimmermann</td><td>Jazz</td><td>0.99</td></tr>",
                            "<tr><td>Fynn</td><td>Zimmermann</td><td>Metal</td><td>2.97</td></tr>",
                            "<tr><td>Fynn</td><td>Zimmermann</td><td>Alternative &amp; Punk</td><td>3.96</td></tr>",
                            "<tr><td>Fynn</td><td>Zimmermann</td><td>Latin</td><td>8.91</td></tr>",
                            "<tr><td>Fynn</td><td>Zimmermann</td><td>Soundtrack</td><td>1.98</td></tr>",
                            "<tr><td>Fynn</td><td>Zimmermann</td><td>Easy Listening</td><td>1.98</td></tr>",
                            "<tr><td>Fynn</td><td>Zimmermann</td><td>Science Fiction</td><td>3.98</td></tr>",
                            "<tr><td>Fynn</td><td>Zimmermann</td><td>TV Shows</td><td>5.97</td></tr>",
                            "<tr><td>Fynn</td><td>Zimmermann</td><td>Drama</td><td>1.99</td></tr>",
                            "<tr><td>Niklas</td><td>Schröder</td><td>Rock</td><td>20.79</td></tr>",
                            "<tr><td>Niklas</td><td>Schröder</td><td>Jazz</td><td>0.99</td></tr>",
                            "<tr><td>Niklas</td><td>Schröder</td><td>Metal</td><td>1.98</td></tr>",
                            "<tr><td>Niklas</td><td>Schröder</td><td>Alternative &amp; Punk</td><td>4.95</td></tr>",
                            "<tr><td>Niklas</td><td>Schröder</td><td>Blues</td><td>3.96</td></tr>",
                            "<tr><td>Niklas</td><td>Schröder</td><td>Latin</td><td>3.96</td></tr>",
                            "<tr><td>Niklas</td><td>Schröder</td><td>Alternative</td><td>0.99</td></tr>",
                            "<tr><td>Camille</td><td>Bernard</td><td>Rock</td><td>12.87</td></tr>",
                            "<tr><td>Camille</td><td>Bernard</td><td>Jazz</td><td>1.98</td></tr>",
                            "<tr><td>Camille</td><td>Bernard</td><td>Metal</td><td>2.97</td></tr>",
                            "<tr><td>Camille</td><td>Bernard</td><td>Alternative &amp; Punk</td><td>9.90</td></tr>",
                            "<tr><td>Camille</td><td>Bernard</td><td>Latin</td><td>6.93</td></tr>",
                            "<tr><td>Camille</td><td>Bernard</td><td>Drama</td><td>1.99</td></tr>",
                            "<tr><td>Camille</td><td>Bernard</td><td>Classical</td><td>1.98</td></tr>",
                            "<tr><td>Dominique</td><td>Lefebvre</td><td>Rock</td><td>16.83</td></tr>",
                            "<tr><td>Dominique</td><td>Lefebvre</td><td>Jazz</td><td>5.94</td></tr>",
                            "<tr><td>Dominique</td><td>Lefebvre</td><td>Metal</td><td>0.99</td></tr>",
                            "<tr><td>Dominique</td><td>Lefebvre</td><td>Alternative &amp; Punk</td><td>5.94</td></tr>",
                            "<tr><td>Dominique</td><td>Lefebvre</td><td>Latin</td><td>5.94</td></tr>",
                            "<tr><td>Dominique</td><td>Lefebvre</td><td>Bossa Nova</td><td>0.99</td></tr>",
                            "<tr><td>Dominique</td><td>Lefebvre</td><td>Drama</td><td>1.99</td></tr>",
                            "<tr><td>Marc</td><td>Dubois</td><td>Rock</td><td>9.90</td></tr>",
                            "<tr><td>Marc</td><td>Dubois</td><td>Metal</td><td>1.98</td></tr>",
                            "<tr><td>Marc</td><td>Dubois</td><td>Alternative &amp; Punk</td><td>4.95</td></tr>",
                            "<tr><td>Marc</td><td>Dubois</td><td>Blues</td><td>1.98</td></tr>",
                            "<tr><td>Marc</td><td>Dubois</td><td>Latin</td><td>8.91</td></tr>",
                            "<tr><td>Marc</td><td>Dubois</td><td>Reggae</td><td>0.99</td></tr>",
                            "<tr><td>Marc</td><td>Dubois</td><td>Pop</td><td>1.98</td></tr>",
                            "<tr><td>Marc</td><td>Dubois</td><td>Soundtrack</td><td>4.95</td></tr>",
                            "<tr><td>Marc</td><td>Dubois</td><td>Classical</td><td>1.98</td></tr>",
                            "<tr><td>Wyatt</td><td>Girard</td><td>Rock</td><td>6.93</td></tr>",
                            "<tr><td>Wyatt</td><td>Girard</td><td>Jazz</td><td>1.98</td></tr>",
                            "<tr><td>Wyatt</td><td>Girard</td><td>Metal</td><td>13.86</td></tr>",
                            "<tr><td>Wyatt</td><td>Girard</td><td>Alternative &amp; Punk</td><td>7.92</td></tr>",
                            "<tr><td>Wyatt</td><td>Girard</td><td>Rock And Roll</td><td>0.99</td></tr>",
                            "<tr><td>Wyatt</td><td>Girard</td><td>Latin</td><td>3.96</td></tr>",
                            "<tr><td>Wyatt</td><td>Girard</td><td>Sci Fi &amp; Fantasy</td><td>3.98</td></tr>",
                            "<tr><td>Isabelle</td><td>Mercier</td><td>Rock</td><td>17.82</td></tr>",
                            "<tr><td>Isabelle</td><td>Mercier</td><td>Jazz</td><td>0.99</td></tr>",
                            "<tr><td>Isabelle</td><td>Mercier</td><td>Alternative &amp; Punk</td><td>1.98</td></tr>",
                            "<tr><td>Isabelle</td><td>Mercier</td><td>Electronica/Dance</td><td>1.98</td></tr>",
                            "<tr><td>Isabelle</td><td>Mercier</td><td>Hip Hop/Rap</td><td>1.98</td></tr>",
                            "<tr><td>Isabelle</td><td>Mercier</td><td>TV Shows</td><td>1.99</td></tr>",
                            "<tr><td>Isabelle</td><td>Mercier</td><td>Drama</td><td>3.98</td></tr>",
                            "<tr><td>Isabelle</td><td>Mercier</td><td>Alternative</td><td>3.96</td></tr>",
                            "<tr><td>Isabelle</td><td>Mercier</td><td>Classical</td><td>5.94</td></tr>",
                            "<tr><td>Terhi</td><td>Hämäläinen</td><td>Rock</td><td>17.82</td></tr>",
                            "<tr><td>Terhi</td><td>Hämäläinen</td><td>Jazz</td><td>1.98</td></tr>",
                            "<tr><td>Terhi</td><td>Hämäläinen</td><td>Metal</td><td>1.98</td></tr>",
                            "<tr><td>Terhi</td><td>Hämäläinen</td><td>Alternative &amp; Punk</td><td>1.98</td></tr>",
                            "<tr><td>Terhi</td><td>Hämäläinen</td><td>Latin</td><td>8.91</td></tr>",
                            "<tr><td>Terhi</td><td>Hämäläinen</td><td>Reggae</td><td>0.99</td></tr>",
                            "<tr><td>Terhi</td><td>Hämäläinen</td><td>Sci Fi &amp; Fantasy</td><td>7.96</td></tr>",
                            "<tr><td>Ladislav</td><td>Kovács</td><td>Rock</td><td>10.89</td></tr>",
                            "<tr><td>Ladislav</td><td>Kovács</td><td>Metal</td><td>4.95</td></tr>",
                            "<tr><td>Ladislav</td><td>Kovács</td><td>Alternative &amp; Punk</td><td>2.97</td></tr>",
                            "<tr><td>Ladislav</td><td>Kovács</td><td>Blues</td><td>1.98</td></tr>",
                            "<tr><td>Ladislav</td><td>Kovács</td><td>Latin</td><td>2.97</td></tr>",
                            "<tr><td>Ladislav</td><td>Kovács</td><td>R&amp;B/Soul</td><td>4.95</td></tr>",
                            "<tr><td>Ladislav</td><td>Kovács</td><td>Electronica/Dance</td><td>0.99</td></tr>",
                            "<tr><td>Ladislav</td><td>Kovács</td><td>TV Shows</td><td>7.96</td></tr>",
                            "<tr><td>Ladislav</td><td>Kovács</td><td>Sci Fi &amp; Fantasy</td><td>1.99</td></tr>",
                            "<tr><td>Ladislav</td><td>Kovács</td><td>Drama</td><td>3.98</td></tr>",
                            "<tr><td>Ladislav</td><td>Kovács</td><td>Comedy</td><td>1.99</td></tr>",
                            "<tr><td>Hugh</td><td>O&#39;Reilly</td><td>Rock</td><td>11.88</td></tr>",
                            "<tr><td>Hugh</td><td>O&#39;Reilly</td><td>Jazz</td><td>2.97</td></tr>",
                            "<tr><td>Hugh</td><td>O&#39;Reilly</td><td>Metal</td><td>2.97</td></tr>",
                            "<tr><td>Hugh</td><td>O&#39;Reilly</td><td>Alternative &amp; Punk</td><td>3.96</td></tr>",
                            "<tr><td>Hugh</td><td>O&#39;Reilly</td><td>Blues</td><td>0.99</td></tr>",
                            "<tr><td>Hugh</td><td>O&#39;Reilly</td><td>Latin</td><td>6.93</td></tr>",
                            "<tr><td>Hugh</td><td>O&#39;Reilly</td><td>TV Shows</td><td>13.93</td></tr>",
                            "<tr><td>Hugh</td><td>O&#39;Reilly</td><td>Drama</td><td>1.99</td></tr>",
                            "<tr><td>Lucas</td><td>Mancini</td><td>Rock</td><td>17.82</td></tr>",
                            "<tr><td>Lucas</td><td>Mancini</td><td>Metal</td><td>0.99</td></tr>",
                            "<tr><td>Lucas</td><td>Mancini</td><td>Alternative &amp; Punk</td><td>10.89</td></tr>",
                            "<tr><td>Lucas</td><td>Mancini</td><td>Blues</td><td>3.96</td></tr>",
                            "<tr><td>Lucas</td><td>Mancini</td><td>Latin</td><td>1.98</td></tr>",
                            "<tr><td>Lucas</td><td>Mancini</td><td>Classical</td><td>1.98</td></tr>",
                            "<tr><td>Johannes</td><td>Van der Berg</td><td>Rock</td><td>17.82</td></tr>",
                            "<tr><td>Johannes</td><td>Van der Berg</td><td>Metal</td><td>1.98</td></tr>",
                            "<tr><td>Johannes</td><td>Van der Berg</td><td>Alternative &amp; Punk</td><td>4.95</td></tr>",
                            "<tr><td>Johannes</td><td>Van der Berg</td><td>Blues</td><td>3.96</td></tr>",
                            "<tr><td>Johannes</td><td>Van der Berg</td><td>Latin</td><td>2.97</td></tr>",
                            "<tr><td>Johannes</td><td>Van der Berg</td><td>Pop</td><td>2.97</td></tr>",
                            "<tr><td>Johannes</td><td>Van der Berg</td><td>Sci Fi &amp; Fantasy</td><td>5.97</td></tr>",
                            "<tr><td>Stanisław</td><td>Wójcik</td><td>Rock</td><td>21.78</td></tr>",
                            "<tr><td>Stanisław</td><td>Wójcik</td><td>Jazz</td><td>0.99</td></tr>",
                            "<tr><td>Stanisław</td><td>Wójcik</td><td>Alternative &amp; Punk</td><td>6.93</td></tr>",
                            "<tr><td>Stanisław</td><td>Wójcik</td><td>Blues</td><td>0.99</td></tr>",
                            "<tr><td>Stanisław</td><td>Wójcik</td><td>Latin</td><td>6.93</td></tr>",
                            "<tr><td>Enrique</td><td>Muñoz</td><td>Rock</td><td>21.78</td></tr>",
                            "<tr><td>Enrique</td><td>Muñoz</td><td>Jazz</td><td>1.98</td></tr>",
                            "<tr><td>Enrique</td><td>Muñoz</td><td>Metal</td><td>2.97</td></tr>",
                            "<tr><td>Enrique</td><td>Muñoz</td><td>Alternative &amp; Punk</td><td>3.96</td></tr>",
                            "<tr><td>Enrique</td><td>Muñoz</td><td>Latin</td><td>3.96</td></tr>",
                            "<tr><td>Enrique</td><td>Muñoz</td><td>Reggae</td><td>1.98</td></tr>",
                            "<tr><td>Enrique</td><td>Muñoz</td><td>Hip Hop/Rap</td><td>0.99</td></tr>",
                            "<tr><td>Joakim</td><td>Johansson</td><td>Rock</td><td>9.90</td></tr>",
                            "<tr><td>Joakim</td><td>Johansson</td><td>Jazz</td><td>0.99</td></tr>",
                            "<tr><td>Joakim</td><td>Johansson</td><td>Metal</td><td>6.93</td></tr>",
                            "<tr><td>Joakim</td><td>Johansson</td><td>Alternative &amp; Punk</td><td>5.94</td></tr>",
                            "<tr><td>Joakim</td><td>Johansson</td><td>Latin</td><td>11.88</td></tr>",
                            "<tr><td>Joakim</td><td>Johansson</td><td>World</td><td>0.99</td></tr>",
                            "<tr><td>Joakim</td><td>Johansson</td><td>TV Shows</td><td>1.99</td></tr>",
                            "<tr><td>Emma</td><td>Jones</td><td>Rock</td><td>7.92</td></tr>",
                            "<tr><td>Emma</td><td>Jones</td><td>Metal</td><td>7.92</td></tr>",
                            "<tr><td>Emma</td><td>Jones</td><td>Alternative &amp; Punk</td><td>1.98</td></tr>",
                            "<tr><td>Emma</td><td>Jones</td><td>Latin</td><td>14.85</td></tr>",
                            "<tr><td>Emma</td><td>Jones</td><td>Reggae</td><td>4.95</td></tr>",
                            "<tr><td>Phil</td><td>Hughes</td><td>Rock</td><td>17.82</td></tr>",
                            "<tr><td>Phil</td><td>Hughes</td><td>Jazz</td><td>1.98</td></tr>",
                            "<tr><td>Phil</td><td>Hughes</td><td>Metal</td><td>5.94</td></tr>",
                            "<tr><td>Phil</td><td>Hughes</td><td>Alternative &amp; Punk</td><td>2.97</td></tr>",
                            "<tr><td>Phil</td><td>Hughes</td><td>Latin</td><td>6.93</td></tr>",
                            "<tr><td>Phil</td><td>Hughes</td><td>R&amp;B/Soul</td><td>1.98</td></tr>",
                            "<tr><td>Steve</td><td>Murray</td><td>Rock</td><td>10.89</td></tr>",
                            "<tr><td>Steve</td><td>Murray</td><td>Jazz</td><td>1.98</td></tr>",
                            "<tr><td>Steve</td><td>Murray</td><td>Metal</td><td>5.94</td></tr>",
                            "<tr><td>Steve</td><td>Murray</td><td>Alternative &amp; Punk</td><td>3.96</td></tr>",
                            "<tr><td>Steve</td><td>Murray</td><td>Latin</td><td>8.91</td></tr>",
                            "<tr><td>Steve</td><td>Murray</td><td>Pop</td><td>1.98</td></tr>",
                            "<tr><td>Steve</td><td>Murray</td><td>World</td><td>0.99</td></tr>",
                            "<tr><td>Steve</td><td>Murray</td><td>Hip Hop/Rap</td><td>2.97</td></tr>",
                            "<tr><td>Mark</td><td>Taylor</td><td>Rock</td><td>21.78</td></tr>",
                            "<tr><td>Mark</td><td>Taylor</td><td>Metal</td><td>7.92</td></tr>",
                            "<tr><td>Mark</td><td>Taylor</td><td>Blues</td><td>0.99</td></tr>",
                            "<tr><td>Mark</td><td>Taylor</td><td>Latin</td><td>1.98</td></tr>",
                            "<tr><td>Mark</td><td>Taylor</td><td>Reggae</td><td>1.98</td></tr>",
                            "<tr><td>Mark</td><td>Taylor</td><td>Heavy Metal</td><td>2.97</td></tr>",
                            "<tr><td>Diego</td><td>Gutiérrez</td><td>Rock</td><td>8.91</td></tr>",
                            "<tr><td>Diego</td><td>Gutiérrez</td><td>Jazz</td><td>1.98</td></tr>",
                            "<tr><td>Diego</td><td>Gutiérrez</td><td>Metal</td><td>6.93</td></tr>",
                            "<tr><td>Diego</td><td>Gutiérrez</td><td>Alternative &amp; Punk</td><td>8.91</td></tr>",
                            "<tr><td>Diego</td><td>Gutiérrez</td><td>Latin</td><td>7.92</td></tr>",
                            "<tr><td>Diego</td><td>Gutiérrez</td><td>Soundtrack</td><td>0.99</td></tr>",
                            "<tr><td>Diego</td><td>Gutiérrez</td><td>Easy Listening</td><td>1.98</td></tr>",
                            "<tr><td>Luis</td><td>Rojas</td><td>Rock</td><td>8.91</td></tr>",
                            "<tr><td>Luis</td><td>Rojas</td><td>Metal</td><td>2.97</td></tr>",
                            "<tr><td>Luis</td><td>Rojas</td><td>Alternative &amp; Punk</td><td>1.98</td></tr>",
                            "<tr><td>Luis</td><td>Rojas</td><td>Blues</td><td>1.98</td></tr>",
                            "<tr><td>Luis</td><td>Rojas</td><td>Latin</td><td>7.92</td></tr>",
                            "<tr><td>Luis</td><td>Rojas</td><td>Soundtrack</td><td>0.99</td></tr>",
                            "<tr><td>Luis</td><td>Rojas</td><td>Easy Listening</td><td>2.97</td></tr>",
                            "<tr><td>Luis</td><td>Rojas</td><td>Science Fiction</td><td>3.98</td></tr>",
                            "<tr><td>Luis</td><td>Rojas</td><td>TV Shows</td><td>3.98</td></tr>",
                            "<tr><td>Luis</td><td>Rojas</td><td>Sci Fi &amp; Fantasy</td><td>1.99</td></tr>",
                            "<tr><td>Luis</td><td>Rojas</td><td>Drama</td><td>7.96</td></tr>",
                            "<tr><td>Luis</td><td>Rojas</td><td>Classical</td><td>0.99</td></tr>",
                            "<tr><td>Manoj</td><td>Pareek</td><td>Rock</td><td>12.87</td></tr>",
                            "<tr><td>Manoj</td><td>Pareek</td><td>Jazz</td><td>4.95</td></tr>",
                            "<tr><td>Manoj</td><td>Pareek</td><td>Metal</td><td>5.94</td></tr>",
                            "<tr><td>Manoj</td><td>Pareek</td><td>Alternative &amp; Punk</td><td>2.97</td></tr>",
                            "<tr><td>Manoj</td><td>Pareek</td><td>Blues</td><td>2.97</td></tr>",
                            "<tr><td>Manoj</td><td>Pareek</td><td>Latin</td><td>4.95</td></tr>",
                            "<tr><td>Manoj</td><td>Pareek</td><td>TV Shows</td><td>1.99</td></tr>",
                            "<tr><td>Manoj</td><td>Pareek</td><td>Classical</td><td>1.98</td></tr>",
                            "<tr><td>Puja</td><td>Srivastava</td><td>Rock</td><td>11.88</td></tr>",
                            "<tr><td>Puja</td><td>Srivastava</td><td>Jazz</td><td>4.95</td></tr>",
                            "<tr><td>Puja</td><td>Srivastava</td><td>Metal</td><td>1.98</td></tr>",
                            "<tr><td>Puja</td><td>Srivastava</td><td>Alternative &amp; Punk</td><td>7.92</td></tr>",
                            "<tr><td>Puja</td><td>Srivastava</td><td>Latin</td><td>3.96</td></tr>",
                            "<tr><td>Puja</td><td>Srivastava</td><td>R&amp;B/Soul</td><td>3.96</td></tr>",
                            "<tr><td>Puja</td><td>Srivastava</td><td>Sci Fi &amp; Fantasy</td><td>1.99</td></tr>",
                            "</table>"
                        ]
                    }
                }
            ],
            "execution_count": 6
        },
        {
            "cell_type": "code",
            "source": [
                "-- Obtener las playlists que contengan a los tracks de mayor duración\r\n",
                "SELECT p.PlaylistId, p.Name\r\n",
                "FROM Playlist p\r\n",
                "INNER JOIN PlaylistTrack ptr on ptr.PlaylistId = p.PlaylistId\r\n",
                "INNER JOIN Track t on t.TrackId = ptr.TrackId\r\n",
                "WHERE t.TrackId in (SELECT TrackId \r\n",
                "                    FROM Track \r\n",
                "                    WHERE Milliseconds = (SELECT MAX(Milliseconds) FROM Track))\r\n",
                "GROUP BY p.PlaylistId, p.Name"
            ],
            "metadata": {
                "language": "sql",
                "azdata_cell_guid": "2d14cf3b-bf19-4000-8aac-c80863149a6f"
            },
            "outputs": [
                {
                    "output_type": "display_data",
                    "data": {
                        "text/html": "(2 rows affected)"
                    },
                    "metadata": {}
                },
                {
                    "output_type": "display_data",
                    "data": {
                        "text/html": "Total execution time: 00:00:00.023"
                    },
                    "metadata": {}
                },
                {
                    "output_type": "execute_result",
                    "metadata": {},
                    "execution_count": 7,
                    "data": {
                        "application/vnd.dataresource+json": {
                            "schema": {
                                "fields": [
                                    {
                                        "name": "PlaylistId"
                                    },
                                    {
                                        "name": "Name"
                                    }
                                ]
                            },
                            "data": [
                                {
                                    "PlaylistId": "3",
                                    "Name": "TV Shows"
                                },
                                {
                                    "PlaylistId": "10",
                                    "Name": "TV Shows"
                                }
                            ]
                        },
                        "text/html": [
                            "<table>",
                            "<tr><th>PlaylistId</th><th>Name</th></tr>",
                            "<tr><td>3</td><td>TV Shows</td></tr>",
                            "<tr><td>10</td><td>TV Shows</td></tr>",
                            "</table>"
                        ]
                    }
                }
            ],
            "execution_count": 7
        }
    ]
}