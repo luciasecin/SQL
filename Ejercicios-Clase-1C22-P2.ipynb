{
    "metadata": {
        "kernelspec": {
            "name": "SQL",
            "display_name": "SQL",
            "language": "sql"
        },
        "language_info": {
            "name": "sql",
            "version": ""
        }
    },
    "nbformat_minor": 2,
    "nbformat": 4,
    "cells": [
        {
            "cell_type": "code",
            "source": [
                "USE Chinook;"
            ],
            "metadata": {
                "azdata_cell_guid": "61bc8b13-bcd7-4262-a763-d0670c1805d8",
                "language": "sql"
            },
            "outputs": [
                {
                    "output_type": "display_data",
                    "data": {
                        "text/html": "Commands completed successfully."
                    },
                    "metadata": {}
                },
                {
                    "output_type": "display_data",
                    "data": {
                        "text/html": "Total execution time: 00:00:00"
                    },
                    "metadata": {}
                }
            ],
            "execution_count": 2
        },
        {
            "cell_type": "code",
            "source": [
                "-- Obtener el dinero recaudado por cada empleado durante cada a˜no.\r\n",
                "\r\n",
                "SELECT e.EmployeeId, YEAR(i.InvoiceDate) as 'Year', SUM(i.Total) as 'Total'\r\n",
                "FROM Employee e\r\n",
                "INNER JOIN Customer c ON c.SupportRepId = e.EmployeeId\r\n",
                "INNER JOIN Invoice i ON i.CustomerId = c.CustomerId\r\n",
                "GROUP BY e.EmployeeId, YEAR(i.InvoiceDate)"
            ],
            "metadata": {
                "azdata_cell_guid": "03590f5c-0de1-41f9-a9bc-ac9b3a555001",
                "language": "sql"
            },
            "outputs": [
                {
                    "output_type": "display_data",
                    "data": {
                        "text/html": "(15 rows affected)"
                    },
                    "metadata": {}
                },
                {
                    "output_type": "display_data",
                    "data": {
                        "text/html": "Total execution time: 00:00:00.022"
                    },
                    "metadata": {}
                },
                {
                    "output_type": "execute_result",
                    "metadata": {},
                    "execution_count": 3,
                    "data": {
                        "application/vnd.dataresource+json": {
                            "schema": {
                                "fields": [
                                    {
                                        "name": "EmployeeId"
                                    },
                                    {
                                        "name": "Year"
                                    },
                                    {
                                        "name": "Total"
                                    }
                                ]
                            },
                            "data": [
                                {
                                    "EmployeeId": "3",
                                    "Year": "2009",
                                    "Total": "123.75"
                                },
                                {
                                    "EmployeeId": "4",
                                    "Year": "2009",
                                    "Total": "161.37"
                                },
                                {
                                    "EmployeeId": "5",
                                    "Year": "2009",
                                    "Total": "164.34"
                                },
                                {
                                    "EmployeeId": "3",
                                    "Year": "2010",
                                    "Total": "221.92"
                                },
                                {
                                    "EmployeeId": "4",
                                    "Year": "2010",
                                    "Total": "122.76"
                                },
                                {
                                    "EmployeeId": "5",
                                    "Year": "2010",
                                    "Total": "136.77"
                                },
                                {
                                    "EmployeeId": "3",
                                    "Year": "2011",
                                    "Total": "184.34"
                                },
                                {
                                    "EmployeeId": "4",
                                    "Year": "2011",
                                    "Total": "125.77"
                                },
                                {
                                    "EmployeeId": "5",
                                    "Year": "2011",
                                    "Total": "159.47"
                                },
                                {
                                    "EmployeeId": "3",
                                    "Year": "2012",
                                    "Total": "146.60"
                                },
                                {
                                    "EmployeeId": "4",
                                    "Year": "2012",
                                    "Total": "197.20"
                                },
                                {
                                    "EmployeeId": "5",
                                    "Year": "2012",
                                    "Total": "133.73"
                                },
                                {
                                    "EmployeeId": "3",
                                    "Year": "2013",
                                    "Total": "156.43"
                                },
                                {
                                    "EmployeeId": "4",
                                    "Year": "2013",
                                    "Total": "168.30"
                                },
                                {
                                    "EmployeeId": "5",
                                    "Year": "2013",
                                    "Total": "125.85"
                                }
                            ]
                        },
                        "text/html": [
                            "<table>",
                            "<tr><th>EmployeeId</th><th>Year</th><th>Total</th></tr>",
                            "<tr><td>3</td><td>2009</td><td>123.75</td></tr>",
                            "<tr><td>4</td><td>2009</td><td>161.37</td></tr>",
                            "<tr><td>5</td><td>2009</td><td>164.34</td></tr>",
                            "<tr><td>3</td><td>2010</td><td>221.92</td></tr>",
                            "<tr><td>4</td><td>2010</td><td>122.76</td></tr>",
                            "<tr><td>5</td><td>2010</td><td>136.77</td></tr>",
                            "<tr><td>3</td><td>2011</td><td>184.34</td></tr>",
                            "<tr><td>4</td><td>2011</td><td>125.77</td></tr>",
                            "<tr><td>5</td><td>2011</td><td>159.47</td></tr>",
                            "<tr><td>3</td><td>2012</td><td>146.60</td></tr>",
                            "<tr><td>4</td><td>2012</td><td>197.20</td></tr>",
                            "<tr><td>5</td><td>2012</td><td>133.73</td></tr>",
                            "<tr><td>3</td><td>2013</td><td>156.43</td></tr>",
                            "<tr><td>4</td><td>2013</td><td>168.30</td></tr>",
                            "<tr><td>5</td><td>2013</td><td>125.85</td></tr>",
                            "</table>"
                        ]
                    }
                }
            ],
            "execution_count": 3
        },
        {
            "cell_type": "code",
            "source": [
                "-- Obtener la cantidad de pistas de audio que tengan una duraci´on superior a la duraci´on promedio de todas las pistas de audio. Adem´as, obtener la\r\n",
                "-- sumatoria de la duraci´on de todas esas pistas en minutos.\r\n",
                "\r\n",
                "SELECT COUNT(*) as 'Cantidad', SUM(t.Milliseconds/60000) as 'Sumatoria'\r\n",
                "FROM Track t \r\n",
                "WHERE t.Milliseconds > (select AVG(t2.Milliseconds) from Track t2)\r\n",
                "\r\n",
                "-- Nooooooooooooo esto no esta bien, no son todos los tracks de audio, hay algunos que no son audio, da un resultado INCORRECTO\r\n",
                "\r\n",
                "-- ESTO QUE SIGUE ESTA BIEN --> FILTRAMOS POR TRACKS DE AUDIO\r\n",
                "\r\n",
                "SELECT COUNT(*) as 'Cantidad', SUM(t.Milliseconds/60000) as 'Sumatoria'\r\n",
                "FROM Track t\r\n",
                "INNER JOIN MediaType m ON m.MediaTypeId = t.MediaTypeId\r\n",
                "WHERE m.Name LIKE '%audio%' \r\n",
                "    AND t.Milliseconds > (\r\n",
                "        SELECT AVG(t2.Milliseconds)\r\n",
                "        FROM Track t2\r\n",
                "        INNER JOIN MediaType m2 ON m2.MediaTypeId = t2.MediaTypeId\r\n",
                "        WHERE m2.Name LIKE '%audio%'\r\n",
                "    )"
            ],
            "metadata": {
                "language": "sql",
                "azdata_cell_guid": "9e9b621b-8207-48d6-afcc-78c2e5dba1f3"
            },
            "outputs": [
                {
                    "output_type": "display_data",
                    "data": {
                        "text/html": "(1 row affected)"
                    },
                    "metadata": {}
                },
                {
                    "output_type": "display_data",
                    "data": {
                        "text/html": "(1 row affected)"
                    },
                    "metadata": {}
                },
                {
                    "output_type": "display_data",
                    "data": {
                        "text/html": "Total execution time: 00:00:00.048"
                    },
                    "metadata": {}
                },
                {
                    "output_type": "execute_result",
                    "metadata": {},
                    "execution_count": 4,
                    "data": {
                        "application/vnd.dataresource+json": {
                            "schema": {
                                "fields": [
                                    {
                                        "name": "Cantidad"
                                    },
                                    {
                                        "name": "Sumatoria"
                                    }
                                ]
                            },
                            "data": [
                                {
                                    "Cantidad": "494",
                                    "Sumatoria": "10542"
                                }
                            ]
                        },
                        "text/html": [
                            "<table>",
                            "<tr><th>Cantidad</th><th>Sumatoria</th></tr>",
                            "<tr><td>494</td><td>10542</td></tr>",
                            "</table>"
                        ]
                    }
                },
                {
                    "output_type": "execute_result",
                    "metadata": {},
                    "execution_count": 4,
                    "data": {
                        "application/vnd.dataresource+json": {
                            "schema": {
                                "fields": [
                                    {
                                        "name": "Cantidad"
                                    },
                                    {
                                        "name": "Sumatoria"
                                    }
                                ]
                            },
                            "data": [
                                {
                                    "Cantidad": "1345",
                                    "Sumatoria": "7260"
                                }
                            ]
                        },
                        "text/html": [
                            "<table>",
                            "<tr><th>Cantidad</th><th>Sumatoria</th></tr>",
                            "<tr><td>1345</td><td>7260</td></tr>",
                            "</table>"
                        ]
                    }
                }
            ],
            "execution_count": 4
        },
        {
            "cell_type": "code",
            "source": [
                "-- Crear una vista que devuelva las playlists que tienen al menos una pista del g´enero “Rock”.\r\n",
                "\r\n",
                "CREATE OR ALTER VIEW playlists_rock AS\r\n",
                "SELECT p.PlaylistId, p.Name\r\n",
                "FROM Playlist p\r\n",
                "WHERE p.PlaylistId in (\r\n",
                "    SELECT p2.PlaylistId\r\n",
                "    FROM Playlist p2\r\n",
                "    INNER JOIN PlaylistTrack pt on pt.PlaylistId = p2.PlaylistId\r\n",
                "    INNER JOIN Track t on t.TrackId = pt.TrackId\r\n",
                "    INNER JOIN Genre g on g.GenreId = t.GenreId\r\n",
                "    WHERE g.Name = 'Rock'\r\n",
                ")"
            ],
            "metadata": {
                "language": "sql",
                "azdata_cell_guid": "8bd3e413-d1c6-46f1-bf94-6ba31bcce205"
            },
            "outputs": [
                {
                    "output_type": "display_data",
                    "data": {
                        "text/html": "Commands completed successfully."
                    },
                    "metadata": {}
                },
                {
                    "output_type": "display_data",
                    "data": {
                        "text/html": "Total execution time: 00:00:00.012"
                    },
                    "metadata": {}
                }
            ],
            "execution_count": 5
        },
        {
            "cell_type": "code",
            "source": [
                "-- Utilizando la vista, obtener la cantidad de playlists que no poseen pistas de dicho g´enero.\r\n",
                "SELECT COUNT(*) AS 'Cantidad'\r\n",
                "FROM Playlist p\r\n",
                "WHERE p.PlaylistId NOT IN (SELECT PlaylistId FROM playlists_rock)"
            ],
            "metadata": {
                "language": "sql",
                "azdata_cell_guid": "979ea2a4-17c0-4815-b3c1-26a94ab61e0d",
                "tags": []
            },
            "outputs": [
                {
                    "output_type": "display_data",
                    "data": {
                        "text/html": "(1 row affected)"
                    },
                    "metadata": {}
                },
                {
                    "output_type": "display_data",
                    "data": {
                        "text/html": "Total execution time: 00:00:00.033"
                    },
                    "metadata": {}
                },
                {
                    "output_type": "execute_result",
                    "metadata": {},
                    "execution_count": 6,
                    "data": {
                        "application/vnd.dataresource+json": {
                            "schema": {
                                "fields": [
                                    {
                                        "name": "Cantidad"
                                    }
                                ]
                            },
                            "data": [
                                {
                                    "Cantidad": "13"
                                }
                            ]
                        },
                        "text/html": [
                            "<table>",
                            "<tr><th>Cantidad</th></tr>",
                            "<tr><td>13</td></tr>",
                            "</table>"
                        ]
                    }
                }
            ],
            "execution_count": 6
        },
        {
            "cell_type": "code",
            "source": [
                "-- Obtener las playlists m´as caras. Hint: primero obtener el ‘precio’ de cada playlist.\r\n",
                "\r\n",
                "WITH precios AS (\r\n",
                "    SELECT pt.PlaylistId, SUM(t.UnitPrice) as 'precio'\r\n",
                "    FROM PlaylistTrack pt\r\n",
                "    INNER JOIN Track t ON t.TrackId = pt.TrackId\r\n",
                "    GROUP BY pt.PlaylistId\r\n",
                ")\r\n",
                "\r\n",
                "SELECT p.PlaylistId, p.Name \r\n",
                "FROM Playlist p\r\n",
                "INNER JOIN precios pr on pr.PlaylistId = p.PlaylistId\r\n",
                "WHERE pr.precio in (SELECT MAX(pr2.precio) FROM precios pr2)\r\n",
                ""
            ],
            "metadata": {
                "language": "sql",
                "azdata_cell_guid": "4b958dd3-d873-42de-b3c3-7580ff6efb3d"
            },
            "outputs": [
                {
                    "output_type": "display_data",
                    "data": {
                        "text/html": "(2 rows affected)"
                    },
                    "metadata": {}
                },
                {
                    "output_type": "display_data",
                    "data": {
                        "text/html": "Total execution time: 00:00:00.023"
                    },
                    "metadata": {}
                },
                {
                    "output_type": "execute_result",
                    "metadata": {},
                    "execution_count": 7,
                    "data": {
                        "application/vnd.dataresource+json": {
                            "schema": {
                                "fields": [
                                    {
                                        "name": "PlaylistId"
                                    },
                                    {
                                        "name": "Name"
                                    }
                                ]
                            },
                            "data": [
                                {
                                    "PlaylistId": "1",
                                    "Name": "Music"
                                },
                                {
                                    "PlaylistId": "8",
                                    "Name": "Music"
                                }
                            ]
                        },
                        "text/html": [
                            "<table>",
                            "<tr><th>PlaylistId</th><th>Name</th></tr>",
                            "<tr><td>1</td><td>Music</td></tr>",
                            "<tr><td>8</td><td>Music</td></tr>",
                            "</table>"
                        ]
                    }
                }
            ],
            "execution_count": 7
        }
    ]
}